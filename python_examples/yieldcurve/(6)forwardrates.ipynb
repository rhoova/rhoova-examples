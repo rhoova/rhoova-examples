{
 "cells": [
  {
   "cell_type": "code",
   "execution_count": 1,
   "id": "tamil-retrieval",
   "metadata": {},
   "outputs": [],
   "source": [
    "import json\n",
    "import pandas as pd\n",
    "import numpy as np\n",
    "from datetime import datetime\n",
    "import prettytable as pt\n",
    "from matplotlib import pyplot as plt\n",
    "import os \n",
    "import warnings\n",
    "warnings.filterwarnings(\"ignore\")\n",
    "\n",
    "###################################################################################################\n",
    "                                                                                                  #\n",
    "from rhoova.Client import *                                                                       #   \n",
    "#Register and get api key from https://app.rhoova.com/ for ClientConfig(\"api key\", \"api secret\")  #\n",
    "config = ClientConfig(\"\", \"\")                                                                     #\n",
    "api = Api(config)                                                                                 # \n",
    "                                                                                                  #\n",
    "###################################################################################################\n",
    "\n",
    "directory = os.path.normpath(os.getcwd() + os.sep + os.pardir)\n",
    "datadirectory=directory+\"/data/yielddata/yielddata.csv\"\n",
    "\n",
    "yielddata = pd.read_csv(datadirectory)\n",
    "yielddata = yielddata.replace(np.nan, '', regex=True) \n"
   ]
  },
  {
   "cell_type": "code",
   "execution_count": 2,
   "id": "sized-appeal",
   "metadata": {},
   "outputs": [],
   "source": [
    "# Fix parameters for building yield curve instruments\n",
    "instrumentsconfig={\n",
    "            \"DEPO\": {\n",
    "                \"businessDayConvention\": \"ModifiedFollowing\",\n",
    "                \"dayCounter\": \"Actual360\"\n",
    "            },\n",
    "            \"FUTURES\": {\n",
    "                \"businessDayConvention\": \"ModifiedFollowing\",\n",
    "                \"dayCounter\": \"Actual360\",\n",
    "                \"market\": \"IMM\",\n",
    "                \"usedates\": True\n",
    "            },\n",
    "            \"IRS\": {\n",
    "                \"businessDayConvention\": \"ModifiedFollowing\",\n",
    "                \"dayCounter\": \"Thirty360\",\n",
    "                \"frequency\": \"Semiannual\"\n",
    "            }\n",
    "        } "
   ]
  },
  {
   "cell_type": "code",
   "execution_count": 3,
   "id": "current-funeral",
   "metadata": {},
   "outputs": [],
   "source": [
    "# Fix parameters for building yield curve\n",
    "\n",
    "yieldcurveconfig={\n",
    "        \"settlementDays\": 2,\n",
    "        \"intpMethod\": \"LINEAR\",\n",
    "        \"currency\": \"USD\",\n",
    "        \"calendar\": \"UnitedStates\",\n",
    "        \"dayCounter\": \"Thirty360\",\n",
    "        \"period\": \"3M\",\n",
    "        \"instruments\":instrumentsconfig,}"
   ]
  },
  {
   "cell_type": "code",
   "execution_count": 4,
   "id": "exterior-christian",
   "metadata": {},
   "outputs": [],
   "source": [
    "#get specific date zero rates\n",
    "yieldcurve =  {\n",
    "    \"valuationDate\": \"2021-06-02\",\n",
    "    \"zeroRates\": {\n",
    "        \"analysisDates\":['2021-12-06','2022-06-06','2022-12-05','2023-06-05','2023-12-04',\n",
    "                        '2024-06-04','2024-12-04','2025-06-04','2025-12-04','2026-06-04'],\n",
    "        \"compounding\": \"Continuous\",\n",
    "        \"frequency\": \"Annual\",\n",
    "        \"dayCounter\":\"Actual360\"\n",
    "\n",
    "    },\n",
    "    \"yieldCurve\":yieldcurveconfig ,\n",
    "    \"yieldData\": yielddata.to_dict('r')\n",
    "}\n",
    "try:\n",
    "    result = api.createTask(CalculationType.YIELD_CURVE, yieldcurve,True)\n",
    "    result=json.loads(result[\"result\"])\n",
    "except RhoovaError as e:\n",
    "    e.printPretty()"
   ]
  },
  {
   "cell_type": "code",
   "execution_count": 5,
   "id": "smart-legend",
   "metadata": {},
   "outputs": [],
   "source": [
    "zerorates=result.get(\"zeroRates\"),\n",
    "discountrates=result.get(\"discountRates\")\n",
    "dates=[]\n",
    "forwarddates= {}\n",
    "rhoovayieldcurvedicts = {}\n",
    "rhoovayieldcurvediscounts = {}\n",
    "rhoovaforwardrates={}\n",
    "for rhvzr in zerorates[0]:\n",
    "    rhoovayieldcurvedicts[datetime.strptime(rhvzr.get('date'),'%Y-%m-%d').date()] = rhvzr.get('rate')*100\n",
    "    dates.append(rhvzr.get('date'))\n"
   ]
  },
  {
   "cell_type": "code",
   "execution_count": 6,
   "id": "76a1ef20",
   "metadata": {},
   "outputs": [
    {
     "name": "stdout",
     "output_type": "stream",
     "text": [
      "+------------+------------------+\n",
      "|  Maturity  | Rhoova ZeroRates |\n",
      "+------------+------------------+\n",
      "| 2021-12-06 |     0.125027     |\n",
      "| 2022-06-06 |     0.143705     |\n",
      "| 2022-12-05 |     0.169064     |\n",
      "| 2023-06-05 |     0.224579     |\n",
      "| 2023-12-04 |     0.319621     |\n",
      "| 2024-06-04 |     0.415170     |\n",
      "| 2024-12-04 |     0.532930     |\n",
      "| 2025-06-04 |     0.651116     |\n",
      "| 2025-12-04 |     0.760225     |\n",
      "| 2026-06-04 |     0.869801     |\n",
      "+------------+------------------+\n"
     ]
    }
   ],
   "source": [
    "pTable = pt.PrettyTable(['Maturity','Rhoova ZeroRates'])\n",
    "i=0\n",
    "for key, val in rhoovayieldcurvedicts.items():\n",
    "    pTable.add_row([key, val])\n",
    "    i=i+1\n",
    "pTable.align = 'c'\n",
    "pTable.float_format = '.6'\n",
    "print(pTable)"
   ]
  },
  {
   "cell_type": "code",
   "execution_count": 7,
   "id": "printable-mercury",
   "metadata": {},
   "outputs": [],
   "source": [
    "#get specific date zero rates\n",
    "yieldcurve =  {\n",
    "    \"valuationDate\": \"2021-06-02\",\n",
    "    \"discountRates\": {\n",
    "        \"analysisDates\":['2021-12-06','2022-06-06','2022-12-05','2023-06-05','2023-12-04',\n",
    "                        '2024-06-04','2024-12-04','2025-06-04','2025-12-04','2026-06-04']    },\n",
    "    \"yieldCurve\":yieldcurveconfig ,\n",
    "    \"yieldData\": yielddata.to_dict('r')\n",
    "}\n",
    "try:\n",
    "    result = api.createTask(CalculationType.YIELD_CURVE, yieldcurve,True)\n",
    "    result=json.loads(result[\"result\"])\n",
    "except RhoovaError as e:\n",
    "    e.printPretty()"
   ]
  },
  {
   "cell_type": "code",
   "execution_count": 8,
   "id": "47823d51",
   "metadata": {},
   "outputs": [],
   "source": [
    "discountrates=result.get(\"discountRates\")\n",
    "for rhv in discountrates:\n",
    "    rhoovayieldcurvediscounts[datetime.strptime(rhv.get('date'), '%Y-%m-%d').date()] = rhv.get('rate')"
   ]
  },
  {
   "cell_type": "code",
   "execution_count": 9,
   "id": "f7914b7d",
   "metadata": {},
   "outputs": [
    {
     "name": "stdout",
     "output_type": "stream",
     "text": [
      "+------------+-----------------------+\n",
      "|  Maturity  | Rhoova Discount Rates |\n",
      "+------------+-----------------------+\n",
      "| 2021-12-06 |        0.999358       |\n",
      "| 2022-06-06 |        0.998536       |\n",
      "| 2022-12-05 |        0.997425       |\n",
      "| 2023-06-05 |        0.995450       |\n",
      "| 2023-12-04 |        0.991927       |\n",
      "| 2024-06-04 |        0.987440       |\n",
      "| 2024-12-04 |        0.981244       |\n",
      "| 2025-06-04 |        0.973922       |\n",
      "| 2025-12-04 |        0.965879       |\n",
      "| 2026-06-04 |        0.956841       |\n",
      "+------------+-----------------------+\n"
     ]
    }
   ],
   "source": [
    "pTable = pt.PrettyTable(['Maturity','Rhoova Discount Rates'])\n",
    "i=0\n",
    "for key, val in rhoovayieldcurvediscounts.items():\n",
    "    pTable.add_row([key, val])\n",
    "    i=i+1\n",
    "pTable.align = 'c'\n",
    "pTable.float_format = '.6'\n",
    "print(pTable)"
   ]
  },
  {
   "cell_type": "code",
   "execution_count": 10,
   "id": "283b57d9",
   "metadata": {},
   "outputs": [],
   "source": [
    "#get specific date zero rates\n",
    "yieldcurve =  {\n",
    "    \"valuationDate\": \"2021-06-02\",\n",
    "     \"forwardRates\": {\n",
    "        \"startEndDates\": [\n",
    "            {\n",
    "                \"startDate\": \"2021-12-06\",\n",
    "                \"endDate\": \"2022-03-04\"\n",
    "            },\n",
    "            {\n",
    "                \"startDate\": \"2022-03-04\",\n",
    "                \"endDate\": \"2022-06-06\"\n",
    "            },\n",
    "            {\n",
    "                \"startDate\": \"2022-06-06\",\n",
    "                \"endDate\": \"2022-09-06\"\n",
    "            },\n",
    "            {\n",
    "                \"startDate\": \"2022-12-05\",\n",
    "                \"endDate\": \"2023-03-06\"\n",
    "            }\n",
    "        ],\n",
    "        \"compounding\": \"Continuous\",\n",
    "        \"frequency\": \"Annual\"\n",
    "    },\n",
    "    \"yieldCurve\":yieldcurveconfig ,\n",
    "    \"yieldData\": yielddata.to_dict('r')\n",
    "}\n",
    "try:\n",
    "    result = api.createTask(CalculationType.YIELD_CURVE, yieldcurve,True)\n",
    "    result=json.loads(result[\"result\"])\n",
    "except RhoovaError as e:\n",
    "    e.printPretty()"
   ]
  },
  {
   "cell_type": "code",
   "execution_count": 11,
   "id": "f58a5e34",
   "metadata": {},
   "outputs": [],
   "source": [
    "forwardrates=result.get(\"forwardRates\")\n",
    "for rhv in forwardrates:\n",
    "    rhoovaforwardrates[datetime.strptime(rhv.get('date'), '%Y-%m-%d').date()] = rhv.get('rate')"
   ]
  },
  {
   "cell_type": "code",
   "execution_count": 12,
   "id": "05cc4753",
   "metadata": {},
   "outputs": [
    {
     "name": "stdout",
     "output_type": "stream",
     "text": [
      "+------------+----------------------+\n",
      "| StartDate  | Rhoova Forward Rates |\n",
      "+------------+----------------------+\n",
      "| 2021-12-06 |       0.165680       |\n",
      "| 2022-03-04 |       0.163369       |\n",
      "| 2022-06-06 |       0.192649       |\n",
      "| 2022-12-05 |       0.361546       |\n",
      "+------------+----------------------+\n"
     ]
    }
   ],
   "source": [
    "pTable = pt.PrettyTable(['StartDate','Rhoova Forward Rates'])\n",
    "i=0\n",
    "for key, val in rhoovaforwardrates.items():\n",
    "    pTable.add_row([key, val*100])\n",
    "    i=i+1\n",
    "pTable.align = 'c'\n",
    "pTable.float_format = '.6'\n",
    "print(pTable)"
   ]
  }
 ],
 "metadata": {
  "kernelspec": {
   "display_name": "Python 3 (ipykernel)",
   "language": "python",
   "name": "python3"
  },
  "language_info": {
   "codemirror_mode": {
    "name": "ipython",
    "version": 3
   },
   "file_extension": ".py",
   "mimetype": "text/x-python",
   "name": "python",
   "nbconvert_exporter": "python",
   "pygments_lexer": "ipython3",
   "version": "3.9.9"
  }
 },
 "nbformat": 4,
 "nbformat_minor": 5
}
