{
 "cells": [
  {
   "cell_type": "code",
   "execution_count": 1,
   "id": "bfe25adb",
   "metadata": {},
   "outputs": [
    {
     "name": "stdout",
     "output_type": "stream",
     "text": [
      "{\n",
      "    \"data\": [\n",
      "        {\n",
      "            \"fixingDate\": \"2021-06-21\",\n",
      "            \"accrualStart\": \"2021-06-21\",\n",
      "            \"accrualEnd\": \"2021-06-23\",\n",
      "            \"notional\": 835851,\n",
      "            \"currency\": \"TRY\",\n",
      "            \"leg\": \"Fixed\",\n",
      "            \"payOrReceive\": \"Pay\",\n",
      "            \"instrument\": \"Repo\",\n",
      "            \"rate\": 0.00034999999999210847,\n",
      "            \"zeroRate\": 0.00034999999999210847,\n",
      "            \"spread\": 0,\n",
      "            \"termToMatByDay\": 2,\n",
      "            \"termToMatByYear\": 0.005555555555555556,\n",
      "            \"cashflow\": -835853.2752670972,\n",
      "            \"discountFactor\": 0.999998055557446,\n",
      "            \"cashflowPv\": -835851.6499984199\n",
      "        }\n",
      "    ],\n",
      "    \"pv\": -835851.6499984199,\n",
      "    \"forwardBondPrice\": null,\n",
      "    \"repoDelivery\": -835853.2752670972\n",
      "}\n"
     ]
    }
   ],
   "source": [
    "\n",
    "from rhoova.Client import *\n",
    "\n",
    "config = ClientConfig(\"DReGKkbwTcn0h-Q7NbAav\", \"_G8PORtZLrkzC548IJt926r9cQRAv0jr\")\n",
    "config.apiUrl = \"https://app.rhoova.com/api\"\n",
    "api = Api(config)\n",
    "data = {\n",
    "  \"valuationDate\": \"2021-06-18\",\n",
    "  \"settlementMoney\": 835851.65,\n",
    "  \"termMoney\": None,\n",
    "  \"repoSettlementDate\": \"2021-06-21\",\n",
    "  \"repoDeliveryDate\": \"2021-06-23\",\n",
    "  \"repoType\": \"Repo\",\n",
    "  \"currency\": \"TRY\",\n",
    "  \"dayCounter\": \"Actual360\",\n",
    "  \"notional\": None,\n",
    "  \"marginOrHaircut\": \"Haircut\",\n",
    "  \"marginOrHaircutRate\": 1,\n",
    "  \"dirtyPrice\": None,\n",
    "  \"exdividend\": True,\n",
    "  \"repoRate\": 0.00035,\n",
    "  \"collateral\": None\n",
    "}\n",
    "try:\n",
    "    data = api.createTask(CalculationType.REPO, data, True)\n",
    "    if(data[\"result\"]):\n",
    "      print(json.dumps(json.loads(data[\"result\"]), indent=4))\n",
    "    else:\n",
    "      print(data[\"result\"])\n",
    "except RhoovaError as e:\n",
    "    e.printPretty()\n",
    "\n"
   ]
  },
  {
   "cell_type": "code",
   "execution_count": null,
   "id": "00ed4852",
   "metadata": {},
   "outputs": [],
   "source": []
  }
 ],
 "metadata": {
  "kernelspec": {
   "display_name": "Python 3 (ipykernel)",
   "language": "python",
   "name": "python3"
  },
  "language_info": {
   "codemirror_mode": {
    "name": "ipython",
    "version": 3
   },
   "file_extension": ".py",
   "mimetype": "text/x-python",
   "name": "python",
   "nbconvert_exporter": "python",
   "pygments_lexer": "ipython3",
   "version": "3.9.9"
  }
 },
 "nbformat": 4,
 "nbformat_minor": 5
}
