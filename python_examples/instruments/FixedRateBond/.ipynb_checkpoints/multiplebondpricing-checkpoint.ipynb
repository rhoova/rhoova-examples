{
 "cells": [
  {
   "cell_type": "code",
   "execution_count": 13,
   "id": "17f579a0",
   "metadata": {},
   "outputs": [],
   "source": [
    "import json\n",
    "import pandas as pd\n",
    "import numpy as np\n",
    "from datetime import datetime\n",
    "import prettytable as pt\n",
    "import os\n",
    "import warnings\n",
    "warnings.filterwarnings(\"ignore\")\n",
    "\n",
    "\n",
    "\n",
    "###################################################################################################\n",
    "                                                                                                  #\n",
    "from rhoova.Client import *                                                                       #   \n",
    "#Register and get api key from https://app.rhoova.com/ for ClientConfig(\"api key\", \"api secret\")  #\n",
    "config = ClientConfig(\"\", \"\")                                                                     #\n",
    "api = Api(config)                                                                                 # \n",
    "                                                                                                  #\n",
    "###################################################################################################\n",
    "\n",
    "\n",
    "directory = os.path.normpath(os.getcwd() + os.sep + os.pardir + os.sep + os.pardir)\n",
    "yielddatadirectory=directory+\"/data/yielddata/bonddefiniton.csv\"\n",
    "marketdatadirectory=directory+\"/data/marketdata/marketdata.csv\"\n",
    "bonddefinition=directory+\"/data/yielddata/bonddefinition.xlsm\"\n",
    "\n",
    "\n",
    "bonddefiniton = pd.read_csv(yielddatadirectory)\n",
    "marketdata = pd.read_csv(marketdatadirectory)\n",
    "bondslist=pd.read_excel(bonddefinition,engine='openpyxl')\n",
    "\n",
    "\n",
    "data=bonddefiniton.merge(marketdata[['valuationDate','isinCode','value']], left_on='isinCode', right_on='isinCode')\n"
   ]
  },
  {
   "cell_type": "code",
   "execution_count": 14,
   "id": "4c23158e",
   "metadata": {},
   "outputs": [
    {
     "data": {
      "text/plain": [
       "{'notional': 100,\n",
       " 'valuationDate': '2021-03-05',\n",
       " 'settlementDate': '2021-03-09',\n",
       " 'buySell': 'Sell'}"
      ]
     },
     "execution_count": 14,
     "metadata": {},
     "output_type": "execute_result"
    }
   ],
   "source": [
    "# Fill bond trade information\n",
    "bonddata={}\n",
    "bonddata[\"notional\"]=100\n",
    "bonddata[\"valuationDate\"]=\"2021-03-05\"\n",
    "bonddata[\"settlementDate\"]=\"2021-03-09\"\n",
    "bonddata[\"buySell\"]=\"Sell\"\n",
    "bonddata"
   ]
  },
  {
   "cell_type": "code",
   "execution_count": 15,
   "id": "425a553e",
   "metadata": {},
   "outputs": [
    {
     "data": {
      "text/plain": [
       "{'BONDS': {'settlementDays': 2}}"
      ]
     },
     "execution_count": 15,
     "metadata": {},
     "output_type": "execute_result"
    }
   ],
   "source": [
    "instruments={}\n",
    "bonds={}\n",
    "bonds[\"settlementDays\"]=2\n",
    "instruments[\"BONDS\"]=bonds\n",
    "instruments"
   ]
  },
  {
   "cell_type": "code",
   "execution_count": 22,
   "id": "c0197626",
   "metadata": {},
   "outputs": [
    {
     "data": {
      "text/plain": [
       "{'settlementDays': 2,\n",
       " 'calendar': 'NullCalendar',\n",
       " 'currency': 'USD',\n",
       " 'dayCounter': 'Thirty360',\n",
       " 'period': '6M',\n",
       " 'intpMethod': 'Linear',\n",
       " 'instruments': {'BONDS': {'settlementDays': 2}}}"
      ]
     },
     "execution_count": 22,
     "metadata": {},
     "output_type": "execute_result"
    }
   ],
   "source": [
    "#Define discount curve parameter for pricing bonds.\n",
    "discountCurve={}\n",
    "discountCurve[\"settlementDays\"]=2\n",
    "discountCurve[\"calendar\"]=\"NullCalendar\" \n",
    "discountCurve[\"currency\"]=\"USD\" # Currency is using filter yield data. Only same currency datas are filtered for bond calculation\n",
    "discountCurve[\"dayCounter\"]=\"Thirty360\" # Default value is Actual360\n",
    "discountCurve[\"period\"]=\"6M\" # Can not use if instruments selected BONDS\n",
    "discountCurve[\"intpMethod\"]=\"Linear\" # if method is not null, it will not used\n",
    "discountCurve[\"instruments\"]=instruments\n",
    "discountCurve"
   ]
  },
  {
   "cell_type": "code",
   "execution_count": 23,
   "id": "b1973b9e",
   "metadata": {},
   "outputs": [],
   "source": [
    "yieldData=data.to_dict('r')"
   ]
  },
  {
   "cell_type": "code",
   "execution_count": 24,
   "id": "85e04c47",
   "metadata": {},
   "outputs": [],
   "source": [
    "selectbonds=['US900123DA57','US900123AY60','US900123CG37','US900123CT57','US900123CJ75','US900123CY43','US900123BY51',\n",
    "             'US900123CA66','US900123CV04','US900123CP36','US900123CX69','US900123CL22','US900123BG46']"
   ]
  },
  {
   "cell_type": "code",
   "execution_count": 25,
   "id": "c1132852",
   "metadata": {},
   "outputs": [],
   "source": [
    "selectedbonds_df=bondslist[bondslist['ISIN'].isin(selectbonds)]\n",
    "selectedbonds_df=selectedbonds_df.sort_values(by=['Maturity'])"
   ]
  },
  {
   "cell_type": "code",
   "execution_count": 26,
   "id": "11b0034e",
   "metadata": {},
   "outputs": [],
   "source": [
    "def convertfrequency(num):\n",
    "    if num==1:\n",
    "        res=\"Annual\"\n",
    "    elif num==2:\n",
    "        res=\"Semiannual\"\n",
    "    return res    "
   ]
  },
  {
   "cell_type": "code",
   "execution_count": 27,
   "id": "b48bfc30",
   "metadata": {},
   "outputs": [],
   "source": [
    "fixedRateBondDefinition={}\n",
    "bondpv={}\n",
    "bbprice={}\n",
    "for row,index in selectedbonds_df.iterrows():\n",
    "    fixedRateBondDefinition[\"coupon\"]=index['Coupon']/100\n",
    "    fixedRateBondDefinition[\"issueDate\"]=index['Issue Date'].strftime(\"%Y-%m-%d\")\n",
    "    fixedRateBondDefinition[\"maturityDate\"]=index['Maturity'].strftime(\"%Y-%m-%d\")\n",
    "    fixedRateBondDefinition[\"frequency\"]=convertfrequency(index[\"Coupon Frequency\"])\n",
    "    fixedRateBondDefinition[\"calendar\"]=\"Turkey\"\n",
    "    fixedRateBondDefinition[\"businessDayConvention\"]=\"Unadjusted\"\n",
    "    fixedRateBondDefinition[\"maturityDateConvention\"]=\"Unadjusted\"\n",
    "    fixedRateBondDefinition[\"dateGeneration\"]=\"Backward\"\n",
    "    fixedRateBondDefinition[\"endOfMonth\"]=True\n",
    "    fixedRateBondDefinition[\"currency\"]=index['Currency']\n",
    "    fixedRateBondDefinition[\"dayCounter\"]=\"Thirty360\"\n",
    "    fixedRateBondDefinition[\"redemption\"]=100\n",
    "    bonddata['fixedRateBondDefinition']=fixedRateBondDefinition\n",
    "    bonddata['discountCurve']=discountCurve\n",
    "    bonddata['yieldData']=yieldData\n",
    "    try:\n",
    "        data = api.createTask(CalculationType.FIXED_RATE_BOND, bonddata,True)\n",
    "        result=json.loads(data[\"result\"])\n",
    "    except RhoovaError as e:\n",
    "        e.printPretty()    \n",
    "    bondpv[index['Maturity']] = result.get('cleanPrice')    \n",
    "    bbprice[index['Maturity']] = index['Mid Price']   "
   ]
  },
  {
   "cell_type": "code",
   "execution_count": 28,
   "id": "20f37f4e",
   "metadata": {},
   "outputs": [
    {
     "name": "stdout",
     "output_type": "stream",
     "text": [
      "+---------------------+-----------+----------+\n",
      "|       Maturity      | Bloomberg |  Rhoova  |\n",
      "+---------------------+-----------+----------+\n",
      "| 2022-03-25 00:00:00 |  102.2565 | 102.2565 |\n",
      "| 2023-03-23 00:00:00 |  99.3900  | 99.3900  |\n",
      "| 2024-08-10 00:00:00 |  105.9575 | 105.9575 |\n",
      "| 2025-03-13 00:00:00 |  98.5415  | 98.5415  |\n",
      "| 2026-04-14 00:00:00 |  96.7405  | 96.7405  |\n",
      "| 2027-03-25 00:00:00 |  103.2520 | 103.2520 |\n",
      "| 2028-02-17 00:00:00 |  97.8800  | 97.8800  |\n",
      "| 2029-04-26 00:00:00 |  110.5380 | 110.5380 |\n",
      "| 2030-03-13 00:00:00 |  94.9505  | 94.9505  |\n",
      "| 2031-01-15 00:00:00 |  98.3245  | 98.3245  |\n",
      "| 2036-03-17 00:00:00 |  101.7875 | 101.7875 |\n",
      "| 2040-05-30 00:00:00 |  97.9920  | 98.0008  |\n",
      "| 2045-02-17 00:00:00 |  94.8705  | 94.8705  |\n",
      "+---------------------+-----------+----------+\n"
     ]
    }
   ],
   "source": [
    "pTable = pt.PrettyTable(['Maturity','Bloomberg','Rhoova'])\n",
    "for key, val in bbprice.items():\n",
    "    pTable.add_row([key, val,bondpv.get(key)])\n",
    "pTable.align = 'c'\n",
    "pTable.float_format = '.4'\n",
    "print(pTable)"
   ]
  }
 ],
 "metadata": {
  "kernelspec": {
   "display_name": "Python 3 (ipykernel)",
   "language": "python",
   "name": "python3"
  },
  "language_info": {
   "codemirror_mode": {
    "name": "ipython",
    "version": 3
   },
   "file_extension": ".py",
   "mimetype": "text/x-python",
   "name": "python",
   "nbconvert_exporter": "python",
   "pygments_lexer": "ipython3",
   "version": "3.9.9"
  }
 },
 "nbformat": 4,
 "nbformat_minor": 5
}
