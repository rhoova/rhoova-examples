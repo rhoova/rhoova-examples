{
 "cells": [
  {
   "cell_type": "code",
   "execution_count": 1,
   "id": "17f579a0",
   "metadata": {},
   "outputs": [],
   "source": [
    "import json\n",
    "import pandas as pd\n",
    "import numpy as np\n",
    "from datetime import datetime,timedelta\n",
    "import prettytable as pt\n",
    "from matplotlib import pyplot as plt\n",
    "import os\n",
    "import warnings\n",
    "warnings.filterwarnings(\"ignore\")\n",
    "\n",
    "\n",
    "\n",
    "###################################################################################################\n",
    "                                                                                                  #\n",
    "from rhoova.Client import *                                                                       #   \n",
    "#Register and get api key from https://app.rhoova.com/ for ClientConfig(\"api key\", \"api secret\")  #\n",
    "config = ClientConfig(\"\", \"\")                                                                     #\n",
    "api = Api(config)                                                                                 # \n",
    "                                                                                                  #\n",
    "###################################################################################################\n",
    "\n",
    "\n",
    "directory = os.path.normpath(os.getcwd() + os.sep + os.pardir + os.sep + os.pardir)\n",
    "yielddatadirectory=directory+\"/data/yielddata/bonddefiniton.csv\"\n",
    "marketdatadirectory=directory+\"/data/marketdata/marketdata.csv\"\n",
    "\n",
    "\n",
    "bonddefiniton = pd.read_csv(yielddatadirectory)\n",
    "marketdata = pd.read_csv(marketdatadirectory)\n",
    "\n",
    "data=bonddefiniton.merge(marketdata[['valuationDate','isinCode','value']], left_on='isinCode', right_on='isinCode')\n"
   ]
  },
  {
   "cell_type": "code",
   "execution_count": 2,
   "id": "d2c22567",
   "metadata": {},
   "outputs": [
    {
     "data": {
      "text/plain": [
       "{'issueDate': '2014-02-19',\n",
       " 'maturityDate': '2045-02-17',\n",
       " 'frequency': 'Semiannual',\n",
       " 'coupon': 0.06625,\n",
       " 'calendar': 'Turkey',\n",
       " 'currency': 'USD',\n",
       " 'dateGeneration': 'Backward',\n",
       " 'dayCounter': 'Thirty360',\n",
       " 'businessDayConvention': 'Unadjusted',\n",
       " 'maturityDateConvention': 'Unadjusted',\n",
       " 'redemption': 100,\n",
       " 'endOfMonth': True}"
      ]
     },
     "execution_count": 2,
     "metadata": {},
     "output_type": "execute_result"
    }
   ],
   "source": [
    "# Rhoova expects date,convention,calendar input  as a string. Frequency values are Semiannual, Annual etc.\n",
    "#6M,1Y cant be accepted.All inputs for fixedratebond are in https://app.rhoova.com/docs#post-/tasks/fixed-rate-bond\n",
    "\n",
    "#Create empty dictionary to fill bond definition. Dictionary name is not case sensitive.\n",
    "#It has to be define fixedRateBondDefinition\n",
    "\n",
    "fixedRateBondDefinition={}\n",
    "fixedRateBondDefinition[\"issueDate\"]=\"2014-02-19\"\n",
    "fixedRateBondDefinition[\"maturityDate\"]=\"2045-02-17\"\n",
    "fixedRateBondDefinition[\"frequency\"]=\"Semiannual\"\n",
    "fixedRateBondDefinition[\"coupon\"]=0.06625\n",
    "fixedRateBondDefinition[\"calendar\"]=\"Turkey\"\n",
    "fixedRateBondDefinition[\"currency\"]=\"USD\"\n",
    "fixedRateBondDefinition[\"dateGeneration\"]=\"Backward\"\n",
    "fixedRateBondDefinition[\"dayCounter\"]=\"Thirty360\"\n",
    "fixedRateBondDefinition[\"businessDayConvention\"]=\"Unadjusted\"\n",
    "fixedRateBondDefinition[\"maturityDateConvention\"]=\"Unadjusted\"\n",
    "fixedRateBondDefinition[\"redemption\"]=100\n",
    "fixedRateBondDefinition[\"endOfMonth\"]=True\n",
    "fixedRateBondDefinition"
   ]
  },
  {
   "cell_type": "code",
   "execution_count": 3,
   "id": "425a553e",
   "metadata": {},
   "outputs": [
    {
     "data": {
      "text/plain": [
       "{'BONDS': {'settlementDays': 2}}"
      ]
     },
     "execution_count": 3,
     "metadata": {},
     "output_type": "execute_result"
    }
   ],
   "source": [
    "instruments={}\n",
    "bonds={}\n",
    "bonds[\"settlementDays\"]=2\n",
    "instruments[\"BONDS\"]=bonds\n",
    "instruments"
   ]
  },
  {
   "cell_type": "code",
   "execution_count": 4,
   "id": "c0197626",
   "metadata": {},
   "outputs": [
    {
     "data": {
      "text/plain": [
       "{'settlementDays': 2,\n",
       " 'calendar': 'NullCalendar',\n",
       " 'currency': 'USD',\n",
       " 'dayCounter': 'Thirty360',\n",
       " 'period': '6M',\n",
       " 'intpMethod': 'Linear',\n",
       " 'instruments': {'BONDS': {'settlementDays': 2}}}"
      ]
     },
     "execution_count": 4,
     "metadata": {},
     "output_type": "execute_result"
    }
   ],
   "source": [
    "#Define discount curve parameter for pricing bonds.\n",
    "discountCurve={}\n",
    "discountCurve[\"settlementDays\"]=2\n",
    "discountCurve[\"calendar\"]=\"NullCalendar\" \n",
    "discountCurve[\"currency\"]=\"USD\" # Currency is using filter yield data. Only same currency datas are filtered for bond calculation\n",
    "discountCurve[\"dayCounter\"]=\"Thirty360\" # Default value is Actual360\n",
    "discountCurve[\"period\"]=\"6M\" # Can not use if instruments selected BONDS\n",
    "discountCurve[\"intpMethod\"]=\"Linear\" # if method is not null, it will not used\n",
    "discountCurve[\"instruments\"]=instruments\n",
    "discountCurve"
   ]
  },
  {
   "cell_type": "code",
   "execution_count": 5,
   "id": "4c23158e",
   "metadata": {},
   "outputs": [
    {
     "data": {
      "text/plain": [
       "{'notional': 100,\n",
       " 'valuationDate': '2021-03-05',\n",
       " 'settlementDate': '2021-03-09',\n",
       " 'buySell': 'Sell'}"
      ]
     },
     "execution_count": 5,
     "metadata": {},
     "output_type": "execute_result"
    }
   ],
   "source": [
    "# Fill bond trade information\n",
    "positiondata={}\n",
    "positiondata[\"notional\"]=100\n",
    "positiondata[\"valuationDate\"]=\"2021-03-05\"\n",
    "positiondata[\"settlementDate\"]=\"2021-03-09\"\n",
    "positiondata[\"buySell\"]=\"Sell\"\n",
    "positiondata"
   ]
  },
  {
   "cell_type": "code",
   "execution_count": 6,
   "id": "71e5be5b",
   "metadata": {},
   "outputs": [],
   "source": [
    "#Join all data\n",
    "positiondata[\"fixedRateBondDefinition\"]=fixedRateBondDefinition\n",
    "positiondata[\"discountCurve\"]=discountCurve\n",
    "positiondata[\"yieldData\"]=data.to_dict('r')\n"
   ]
  },
  {
   "cell_type": "code",
   "execution_count": 7,
   "id": "8f4e938e",
   "metadata": {},
   "outputs": [],
   "source": [
    "try:\n",
    "    bondresult = api.createTask(CalculationType.FIXED_RATE_BOND, positiondata,True)\n",
    "    result=json.loads(bondresult[\"result\"])\n",
    "except RhoovaError as e:\n",
    "    e.printPretty()    "
   ]
  },
  {
   "cell_type": "code",
   "execution_count": 8,
   "id": "322eedd4",
   "metadata": {
    "scrolled": false
   },
   "outputs": [
    {
     "name": "stdout",
     "output_type": "stream",
     "text": [
      "+-------------------+---------+\n",
      "|        Parameters |   Value |\n",
      "+-------------------+---------+\n",
      "|                PV |  95.267 |\n",
      "|       Clean Price |  94.871 |\n",
      "|       Dirty Price |  95.275 |\n",
      "|    Accrued Amount |   0.405 |\n",
      "| Yield to Maturity |   7.072 |\n",
      "|          Duration |  11.970 |\n",
      "| Modified Duration |  11.561 |\n",
      "| Macualay Duration |  11.970 |\n",
      "|         Convexity | 203.778 |\n",
      "|               Bps |   0.115 |\n",
      "+-------------------+---------+\n"
     ]
    }
   ],
   "source": [
    "npvTable = pt.PrettyTable(['Parameters', 'Value'])\n",
    "npvTable.add_row(['PV', result.get('pv')])\n",
    "npvTable.add_row(['Clean Price', result.get('cleanPrice')])\n",
    "npvTable.add_row(['Dirty Price', result.get('dirtyPrice')])\n",
    "npvTable.add_row(['Accrued Amount', result.get('accruedAmount')])\n",
    "npvTable.add_row(['Yield to Maturity', 100*result.get('yieldToMaturity')])\n",
    "npvTable.add_row(['Duration', result.get('duration')])\n",
    "npvTable.add_row(['Modified Duration', result.get('modifiedDuration')])\n",
    "npvTable.add_row(['Macualay Duration', result.get('macaulayDuration')])\n",
    "npvTable.add_row(['Convexity', result.get('convexity')])\n",
    "npvTable.add_row(['Bps', result.get('bps')])\n",
    "npvTable.align = 'r'\n",
    "npvTable.float_format = '.3'\n",
    "print(npvTable)\n",
    "\n"
   ]
  },
  {
   "cell_type": "code",
   "execution_count": 9,
   "id": "1fdbe39b",
   "metadata": {},
   "outputs": [],
   "source": [
    "yieldCurve ={\n",
    "  \"valuationDate\": \"2021-03-05\",\n",
    "  \"yieldCurve\": discountCurve,\n",
    "  \"yieldData\": data.to_dict('r')\n",
    "}"
   ]
  },
  {
   "cell_type": "code",
   "execution_count": 10,
   "id": "4cd024d8",
   "metadata": {},
   "outputs": [],
   "source": [
    "# get yieldcurve nodes to calcuate keyrate duration\n",
    "try:\n",
    "    ycresult = api.createTask(CalculationType.YIELD_CURVE, yieldCurve,True)\n",
    "    ycresult=json.loads(ycresult[\"result\"])\n",
    "except RhoovaError as e:\n",
    "    e.printPretty()"
   ]
  },
  {
   "cell_type": "code",
   "execution_count": 11,
   "id": "7a361c1e",
   "metadata": {},
   "outputs": [],
   "source": [
    "# convert yieldcurve dates to rhoova applyshocks format\n",
    "dates=[]\n",
    "times = []\n",
    "firstdate=ycresult.get(\"zeroRates\")[0].get(\"date\")\n",
    "valuationdate=datetime.strptime(firstdate, '%Y-%m-%d')\n",
    "for dt in ycresult.get(\"zeroRates\"):\n",
    "    date_time_obj = datetime.strptime(dt.get(\"date\"), '%Y-%m-%d')\n",
    "    days=date_time_obj-valuationdate\n",
    "    if int(days.days)!=0:\n",
    "        times.append(str(days.days)+\"D\")\n",
    "        dates.append(dt.get(\"date\"))"
   ]
  },
  {
   "cell_type": "code",
   "execution_count": 12,
   "id": "0c675903",
   "metadata": {},
   "outputs": [],
   "source": [
    "keyrisk = []\n",
    "dirtyprice=result.get('dirtyPrice')\n",
    "bp=1\n",
    "for dt in times:\n",
    "    discountCurve['applyShock']={\"method\": \"keyrate\",\"shockValues\" : [{\"tenor\":dt,\"shockValue\" : bp}]}\n",
    "    try:\n",
    "        bondresult1 = api.createTask(CalculationType.FIXED_RATE_BOND, positiondata,True)\n",
    "        result1=json.loads(bondresult1[\"result\"])\n",
    "    except RhoovaError as e:\n",
    "        e.printPretty() \n",
    "    \n",
    "    discountCurve['applyShock']={\"method\": \"keyrate\",\"shockValues\" : [{\"tenor\":dt,\"shockValue\" : -1*bp}]}\n",
    "    try:\n",
    "        bondresult2 = api.createTask(CalculationType.FIXED_RATE_BOND, positiondata,True)\n",
    "        result2=json.loads(bondresult2[\"result\"])\n",
    "    except RhoovaError as e:\n",
    "        e.printPretty() \n",
    "    \n",
    "    dirtyprice1=result1.get('dirtyPrice')\n",
    "    dirtyprice2=result2.get('dirtyPrice')\n",
    "    keyrate=-1*(dirtyprice1-dirtyprice2)/((2*bp/10000)*dirtyprice)\n",
    "    keyrisk.append(keyrate)\n"
   ]
  },
  {
   "cell_type": "code",
   "execution_count": 13,
   "id": "a7e48c58",
   "metadata": {},
   "outputs": [
    {
     "name": "stderr",
     "output_type": "stream",
     "text": [
      "No artists with labels found to put in legend.  Note that artists whose label start with an underscore are ignored when legend() is called with no argument.\n"
     ]
    },
    {
     "data": {
      "image/png": "[encoded data removed]",
      "text/plain": [
       "<Figure size 1440x720 with 1 Axes>"
      ]
     },
     "metadata": {
      "needs_background": "light"
     },
     "output_type": "display_data"
    }
   ],
   "source": [
    "fig, ax = plt.subplots(figsize=(20, 10))\n",
    "\n",
    "x=dates\n",
    "y =keyrisk \n",
    "\n",
    "ax.bar(x,y)\n",
    "\n",
    "leg = ax.legend(prop={'size': 16});\n",
    "plt.grid(linestyle='dashdot')\n",
    "plt.xticks(rotation=45, ha='right')\n",
    "ax.set(xlabel='Dates', ylabel='Duration',\n",
    "       title='Key Rate Duration')\n",
    "plt.show()"
   ]
  },
  {
   "cell_type": "code",
   "execution_count": 14,
   "id": "47aea183",
   "metadata": {},
   "outputs": [
    {
     "name": "stdout",
     "output_type": "stream",
     "text": [
      "+------------+----------+\n",
      "|   Dates    | Duration |\n",
      "+------------+----------+\n",
      "| 2021-03-30 |  0.0123  |\n",
      "| 2022-03-25 |  0.0448  |\n",
      "| 2022-09-26 |  0.0504  |\n",
      "| 2023-03-23 |  0.0867  |\n",
      "| 2023-12-25 |  0.0757  |\n",
      "| 2024-03-22 |  0.0568  |\n",
      "| 2024-08-12 |  0.0950  |\n",
      "| 2024-11-14 |  0.0078  |\n",
      "| 2025-02-05 |  0.0773  |\n",
      "| 2025-03-13 |  0.0689  |\n",
      "| 2025-10-14 |  0.0921  |\n",
      "| 2026-01-26 |  0.0977  |\n",
      "| 2026-04-14 |  0.0785  |\n",
      "| 2026-10-09 |  0.1349  |\n",
      "| 2027-03-25 |  0.2036  |\n",
      "| 2028-02-17 |  0.2794  |\n",
      "| 2028-10-24 |  0.1874  |\n",
      "| 2029-04-27 |  0.2067  |\n",
      "| 2030-01-15 |  0.1503  |\n",
      "| 2030-03-13 |  0.1908  |\n",
      "| 2031-01-15 |  0.2401  |\n",
      "| 2031-06-26 |  0.5637  |\n",
      "| 2034-02-14 |  0.8832  |\n",
      "| 2036-03-17 |  0.7335  |\n",
      "| 2038-03-05 |  0.7346  |\n",
      "| 2040-05-30 |  0.4623  |\n",
      "| 2041-01-14 |  0.4836  |\n",
      "| 2043-04-16 |  0.6780  |\n",
      "| 2045-02-17 |  4.2721  |\n",
      "| 2047-05-13 | -0.0000  |\n",
      "| ---------- | -------- |\n",
      "|  Duration  | 11.2483  |\n",
      "+------------+----------+\n"
     ]
    }
   ],
   "source": [
    "pTable = pt.PrettyTable(['Dates','Duration'])\n",
    "for i in range(0,len(dates)):\n",
    "    pTable.add_row([dates[i],keyrisk[i] ])\n",
    "pTable.align = 'c'\n",
    "pTable.float_format = '.4'\n",
    "pTable.add_row([\"----------\",\"--------\"])\n",
    "pTable.add_row([\"Duration\",sum(keyrisk)])\n",
    "print(pTable)"
   ]
  }
 ],
 "metadata": {
  "kernelspec": {
   "display_name": "Python 3 (ipykernel)",
   "language": "python",
   "name": "python3"
  },
  "language_info": {
   "codemirror_mode": {
    "name": "ipython",
    "version": 3
   },
   "file_extension": ".py",
   "mimetype": "text/x-python",
   "name": "python",
   "nbconvert_exporter": "python",
   "pygments_lexer": "ipython3",
   "version": "3.9.9"
  }
 },
 "nbformat": 4,
 "nbformat_minor": 5
}
