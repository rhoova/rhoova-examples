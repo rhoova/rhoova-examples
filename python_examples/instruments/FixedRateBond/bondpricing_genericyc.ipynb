{
 "cells": [
  {
   "cell_type": "code",
   "execution_count": 1,
   "id": "17f579a0",
   "metadata": {},
   "outputs": [],
   "source": [
    "import json\n",
    "import pandas as pd\n",
    "import numpy as np\n",
    "from datetime import datetime\n",
    "import prettytable as pt\n",
    "import os\n",
    "import warnings\n",
    "warnings.filterwarnings(\"ignore\")\n",
    "\n",
    "\n",
    "\n",
    "###################################################################################################\n",
    "                                                                                                  #\n",
    "from rhoova.Client import *                                                                       #   \n",
    "#Register and get api key from https://app.rhoova.com/ for ClientConfig(\"api key\", \"api secret\")  #\n",
    "config = ClientConfig(\"\", \"\")                                                                     #\n",
    "api = Api(config)                                                                                 # \n",
    "                                                                                                  #\n",
    "###################################################################################################\n",
    "\n",
    "\n",
    "directory = os.path.normpath(os.getcwd() + os.sep + os.pardir + os.sep + os.pardir)\n",
    "yielddatadirectory=directory+\"/data/yielddata/yielddata.csv\"\n",
    "\n",
    "yielddata = pd.read_csv(yielddatadirectory)\n",
    "yielddata = yielddata.replace(np.nan, '', regex=True) "
   ]
  },
  {
   "cell_type": "code",
   "execution_count": 8,
   "id": "91594955",
   "metadata": {},
   "outputs": [],
   "source": [
    "data = {\n",
    "  \"notional\": 100,\n",
    "  \"valuationDate\": \"2021-03-05\",\n",
    "  \"settlementDate\": \"2021-03-09\",\n",
    "  \"buySell\": \"Buy\",\n",
    "  \"fixedRateBondDefinition\": {\n",
    "    \"businessDayConvention\": \"Unadjusted\",\n",
    "    \"calendar\": \"Turkey\",\n",
    "    \"coupon\": 0.06625,\n",
    "    \"currency\": \"USD\",\n",
    "    \"dateGeneration\": \"Backward\",\n",
    "    \"dayCounter\": \"Actual360\",\n",
    "    \"endOfMonth\": True,\n",
    "    \"frequency\": \"Semiannual\",\n",
    "    \"issueDate\": \"2014-02-19\",\n",
    "    \"maturityDate\": \"2045-02-17\",\n",
    "    \"maturityDateConvention\": \"Unadjusted\",\n",
    "    \"redemption\": 100\n",
    "  },\n",
    "  \"discountCurve\": {\n",
    "    \"settlementDays\": 2,\n",
    "    \"intpMethod\": \"LINEAR\",\n",
    "    \"currency\": \"USD\",\n",
    "    \"calendar\": \"NullCalendar\",\n",
    "    \"dayCounter\": \"Thirty360\",\n",
    "    \"period\": \"3M\",\n",
    "    \"instruments\": {\n",
    "      \"IRS\": {\n",
    "        \"frequency\": \"Semiannual\",\n",
    "        \"businessDayConvention\": \"Following\",\n",
    "        \"dayCounter\": \"Actual360\"\n",
    "      },\n",
    "      \"DEPO\": {\n",
    "        \"businessDayConvention\": \"Following\",\n",
    "        \"dayCounter\": \"Actual360\"\n",
    "      }\n",
    "    }\n",
    "  },\n",
    "  \"yieldData\": yielddata.to_dict('r')\n",
    "}\n"
   ]
  },
  {
   "cell_type": "code",
   "execution_count": 9,
   "id": "612df8fc",
   "metadata": {},
   "outputs": [],
   "source": [
    "try:\n",
    "    data = api.createTask(CalculationType.FIXED_RATE_BOND, data,True)\n",
    "    result=json.loads(data[\"result\"])\n",
    "except RhoovaError as e:\n",
    "    e.printPretty()"
   ]
  },
  {
   "cell_type": "code",
   "execution_count": 10,
   "id": "322eedd4",
   "metadata": {},
   "outputs": [
    {
     "name": "stdout",
     "output_type": "stream",
     "text": [
      "+-------------------+----------+\n",
      "|        Parameters |    Value |\n",
      "+-------------------+----------+\n",
      "|                PV | 191.1105 |\n",
      "|       Clean Price | 190.7436 |\n",
      "|       Dirty Price | 191.1117 |\n",
      "|    Accrued Amount |   0.3681 |\n",
      "| Yield to Maturity |   1.9285 |\n",
      "|          Duration |  15.6519 |\n",
      "| Modified Duration |  15.5024 |\n",
      "| Macualay Duration |  15.6519 |\n",
      "|         Convexity | 316.0006 |\n",
      "|               Bps |   0.1938 |\n",
      "+-------------------+----------+\n"
     ]
    }
   ],
   "source": [
    "npvTable = pt.PrettyTable(['Parameters', 'Value'])\n",
    "npvTable.add_row(['PV', result.get('pv')])\n",
    "npvTable.add_row(['Clean Price', result.get('cleanPrice')])\n",
    "npvTable.add_row(['Dirty Price', result.get('dirtyPrice')])\n",
    "npvTable.add_row(['Accrued Amount', result.get('accruedAmount')])\n",
    "npvTable.add_row(['Yield to Maturity', 100*result.get('yieldToMaturity')])\n",
    "npvTable.add_row(['Duration', result.get('duration')])\n",
    "npvTable.add_row(['Modified Duration', result.get('modifiedDuration')])\n",
    "npvTable.add_row(['Macualay Duration', result.get('macaulayDuration')])\n",
    "npvTable.add_row(['Convexity', result.get('convexity')])\n",
    "npvTable.add_row(['Bps', result.get('bps')])\n",
    "npvTable.align = 'r'\n",
    "npvTable.float_format = '.4'\n",
    "print(npvTable)\n",
    "\n"
   ]
  }
 ],
 "metadata": {
  "kernelspec": {
   "display_name": "Python 3 (ipykernel)",
   "language": "python",
   "name": "python3"
  },
  "language_info": {
   "codemirror_mode": {
    "name": "ipython",
    "version": 3
   },
   "file_extension": ".py",
   "mimetype": "text/x-python",
   "name": "python",
   "nbconvert_exporter": "python",
   "pygments_lexer": "ipython3",
   "version": "3.9.9"
  }
 },
 "nbformat": 4,
 "nbformat_minor": 5
}
