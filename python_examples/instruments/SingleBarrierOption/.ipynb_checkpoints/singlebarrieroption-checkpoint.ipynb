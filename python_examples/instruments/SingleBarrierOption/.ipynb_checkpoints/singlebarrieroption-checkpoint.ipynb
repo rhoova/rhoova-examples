{
 "cells": [
  {
   "cell_type": "code",
   "execution_count": 1,
   "id": "3b6d757c",
   "metadata": {},
   "outputs": [],
   "source": [
    "import json\n",
    "import pandas as pd\n",
    "import numpy as np\n",
    "import prettytable as pt\n",
    "from IPython.display import Image\n",
    "import os \n",
    "import warnings\n",
    "warnings.filterwarnings(\"ignore\")\n",
    "\n",
    "\n",
    "\n",
    "###################################################################################################\n",
    "                                                                                                  #\n",
    "from rhoova.Client import *                                                                       #   \n",
    "#Register and get api key from https://app.rhoova.com/ for ClientConfig(\"api key\", \"api secret\")  #\n",
    "config = ClientConfig(\"\", \"\")                #                                                    #\n",
    "api = Api(config)                                                                                 # \n",
    "                                                                                                  #\n",
    "###################################################################################################\n",
    "\n",
    "\n"
   ]
  },
  {
   "cell_type": "code",
   "execution_count": 2,
   "id": "2fff91aa",
   "metadata": {},
   "outputs": [],
   "source": [
    "\n",
    "data = {\n",
    "  \"valuationDate\": \"2021-03-17\",\n",
    "  \"settlementDate\": \"2021-03-17\",\n",
    "  \"maturityDate\": \"2021-06-17\",\n",
    "  \"notional\": 1000000,\n",
    "  \"optionDefinition\": {\n",
    "    \"underlying\": \"USD\",\n",
    "    \"currency\": \"TRY\",\n",
    "    \"callPut\": \"Call\",\n",
    "    \"longShort\": \"Long\",\n",
    "    \"exerciseType\": \"European\",\n",
    "    \"strike\": 7.8494,\n",
    "    \"barrier\": 7.1354,\n",
    "    \"barrierType\": \"DownOut\",\n",
    "    \"rebate\": 0,\n",
    "    \"underlyingPrice\": 7.5109,\n",
    "    \"volatility\": 0.19473,\n",
    "    \"interestRate\": 0.16732,\n",
    "    \"riskFreeRate\": 0.0028,\n",
    "    \"processType\": \"BSMerton\",\n",
    "    \"method\": \"Analytic\",\n",
    "    \"calendar\": \"Turkey\",\n",
    "    \"businessDayConvention\": \"Following\",\n",
    "    \"dayCounter\": \"Actual360\",\n",
    "    \"optionStartDate\": \"2021-03-17\",\n",
    "    \"optionEndDate\": \"2021-06-17\"\n",
    "  }\n",
    "}\n",
    "\n",
    "try:\n",
    "    result = api.createTask(CalculationType.SINGLE_BARRIER_OPTION, data,True)\n",
    "    result=json.loads(result[\"result\"])\n",
    "except RhoovaError as e:\n",
    "    e.printPretty()\n",
    "    \n",
    "\n"
   ]
  },
  {
   "cell_type": "code",
   "execution_count": 3,
   "id": "6e197ce3",
   "metadata": {},
   "outputs": [
    {
     "name": "stdout",
     "output_type": "stream",
     "text": [
      "+----------------------+------------+\n",
      "|           Parameters |      Value |\n",
      "+----------------------+------------+\n",
      "|                  MTM |     0.2524 |\n",
      "|                   PV | 33602.1085 |\n",
      "|           Volatility |    19.4730 |\n",
      "|                Delta |          0 |\n",
      "|                Gamma |          0 |\n",
      "|                 Vega |          0 |\n",
      "|                Theta |          0 |\n",
      "|                  Rho |          0 |\n",
      "|          Dividen Rho |          0 |\n",
      "|       Delta Notional |          0 |\n",
      "|        Vega Notional |          0 |\n",
      "|         Rho Notional |          0 |\n",
      "| Dividen Rho Notional |          0 |\n",
      "+----------------------+------------+\n"
     ]
    }
   ],
   "source": [
    "npvTable = pt.PrettyTable(['Parameters', 'Value'])\n",
    "npvTable.add_row(['MTM', result.get('mtm')])\n",
    "npvTable.add_row(['PV', result.get('pv')/data.get('optionDefinition').get('underlyingPrice')])\n",
    "npvTable.add_row(['Volatility', 100*result.get('volatility')])\n",
    "npvTable.add_row(['Delta', result.get('delta')])\n",
    "npvTable.add_row(['Gamma', result.get('gamma')])\n",
    "npvTable.add_row(['Vega', result.get('vega')])\n",
    "npvTable.add_row(['Theta', result.get('theta')])\n",
    "npvTable.add_row(['Rho', result.get('rho')])\n",
    "npvTable.add_row(['Dividen Rho', result.get('dividendRho')])\n",
    "npvTable.add_row(['Delta Notional', result.get('deltaNotional')])\n",
    "npvTable.add_row(['Vega Notional', result.get('vegaNotional')])\n",
    "npvTable.add_row(['Rho Notional', result.get('rhoNotional')])\n",
    "npvTable.add_row(['Dividen Rho Notional', result.get('dividendRhoNotional')])\n",
    "npvTable.align = 'r'\n",
    "npvTable.float_format = '.4'\n",
    "print(npvTable)\n",
    "\n",
    "\n"
   ]
  },
  {
   "cell_type": "markdown",
   "id": "8c27f467",
   "metadata": {},
   "source": [
    "<div><img src=\"downout.png\"  style=\"width: 400px;height:600px\" align=\"left\"/></div> "
   ]
  },
  {
   "cell_type": "code",
   "execution_count": 4,
   "id": "0842cfb0",
   "metadata": {},
   "outputs": [],
   "source": [
    "data[\"optionDefinition\"][\"callPut\"]=\"Put\"\n",
    "data[\"optionDefinition\"][\"barrierType\"]=\"DownIn\"\n",
    "data[\"optionDefinition\"][\"barrier\"]=7.5080\n",
    "\n"
   ]
  },
  {
   "cell_type": "code",
   "execution_count": 5,
   "id": "f306ea85",
   "metadata": {},
   "outputs": [],
   "source": [
    "try:\n",
    "    result = api.createTask(CalculationType.SINGLE_BARRIER_OPTION, data,True)\n",
    "    result=json.loads(result[\"result\"])\n",
    "except RhoovaError as e:\n",
    "    e.printPretty()"
   ]
  },
  {
   "cell_type": "code",
   "execution_count": 6,
   "id": "971e632b",
   "metadata": {},
   "outputs": [
    {
     "name": "stdout",
     "output_type": "stream",
     "text": [
      "+----------------------+------------+\n",
      "|           Parameters |      Value |\n",
      "+----------------------+------------+\n",
      "|                  MTM |     0.3026 |\n",
      "|                   PV | 40291.3217 |\n",
      "|           Volatility |    19.4730 |\n",
      "|                Delta |          0 |\n",
      "|                Gamma |          0 |\n",
      "|                 Vega |          0 |\n",
      "|                Theta |          0 |\n",
      "|                  Rho |          0 |\n",
      "|          Dividen Rho |          0 |\n",
      "|       Delta Notional |          0 |\n",
      "|        Vega Notional |          0 |\n",
      "|         Rho Notional |          0 |\n",
      "| Dividen Rho Notional |          0 |\n",
      "+----------------------+------------+\n"
     ]
    }
   ],
   "source": [
    "npvTable = pt.PrettyTable(['Parameters', 'Value'])\n",
    "npvTable.add_row(['MTM', result.get('mtm')])\n",
    "npvTable.add_row(['PV', result.get('pv')/data.get('optionDefinition').get('underlyingPrice')])\n",
    "npvTable.add_row(['Volatility', 100*result.get('volatility')])\n",
    "npvTable.add_row(['Delta', result.get('delta')])\n",
    "npvTable.add_row(['Gamma', result.get('gamma')])\n",
    "npvTable.add_row(['Vega', result.get('vega')])\n",
    "npvTable.add_row(['Theta', result.get('theta')])\n",
    "npvTable.add_row(['Rho', result.get('rho')])\n",
    "npvTable.add_row(['Dividen Rho', result.get('dividendRho')])\n",
    "npvTable.add_row(['Delta Notional', result.get('deltaNotional')])\n",
    "npvTable.add_row(['Vega Notional', result.get('vegaNotional')])\n",
    "npvTable.add_row(['Rho Notional', result.get('rhoNotional')])\n",
    "npvTable.add_row(['Dividen Rho Notional', result.get('dividendRhoNotional')])\n",
    "npvTable.align = 'r'\n",
    "npvTable.float_format = '.4'\n",
    "print(npvTable)\n",
    "\n"
   ]
  },
  {
   "cell_type": "markdown",
   "id": "7fd65780",
   "metadata": {},
   "source": [
    "<div><img src=\"downin.png\"  style=\"width: 400px;height:600px\" align=\"left\"/></div> "
   ]
  },
  {
   "cell_type": "code",
   "execution_count": 7,
   "id": "021a0df1",
   "metadata": {},
   "outputs": [],
   "source": [
    "data[\"optionDefinition\"][\"callPut\"]=\"Call\"\n",
    "data[\"optionDefinition\"][\"barrierType\"]=\"UpIn\"\n",
    "data[\"optionDefinition\"][\"barrier\"]=7.8780\n",
    "\n"
   ]
  },
  {
   "cell_type": "code",
   "execution_count": 8,
   "id": "e665f503",
   "metadata": {},
   "outputs": [],
   "source": [
    "try:\n",
    "    result = api.createTask(CalculationType.SINGLE_BARRIER_OPTION, data,True)\n",
    "    result=json.loads(result[\"result\"])\n",
    "except RhoovaError as e:\n",
    "    e.printPretty()"
   ]
  },
  {
   "cell_type": "code",
   "execution_count": 9,
   "id": "7ae0f389",
   "metadata": {},
   "outputs": [
    {
     "name": "stdout",
     "output_type": "stream",
     "text": [
      "+----------------------+------------+\n",
      "|           Parameters |      Value |\n",
      "+----------------------+------------+\n",
      "|                  MTM |     0.2873 |\n",
      "|                   PV | 38257.1938 |\n",
      "|           Volatility |    19.4730 |\n",
      "|                Delta |          0 |\n",
      "|                Gamma |          0 |\n",
      "|                 Vega |          0 |\n",
      "|                Theta |          0 |\n",
      "|                  Rho |          0 |\n",
      "|          Dividen Rho |          0 |\n",
      "|       Delta Notional |          0 |\n",
      "|        Vega Notional |          0 |\n",
      "|         Rho Notional |          0 |\n",
      "| Dividen Rho Notional |          0 |\n",
      "+----------------------+------------+\n"
     ]
    }
   ],
   "source": [
    "npvTable = pt.PrettyTable(['Parameters', 'Value'])\n",
    "npvTable.add_row(['MTM', result.get('mtm')])\n",
    "npvTable.add_row(['PV', result.get('pv')/data.get('optionDefinition').get('underlyingPrice')])\n",
    "npvTable.add_row(['Volatility', 100*result.get('volatility')])\n",
    "npvTable.add_row(['Delta', result.get('delta')])\n",
    "npvTable.add_row(['Gamma', result.get('gamma')])\n",
    "npvTable.add_row(['Vega', result.get('vega')])\n",
    "npvTable.add_row(['Theta', result.get('theta')])\n",
    "npvTable.add_row(['Rho', result.get('rho')])\n",
    "npvTable.add_row(['Dividen Rho', result.get('dividendRho')])\n",
    "npvTable.add_row(['Delta Notional', result.get('deltaNotional')])\n",
    "npvTable.add_row(['Vega Notional', result.get('vegaNotional')])\n",
    "npvTable.add_row(['Rho Notional', result.get('rhoNotional')])\n",
    "npvTable.add_row(['Dividen Rho Notional', result.get('dividendRhoNotional')])\n",
    "npvTable.align = 'r'\n",
    "npvTable.float_format = '.4'\n",
    "print(npvTable)"
   ]
  },
  {
   "cell_type": "markdown",
   "id": "433b2220",
   "metadata": {},
   "source": [
    "<div><img src=\"upin.png\"  style=\"width: 400px;height:600px\" align=\"left\"/></div> "
   ]
  },
  {
   "cell_type": "code",
   "execution_count": 10,
   "id": "ef366b8e",
   "metadata": {},
   "outputs": [],
   "source": [
    "data[\"optionDefinition\"][\"callPut\"]=\"Call\"\n",
    "data[\"optionDefinition\"][\"barrierType\"]=\"UpOut\"\n",
    "data[\"optionDefinition\"][\"barrier\"]=8.6864"
   ]
  },
  {
   "cell_type": "code",
   "execution_count": 11,
   "id": "aef09214",
   "metadata": {},
   "outputs": [],
   "source": [
    "try:\n",
    "    result = api.createTask(CalculationType.SINGLE_BARRIER_OPTION, data,True)\n",
    "    result=json.loads(result[\"result\"])\n",
    "except RhoovaError as e:\n",
    "    e.printPretty()"
   ]
  },
  {
   "cell_type": "code",
   "execution_count": 12,
   "id": "babd4ee1",
   "metadata": {},
   "outputs": [
    {
     "name": "stdout",
     "output_type": "stream",
     "text": [
      "+----------------------+-----------+\n",
      "|           Parameters |     Value |\n",
      "+----------------------+-----------+\n",
      "|                  MTM |    0.0704 |\n",
      "|                   PV | 9379.2079 |\n",
      "|           Volatility |   19.4730 |\n",
      "|                Delta |         0 |\n",
      "|                Gamma |         0 |\n",
      "|                 Vega |         0 |\n",
      "|                Theta |         0 |\n",
      "|                  Rho |         0 |\n",
      "|          Dividen Rho |         0 |\n",
      "|       Delta Notional |         0 |\n",
      "|        Vega Notional |         0 |\n",
      "|         Rho Notional |         0 |\n",
      "| Dividen Rho Notional |         0 |\n",
      "+----------------------+-----------+\n"
     ]
    }
   ],
   "source": [
    "npvTable = pt.PrettyTable(['Parameters', 'Value'])\n",
    "npvTable.add_row(['MTM', result.get('mtm')])\n",
    "npvTable.add_row(['PV', result.get('pv')/data.get('optionDefinition').get('underlyingPrice')])\n",
    "npvTable.add_row(['Volatility', 100*result.get('volatility')])\n",
    "npvTable.add_row(['Delta', result.get('delta')])\n",
    "npvTable.add_row(['Gamma', result.get('gamma')])\n",
    "npvTable.add_row(['Vega', result.get('vega')])\n",
    "npvTable.add_row(['Theta', result.get('theta')])\n",
    "npvTable.add_row(['Rho', result.get('rho')])\n",
    "npvTable.add_row(['Dividen Rho', result.get('dividendRho')])\n",
    "npvTable.add_row(['Delta Notional', result.get('deltaNotional')])\n",
    "npvTable.add_row(['Vega Notional', result.get('vegaNotional')])\n",
    "npvTable.add_row(['Rho Notional', result.get('rhoNotional')])\n",
    "npvTable.add_row(['Dividen Rho Notional', result.get('dividendRhoNotional')])\n",
    "npvTable.align = 'r'\n",
    "npvTable.float_format = '.4'\n",
    "print(npvTable)"
   ]
  },
  {
   "cell_type": "markdown",
   "id": "59d4656d",
   "metadata": {},
   "source": [
    "<div><img src=\"upout.png\"  style=\"width: 400px;height:600px\" align=\"left\"/></div> "
   ]
  }
 ],
 "metadata": {
  "kernelspec": {
   "display_name": "Python 3 (ipykernel)",
   "language": "python",
   "name": "python3"
  },
  "language_info": {
   "codemirror_mode": {
    "name": "ipython",
    "version": 3
   },
   "file_extension": ".py",
   "mimetype": "text/x-python",
   "name": "python",
   "nbconvert_exporter": "python",
   "pygments_lexer": "ipython3",
   "version": "3.9.9"
  }
 },
 "nbformat": 4,
 "nbformat_minor": 5
}
