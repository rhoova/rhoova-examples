{
 "cells": [
  {
   "cell_type": "code",
   "execution_count": 1,
   "id": "d41260ac",
   "metadata": {},
   "outputs": [],
   "source": [
    "import json\n",
    "import pandas as pd\n",
    "import numpy as np\n",
    "import prettytable as pt\n",
    "from IPython.display import Image\n",
    "import os\n",
    "import warnings\n",
    "warnings.filterwarnings(\"ignore\")\n",
    "\n",
    "\n",
    "\n",
    "\n",
    "###################################################################################################\n",
    "                                                                                                  #\n",
    "from rhoova.Client import *                                                                       #   \n",
    "#Register and get api key from https://app.rhoova.com/ for ClientConfig(\"api key\", \"api secret\")  #\n",
    "config = ClientConfig(\"\", \"\")                                                                     #\n",
    "api = Api(config)                                                                                 # \n",
    "                                                                                                  #\n",
    "###################################################################################################\n",
    "\n",
    "\n"
   ]
  },
  {
   "cell_type": "code",
   "execution_count": 2,
   "id": "88310c23",
   "metadata": {},
   "outputs": [],
   "source": [
    "\n",
    "data = {\n",
    "  \"valuationDate\": \"2021-03-17\",\n",
    "  \"settlementDate\": \"2021-03-17\",\n",
    "  \"maturityDate\": \"2021-06-17\",\n",
    "  \"notional\": 1000000,\n",
    "  \"optionDefinition\": {\n",
    "    \"underlying\": \"USD\",\n",
    "    \"currency\": \"TRY\",\n",
    "    \"callPut\": \"Call\",\n",
    "    \"exerciseType\": \"European\",\n",
    "    \"longShort\": \"Long\",\n",
    "    \"averageType\": \"Geometric\",\n",
    "    \"strikeType\": \"Fixed\",\n",
    "    \"strike\": 7.8494,\n",
    "    \"underlyingPrice\": 7.5109,\n",
    "    \"processType\": \"GeneralizedBS\",\n",
    "    \"method\": \"Analytic\",\n",
    "    \"calendar\": \"Turkey\",\n",
    "    \"businessDayConvention\": \"Following\",\n",
    "    \"dayCounter\": \"Actual360\",\n",
    "    \"optionStartDate\": \"2021-03-18\",\n",
    "    \"optionEndDate\": \"2021-06-17\",\n",
    "    \"fixingDays\": [],\n",
    "    \"pastFixing\": 0,\n",
    "    \"accumulator\": 1,\n",
    "    \"rng\": \"PseudoRandom\",\n",
    "    \"numOfPaths\": 10000,\n",
    "    \"volatility\": 0.19130,\n",
    "    \"interestRate\": 0.17632,\n",
    "    \"riskFreeRate\": 0.0028\n",
    "  }\n",
    "}\n",
    "\n",
    "try:\n",
    "    result = api.createTask(CalculationType.ASIAN_OPTION, data,True)\n",
    "    result=json.loads(result[\"result\"])\n",
    "except RhoovaError as e:\n",
    "    e.printPretty()\n",
    "    "
   ]
  },
  {
   "cell_type": "code",
   "execution_count": 3,
   "id": "13b4d414",
   "metadata": {},
   "outputs": [
    {
     "name": "stdout",
     "output_type": "stream",
     "text": [
      "+----------------------+--------------+\n",
      "|           Parameters |        Value |\n",
      "+----------------------+--------------+\n",
      "|                  MTM |       0.0945 |\n",
      "|                   PV |   12585.7069 |\n",
      "|           Volatility |      19.1300 |\n",
      "|                Delta |       0.3443 |\n",
      "|                Gamma |       0.8649 |\n",
      "|                 Vega |       0.7740 |\n",
      "|                Theta |      -0.4974 |\n",
      "|                  Rho |       0.3063 |\n",
      "|          Dividen Rho |      -0.3304 |\n",
      "|       Delta Notional |  344301.4171 |\n",
      "|        Vega Notional |   48757.2639 |\n",
      "|         Rho Notional |  306277.3971 |\n",
      "| Dividen Rho Notional | -330435.0601 |\n",
      "+----------------------+--------------+\n"
     ]
    }
   ],
   "source": [
    "npvTable = pt.PrettyTable(['Parameters', 'Value'])\n",
    "npvTable.add_row(['MTM', result.get('mtm')])\n",
    "npvTable.add_row(['PV', result.get('pv')/data.get('optionDefinition').get('underlyingPrice')])\n",
    "npvTable.add_row(['Volatility', 100*result.get('volatility')])\n",
    "npvTable.add_row(['Delta', result.get('delta')])\n",
    "npvTable.add_row(['Gamma', result.get('gamma')])\n",
    "npvTable.add_row(['Vega', result.get('vega')])\n",
    "npvTable.add_row(['Theta', result.get('theta')])\n",
    "npvTable.add_row(['Rho', result.get('rho')])\n",
    "npvTable.add_row(['Dividen Rho', result.get('dividendRho')])\n",
    "npvTable.add_row(['Delta Notional', result.get('deltaNotional')])\n",
    "npvTable.add_row(['Vega Notional', result.get('vegaNotional')])\n",
    "npvTable.add_row(['Rho Notional', result.get('rhoNotional')])\n",
    "npvTable.add_row(['Dividen Rho Notional', result.get('dividendRhoNotional')])\n",
    "npvTable.align = 'r'\n",
    "npvTable.float_format = '.4'\n",
    "print(npvTable)\n",
    "\n",
    "\n"
   ]
  },
  {
   "cell_type": "markdown",
   "id": "41be7efb",
   "metadata": {},
   "source": [
    "<div><img src=\"image.png\"  style=\"width: 400px;height:150px\" align=\"left\"/></div> \n"
   ]
  },
  {
   "cell_type": "markdown",
   "id": "9351639f",
   "metadata": {},
   "source": [
    "<div><img src=\"geometricrate.png\"  style=\"width: 400px;height:600px\" align=\"left\"/></div> "
   ]
  },
  {
   "cell_type": "code",
   "execution_count": 4,
   "id": "d1ec15f4",
   "metadata": {},
   "outputs": [],
   "source": [
    "asianFixingDates=['2021-03-18','2021-03-19','2021-03-20','2021-03-21','2021-03-22','2021-03-23','2021-03-24',\n",
    "                  '2021-03-25','2021-03-26','2021-03-27','2021-03-28','2021-03-29','2021-03-30','2021-03-31',\n",
    "                  '2021-04-01','2021-04-02','2021-04-03','2021-04-04','2021-04-05','2021-04-06','2021-04-07',\n",
    "                  '2021-04-08','2021-04-09','2021-04-10','2021-04-11','2021-04-12','2021-04-13','2021-04-14',\n",
    "                  '2021-04-15','2021-04-16','2021-04-17','2021-04-18','2021-04-19','2021-04-20','2021-04-21',\n",
    "                  '2021-04-22','2021-04-23','2021-04-24','2021-04-25','2021-04-26','2021-04-27','2021-04-28',\n",
    "                  '2021-04-29','2021-04-30','2021-05-01','2021-05-02','2021-05-03','2021-05-04','2021-05-05',\n",
    "                  '2021-05-06','2021-05-07','2021-05-08','2021-05-09','2021-05-10','2021-05-11','2021-05-12',\n",
    "                  '2021-05-13','2021-05-14','2021-05-15','2021-05-16','2021-05-17','2021-05-18','2021-05-19',\n",
    "                  '2021-05-20','2021-05-21','2021-05-22','2021-05-23','2021-05-24','2021-05-25','2021-05-26',\n",
    "                  '2021-05-27','2021-05-28','2021-05-29','2021-05-30','2021-05-31','2021-06-01','2021-06-02',\n",
    "                  '2021-06-03','2021-06-04','2021-06-05','2021-06-06','2021-06-07','2021-06-08','2021-06-09',\n",
    "                  '2021-06-10','2021-06-11','2021-06-12','2021-06-13','2021-06-14','2021-06-15','2021-06-16',\n",
    "                  '2021-06-17']"
   ]
  },
  {
   "cell_type": "code",
   "execution_count": 5,
   "id": "6b7e046c",
   "metadata": {},
   "outputs": [],
   "source": [
    "data[\"optionDefinition\"][\"fixingDays\"]=asianFixingDates"
   ]
  },
  {
   "cell_type": "code",
   "execution_count": 6,
   "id": "a71c2a7e",
   "metadata": {},
   "outputs": [],
   "source": [
    "try:\n",
    "    result1 = api.createTask(CalculationType.ASIAN_OPTION, data,True)\n",
    "    result1=json.loads(result1[\"result\"])\n",
    "except RhoovaError as e:\n",
    "    e.printPretty()"
   ]
  },
  {
   "cell_type": "code",
   "execution_count": 7,
   "id": "a78ba71e",
   "metadata": {},
   "outputs": [
    {
     "name": "stdout",
     "output_type": "stream",
     "text": [
      "+----------------------+--------------+\n",
      "|           Parameters |        Value |\n",
      "+----------------------+--------------+\n",
      "|                  MTM |       0.0964 |\n",
      "|                   PV |   12834.3381 |\n",
      "|           Volatility |      19.1300 |\n",
      "|                Delta |       0.3472 |\n",
      "|                Gamma |       0.8606 |\n",
      "|                 Vega |       0.7828 |\n",
      "|                Theta |      -1.3239 |\n",
      "|                  Rho |       0.3122 |\n",
      "|          Dividen Rho |      -0.3369 |\n",
      "|       Delta Notional |  347216.4554 |\n",
      "|        Vega Notional |   49314.1493 |\n",
      "|         Rho Notional |  312219.8942 |\n",
      "| Dividen Rho Notional | -336854.7930 |\n",
      "+----------------------+--------------+\n"
     ]
    }
   ],
   "source": [
    "npvTable = pt.PrettyTable(['Parameters', 'Value'])\n",
    "npvTable.add_row(['MTM', result1.get('mtm')])\n",
    "npvTable.add_row(['PV', result1.get('pv')/data.get('optionDefinition').get('underlyingPrice')])\n",
    "npvTable.add_row(['Volatility', 100*result1.get('volatility')])\n",
    "npvTable.add_row(['Delta', result1.get('delta')])\n",
    "npvTable.add_row(['Gamma', result1.get('gamma')])\n",
    "npvTable.add_row(['Vega', result1.get('vega')])\n",
    "npvTable.add_row(['Theta', result1.get('theta')])\n",
    "npvTable.add_row(['Rho', result1.get('rho')])\n",
    "npvTable.add_row(['Dividen Rho', result1.get('dividendRho')])\n",
    "npvTable.add_row(['Delta Notional', result1.get('deltaNotional')])\n",
    "npvTable.add_row(['Vega Notional', result1.get('vegaNotional')])\n",
    "npvTable.add_row(['Rho Notional', result1.get('rhoNotional')])\n",
    "npvTable.add_row(['Dividen Rho Notional', result1.get('dividendRhoNotional')])\n",
    "npvTable.align = 'r'\n",
    "npvTable.float_format = '.4'\n",
    "print(npvTable)"
   ]
  },
  {
   "cell_type": "code",
   "execution_count": 8,
   "id": "64ed226a",
   "metadata": {},
   "outputs": [],
   "source": [
    "#data[\"optionDefinition\"][\"fixingDays\"]=\"Monthly\"\n",
    "data[\"optionDefinition\"][\"fixingDays\"]=\"Daily\""
   ]
  },
  {
   "cell_type": "code",
   "execution_count": 9,
   "id": "5baa892c",
   "metadata": {},
   "outputs": [],
   "source": [
    "try:\n",
    "    result2 = api.createTask(CalculationType.ASIAN_OPTION, data,True)\n",
    "    result2=json.loads(result2[\"result\"])\n",
    "except RhoovaError as e:\n",
    "    e.printPretty()"
   ]
  },
  {
   "cell_type": "code",
   "execution_count": 10,
   "id": "a8a1c0bd",
   "metadata": {},
   "outputs": [
    {
     "name": "stdout",
     "output_type": "stream",
     "text": [
      "+----------------------+--------------+\n",
      "|           Parameters |        Value |\n",
      "+----------------------+--------------+\n",
      "|                  MTM |       0.0964 |\n",
      "|                   PV |   12834.3381 |\n",
      "|           Volatility |      19.1300 |\n",
      "|                Delta |       0.3472 |\n",
      "|                Gamma |       0.8606 |\n",
      "|                 Vega |       0.7828 |\n",
      "|                Theta |      -1.3239 |\n",
      "|                  Rho |       0.3122 |\n",
      "|          Dividen Rho |      -0.3369 |\n",
      "|       Delta Notional |  347216.4554 |\n",
      "|        Vega Notional |   49314.1493 |\n",
      "|         Rho Notional |  312219.8942 |\n",
      "| Dividen Rho Notional | -336854.7930 |\n",
      "+----------------------+--------------+\n"
     ]
    }
   ],
   "source": [
    "npvTable = pt.PrettyTable(['Parameters', 'Value'])\n",
    "npvTable.add_row(['MTM', result2.get('mtm')])\n",
    "npvTable.add_row(['PV', result2.get('pv')/data.get('optionDefinition').get('underlyingPrice')])\n",
    "npvTable.add_row(['Volatility', 100*result2.get('volatility')])\n",
    "npvTable.add_row(['Delta', result2.get('delta')])\n",
    "npvTable.add_row(['Gamma', result2.get('gamma')])\n",
    "npvTable.add_row(['Vega', result2.get('vega')])\n",
    "npvTable.add_row(['Theta', result2.get('theta')])\n",
    "npvTable.add_row(['Rho', result2.get('rho')])\n",
    "npvTable.add_row(['Dividen Rho', result2.get('dividendRho')])\n",
    "npvTable.add_row(['Delta Notional', result2.get('deltaNotional')])\n",
    "npvTable.add_row(['Vega Notional', result2.get('vegaNotional')])\n",
    "npvTable.add_row(['Rho Notional', result2.get('rhoNotional')])\n",
    "npvTable.add_row(['Dividen Rho Notional', result2.get('dividendRhoNotional')])\n",
    "npvTable.align = 'r'\n",
    "npvTable.float_format = '.4'\n",
    "print(npvTable)"
   ]
  }
 ],
 "metadata": {
  "kernelspec": {
   "display_name": "Python 3 (ipykernel)",
   "language": "python",
   "name": "python3"
  },
  "language_info": {
   "codemirror_mode": {
    "name": "ipython",
    "version": 3
   },
   "file_extension": ".py",
   "mimetype": "text/x-python",
   "name": "python",
   "nbconvert_exporter": "python",
   "pygments_lexer": "ipython3",
   "version": "3.9.9"
  }
 },
 "nbformat": 4,
 "nbformat_minor": 5
}
