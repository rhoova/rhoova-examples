{
 "cells": [
  {
   "cell_type": "code",
   "execution_count": 1,
   "id": "d41260ac",
   "metadata": {},
   "outputs": [],
   "source": [
    "import json\n",
    "import pandas as pd\n",
    "import numpy as np\n",
    "import prettytable as pt\n",
    "from IPython.display import Image\n",
    "import os\n",
    "import warnings\n",
    "warnings.filterwarnings(\"ignore\")\n",
    "\n",
    "\n",
    "\n",
    "\n",
    "###################################################################################################\n",
    "                                                                                                  #\n",
    "from rhoova.Client import *                                                                       #   \n",
    "#Register and get api key from https://app.rhoova.com/ for ClientConfig(\"api key\", \"api secret\")  #\n",
    "config = ClientConfig(\"\", \"\")                                                                     #\n",
    "api = Api(config)                                                                                 # \n",
    "                                                                                                  #\n",
    "###################################################################################################\n",
    "\n"
   ]
  },
  {
   "cell_type": "code",
   "execution_count": 2,
   "id": "88310c23",
   "metadata": {},
   "outputs": [],
   "source": [
    "\n",
    "data = {\n",
    "  \"valuationDate\": \"2021-03-17\",\n",
    "  \"settlementDate\": \"2021-03-17\",\n",
    "  \"maturityDate\": \"2021-06-17\",\n",
    "  \"notional\": 1000000,\n",
    "  \"optionDefinition\": {\n",
    "    \"underlying\": \"USD\",\n",
    "    \"currency\": \"TRY\",\n",
    "    \"callPut\": \"Call\",\n",
    "    \"exerciseType\": \"European\",\n",
    "    \"longShort\": \"Long\",\n",
    "    \"averageType\": \"Geometric\",\n",
    "    \"strikeType\": \"Fixed\",\n",
    "    \"strike\": 7.8494,\n",
    "    \"underlyingPrice\": 7.5109,\n",
    "    \"processType\": \"GeneralizedBS\",\n",
    "    \"method\": \"Analytic\",\n",
    "    \"calendar\": \"Turkey\",\n",
    "    \"businessDayConvention\": \"Following\",\n",
    "    \"dayCounter\": \"Actual360\",\n",
    "    \"optionStartDate\": \"2021-03-18\",\n",
    "    \"optionEndDate\": \"2021-06-17\",\n",
    "    \"fixingDays\": [],\n",
    "    \"pastFixing\": 0,\n",
    "    \"accumulator\": 1,\n",
    "    \"rng\": \"PseudoRandom\",\n",
    "    \"numOfPaths\": 100000,\n",
    "    \"volatility\": 0.19130,\n",
    "    \"interestRate\": 0.17632,\n",
    "    \"riskFreeRate\": 0.0028\n",
    "  }\n",
    "}\n",
    "\n",
    "try:\n",
    "    result = api.createTask(CalculationType.ASIAN_OPTION, data,True)\n",
    "    result=json.loads(result[\"result\"])\n",
    "except RhoovaError as e:\n",
    "    e.printPretty()\n",
    "    \n"
   ]
  },
  {
   "cell_type": "code",
   "execution_count": 3,
   "id": "13b4d414",
   "metadata": {},
   "outputs": [
    {
     "name": "stdout",
     "output_type": "stream",
     "text": [
      "+----------------------+--------------+\n",
      "|           Parameters |        Value |\n",
      "+----------------------+--------------+\n",
      "|                  MTM |       0.0945 |\n",
      "|                   PV |   12585.7069 |\n",
      "|           Volatility |      19.1300 |\n",
      "|                Delta |       0.3443 |\n",
      "|                Gamma |       0.8649 |\n",
      "|                 Vega |       0.7740 |\n",
      "|                Theta |      -0.4974 |\n",
      "|                  Rho |       0.3063 |\n",
      "|          Dividen Rho |      -0.3304 |\n",
      "|       Delta Notional |  344301.4171 |\n",
      "|        Vega Notional |   48757.2639 |\n",
      "|         Rho Notional |  306277.3971 |\n",
      "| Dividen Rho Notional | -330435.0601 |\n",
      "+----------------------+--------------+\n"
     ]
    }
   ],
   "source": [
    "npvTable = pt.PrettyTable(['Parameters', 'Value'])\n",
    "npvTable.add_row(['MTM', result.get('mtm')])\n",
    "npvTable.add_row(['PV', result.get('pv')/data.get('optionDefinition').get('underlyingPrice')])\n",
    "npvTable.add_row(['Volatility', 100*result.get('volatility')])\n",
    "npvTable.add_row(['Delta', result.get('delta')])\n",
    "npvTable.add_row(['Gamma', result.get('gamma')])\n",
    "npvTable.add_row(['Vega', result.get('vega')])\n",
    "npvTable.add_row(['Theta', result.get('theta')])\n",
    "npvTable.add_row(['Rho', result.get('rho')])\n",
    "npvTable.add_row(['Dividen Rho', result.get('dividendRho')])\n",
    "npvTable.add_row(['Delta Notional', result.get('deltaNotional')])\n",
    "npvTable.add_row(['Vega Notional', result.get('vegaNotional')])\n",
    "npvTable.add_row(['Rho Notional', result.get('rhoNotional')])\n",
    "npvTable.add_row(['Dividen Rho Notional', result.get('dividendRhoNotional')])\n",
    "npvTable.align = 'r'\n",
    "npvTable.float_format = '.4'\n",
    "print(npvTable)\n"
   ]
  },
  {
   "cell_type": "markdown",
   "id": "41be7efb",
   "metadata": {},
   "source": [
    "<div><img src=\"image.png\"  style=\"width: 400px;height:150px\" align=\"left\"/></div> \n"
   ]
  },
  {
   "cell_type": "markdown",
   "id": "9351639f",
   "metadata": {},
   "source": [
    "<div><img src=\"geometricrate.png\"  style=\"width: 400px;height:600px\" align=\"left\"/></div> "
   ]
  },
  {
   "cell_type": "code",
   "execution_count": 4,
   "id": "9e0cb5d8",
   "metadata": {},
   "outputs": [],
   "source": [
    "data[\"optionDefinition\"][\"fixingDays\"]=\"Daily\"\n",
    "data[\"optionDefinition\"][\"strikeType\"]=\"Floating\""
   ]
  },
  {
   "cell_type": "code",
   "execution_count": 5,
   "id": "61809e32",
   "metadata": {},
   "outputs": [],
   "source": [
    "try:\n",
    "    result = api.createTask(CalculationType.ASIAN_OPTION, data,True)\n",
    "    result=json.loads(result[\"result\"])\n",
    "except RhoovaError as e:\n",
    "    e.printPretty()"
   ]
  },
  {
   "cell_type": "code",
   "execution_count": 6,
   "id": "897986d7",
   "metadata": {},
   "outputs": [
    {
     "name": "stdout",
     "output_type": "stream",
     "text": [
      "+----------------------+------------+\n",
      "|           Parameters |      Value |\n",
      "+----------------------+------------+\n",
      "|                  MTM |     0.2618 |\n",
      "|                   PV | 34855.2094 |\n",
      "|           Volatility |    19.1300 |\n",
      "|                Delta |          0 |\n",
      "|                Gamma |          0 |\n",
      "|                 Vega |          0 |\n",
      "|                Theta |          0 |\n",
      "|                  Rho |          0 |\n",
      "|          Dividen Rho |          0 |\n",
      "|       Delta Notional |          0 |\n",
      "|        Vega Notional |          0 |\n",
      "|         Rho Notional |          0 |\n",
      "| Dividen Rho Notional |          0 |\n",
      "+----------------------+------------+\n"
     ]
    }
   ],
   "source": [
    "npvTable = pt.PrettyTable(['Parameters', 'Value'])\n",
    "npvTable.add_row(['MTM', result.get('mtm')])\n",
    "npvTable.add_row(['PV', result.get('pv')/data.get('optionDefinition').get('underlyingPrice')])\n",
    "npvTable.add_row(['Volatility', 100*result.get('volatility')])\n",
    "npvTable.add_row(['Delta', result.get('delta')])\n",
    "npvTable.add_row(['Gamma', result.get('gamma')])\n",
    "npvTable.add_row(['Vega', result.get('vega')])\n",
    "npvTable.add_row(['Theta', result.get('theta')])\n",
    "npvTable.add_row(['Rho', result.get('rho')])\n",
    "npvTable.add_row(['Dividen Rho', result.get('dividendRho')])\n",
    "npvTable.add_row(['Delta Notional', result.get('deltaNotional')])\n",
    "npvTable.add_row(['Vega Notional', result.get('vegaNotional')])\n",
    "npvTable.add_row(['Rho Notional', result.get('rhoNotional')])\n",
    "npvTable.add_row(['Dividen Rho Notional', result.get('dividendRhoNotional')])\n",
    "npvTable.align = 'r'\n",
    "npvTable.float_format = '.4'\n",
    "print(npvTable)\n",
    "\n"
   ]
  },
  {
   "cell_type": "markdown",
   "id": "865bb622",
   "metadata": {},
   "source": [
    "<div><img src=\"geometricstrike.png\"  style=\"width: 400px;height:600px\" align=\"left\"/></div> "
   ]
  },
  {
   "cell_type": "code",
   "execution_count": 7,
   "id": "c84b2f07",
   "metadata": {},
   "outputs": [],
   "source": [
    "data[\"optionDefinition\"][\"averageType\"]=\"Arithmetic\"\n",
    "data[\"optionDefinition\"][\"method\"]=\"Monte Carlo\"\n",
    "data[\"optionDefinition\"][\"strikeType\"]=\"Fixed\""
   ]
  },
  {
   "cell_type": "code",
   "execution_count": 8,
   "id": "a28aa151",
   "metadata": {},
   "outputs": [],
   "source": [
    "try:\n",
    "    result = api.createTask(CalculationType.ASIAN_OPTION, data,True)\n",
    "    result=json.loads(result[\"result\"])\n",
    "except RhoovaError as e:\n",
    "    e.printPretty()"
   ]
  },
  {
   "cell_type": "code",
   "execution_count": 9,
   "id": "44bc210a",
   "metadata": {},
   "outputs": [
    {
     "name": "stdout",
     "output_type": "stream",
     "text": [
      "+----------------------+------------+\n",
      "|           Parameters |      Value |\n",
      "+----------------------+------------+\n",
      "|                  MTM |     0.0997 |\n",
      "|                   PV | 13271.6998 |\n",
      "|           Volatility |    19.1300 |\n",
      "|                Delta |          0 |\n",
      "|                Gamma |          0 |\n",
      "|                 Vega |          0 |\n",
      "|                Theta |          0 |\n",
      "|                  Rho |          0 |\n",
      "|          Dividen Rho |          0 |\n",
      "|       Delta Notional |          0 |\n",
      "|        Vega Notional |          0 |\n",
      "|         Rho Notional |          0 |\n",
      "| Dividen Rho Notional |          0 |\n",
      "+----------------------+------------+\n"
     ]
    }
   ],
   "source": [
    "npvTable = pt.PrettyTable(['Parameters', 'Value'])\n",
    "npvTable.add_row(['MTM', result.get('mtm')])\n",
    "npvTable.add_row(['PV', result.get('pv')/data.get('optionDefinition').get('underlyingPrice')])\n",
    "npvTable.add_row(['Volatility', 100*result.get('volatility')])\n",
    "npvTable.add_row(['Delta', result.get('delta')])\n",
    "npvTable.add_row(['Gamma', result.get('gamma')])\n",
    "npvTable.add_row(['Vega', result.get('vega')])\n",
    "npvTable.add_row(['Theta', result.get('theta')])\n",
    "npvTable.add_row(['Rho', result.get('rho')])\n",
    "npvTable.add_row(['Dividen Rho', result.get('dividendRho')])\n",
    "npvTable.add_row(['Delta Notional', result.get('deltaNotional')])\n",
    "npvTable.add_row(['Vega Notional', result.get('vegaNotional')])\n",
    "npvTable.add_row(['Rho Notional', result.get('rhoNotional')])\n",
    "npvTable.add_row(['Dividen Rho Notional', result.get('dividendRhoNotional')])\n",
    "npvTable.align = 'r'\n",
    "npvTable.float_format = '.4'\n",
    "print(npvTable)\n",
    "\n",
    "\n"
   ]
  },
  {
   "cell_type": "markdown",
   "id": "e9eca90a",
   "metadata": {},
   "source": [
    "<div><img src=\"arithmeticrate.png\"  style=\"width: 400px;height:600px\" align=\"left\"/></div> "
   ]
  },
  {
   "cell_type": "code",
   "execution_count": 10,
   "id": "75322320",
   "metadata": {},
   "outputs": [],
   "source": [
    "data[\"optionDefinition\"][\"strikeType\"]=\"Floating\"\n",
    "data[\"optionDefinition\"][\"averageType\"]=\"Arithmetic\"\n",
    "data[\"optionDefinition\"][\"method\"]=\"Monte Carlo\""
   ]
  },
  {
   "cell_type": "code",
   "execution_count": 11,
   "id": "a9cfef48",
   "metadata": {},
   "outputs": [],
   "source": [
    "try:\n",
    "    result = api.createTask(CalculationType.ASIAN_OPTION, data,True)\n",
    "    result=json.loads(result[\"result\"])\n",
    "except RhoovaError as e:\n",
    "    e.printPretty()"
   ]
  },
  {
   "cell_type": "code",
   "execution_count": 12,
   "id": "2e097dbe",
   "metadata": {},
   "outputs": [
    {
     "name": "stdout",
     "output_type": "stream",
     "text": [
      "+----------------------+------------+\n",
      "|           Parameters |      Value |\n",
      "+----------------------+------------+\n",
      "|                  MTM |     0.2578 |\n",
      "|                   PV | 34327.0545 |\n",
      "|           Volatility |    19.1300 |\n",
      "|                Delta |          0 |\n",
      "|                Gamma |          0 |\n",
      "|                 Vega |          0 |\n",
      "|                Theta |          0 |\n",
      "|                  Rho |          0 |\n",
      "|          Dividen Rho |          0 |\n",
      "|       Delta Notional |          0 |\n",
      "|        Vega Notional |          0 |\n",
      "|         Rho Notional |          0 |\n",
      "| Dividen Rho Notional |          0 |\n",
      "+----------------------+------------+\n"
     ]
    }
   ],
   "source": [
    "npvTable = pt.PrettyTable(['Parameters', 'Value'])\n",
    "npvTable.add_row(['MTM', result.get('mtm')])\n",
    "npvTable.add_row(['PV', result.get('pv')/data.get('optionDefinition').get('underlyingPrice')])\n",
    "npvTable.add_row(['Volatility', 100*result.get('volatility')])\n",
    "npvTable.add_row(['Delta', result.get('delta')])\n",
    "npvTable.add_row(['Gamma', result.get('gamma')])\n",
    "npvTable.add_row(['Vega', result.get('vega')])\n",
    "npvTable.add_row(['Theta', result.get('theta')])\n",
    "npvTable.add_row(['Rho', result.get('rho')])\n",
    "npvTable.add_row(['Dividen Rho', result.get('dividendRho')])\n",
    "npvTable.add_row(['Delta Notional', result.get('deltaNotional')])\n",
    "npvTable.add_row(['Vega Notional', result.get('vegaNotional')])\n",
    "npvTable.add_row(['Rho Notional', result.get('rhoNotional')])\n",
    "npvTable.add_row(['Dividen Rho Notional', result.get('dividendRhoNotional')])\n",
    "npvTable.align = 'r'\n",
    "npvTable.float_format = '.4'\n",
    "print(npvTable)\n",
    "\n",
    "\n",
    "\n"
   ]
  },
  {
   "cell_type": "markdown",
   "id": "a2b678b6",
   "metadata": {},
   "source": [
    "<div><img src=\"arithmeticstrike.png\"  style=\"width: 400px;height:600px\" align=\"left\"/></div> "
   ]
  }
 ],
 "metadata": {
  "kernelspec": {
   "display_name": "Python 3 (ipykernel)",
   "language": "python",
   "name": "python3"
  },
  "language_info": {
   "codemirror_mode": {
    "name": "ipython",
    "version": 3
   },
   "file_extension": ".py",
   "mimetype": "text/x-python",
   "name": "python",
   "nbconvert_exporter": "python",
   "pygments_lexer": "ipython3",
   "version": "3.9.9"
  }
 },
 "nbformat": 4,
 "nbformat_minor": 5
}
