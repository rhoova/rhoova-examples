{
 "cells": [
  {
   "cell_type": "code",
   "execution_count": 2,
   "id": "48bbaff7",
   "metadata": {},
   "outputs": [
    {
     "name": "stdout",
     "output_type": "stream",
     "text": [
      "{\n",
      "    \"beginDate\": \"2021-03-17\",\n",
      "    \"endDate\": \"2021-06-17\",\n",
      "    \"mtm\": 0.2523820767624486,\n",
      "    \"delta\": 0,\n",
      "    \"gamma\": 0,\n",
      "    \"vega\": 0,\n",
      "    \"theta\": 0,\n",
      "    \"rho\": 0,\n",
      "    \"dividendRho\": 0,\n",
      "    \"volatility\": 0.19473,\n",
      "    \"pv\": 2523820.7676244862,\n",
      "    \"deltaNotional\": 0,\n",
      "    \"vegaNotional\": 0,\n",
      "    \"rhoNotional\": 0,\n",
      "    \"dividendRhoNotional\": 0\n",
      "}\n"
     ]
    }
   ],
   "source": [
    "import json\n",
    "\n",
    "from rhoova.Client import *\n",
    "\n",
    "config = ClientConfig(\"gwr5J6VWP_VRV2SW5WqDg\", \"uldsvIkXREQN69mKzRPqwKH_XZIO7gZ3\")                #                                                    #\n",
    "config.apiUrl = \"https://app.rhoova.com/api\"\n",
    "api = Api(config)\n",
    "\n",
    "data = {\n",
    "  \"valuationDate\": \"2021-03-17\",\n",
    "  \"settlementDate\": \"2021-03-17\",\n",
    "  \"maturityDate\": \"2021-06-17\",\n",
    "  \"notional\": 10000000,\n",
    "  \"optionDefinition\": {\n",
    "    \"underlying\": \"USD\",\n",
    "    \"currency\": \"TRY\",\n",
    "    \"callPut\": \"Call\",\n",
    "    \"longShort\": \"Long\",\n",
    "    \"exerciseType\": \"European\",\n",
    "    \"strike\": 7.8494,\n",
    "    \"barrier\": 7.1354,\n",
    "    \"barrierType\": \"DownOut\",\n",
    "    \"rebate\": 0,\n",
    "    \"underlyingPrice\": 7.5109,\n",
    "    \"volatility\": 0.19473,\n",
    "    \"interestRate\": 0.16732,\n",
    "    \"riskFreeRate\": 0.0028,\n",
    "    \"processType\": \"GeneralizedBS\",\n",
    "    \"method\": \"Analytic\",\n",
    "    \"calendar\": \"Turkey\",\n",
    "    \"businessDayConvention\": \"Following\",\n",
    "    \"dayCounter\": \"Actual360\",\n",
    "    \"optionStartDate\": \"2021-03-17\",\n",
    "    \"optionEndDate\": \"2021-06-17\"\n",
    "  }\n",
    "}\n",
    "try:\n",
    "    data = api.createTask(CalculationType.SINGLE_BARRIER_OPTION, data, True)\n",
    "    if(data[\"result\"]):\n",
    "      print(json.dumps(json.loads(data[\"result\"]), indent=4))\n",
    "    else:\n",
    "      print(data[\"result\"])\n",
    "except RhoovaError as e:\n",
    "    e.printPretty()\n",
    "\n"
   ]
  },
  {
   "cell_type": "code",
   "execution_count": null,
   "id": "65df8d63",
   "metadata": {},
   "outputs": [],
   "source": []
  }
 ],
 "metadata": {
  "kernelspec": {
   "display_name": "Python 3 (ipykernel)",
   "language": "python",
   "name": "python3"
  },
  "language_info": {
   "codemirror_mode": {
    "name": "ipython",
    "version": 3
   },
   "file_extension": ".py",
   "mimetype": "text/x-python",
   "name": "python",
   "nbconvert_exporter": "python",
   "pygments_lexer": "ipython3",
   "version": "3.9.9"
  }
 },
 "nbformat": 4,
 "nbformat_minor": 5
}
