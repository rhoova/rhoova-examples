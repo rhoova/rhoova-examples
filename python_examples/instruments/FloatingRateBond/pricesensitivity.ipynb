{
 "cells": [
  {
   "cell_type": "code",
   "execution_count": 1,
   "id": "17f579a0",
   "metadata": {},
   "outputs": [],
   "source": [
    "import json\n",
    "import pandas as pd\n",
    "import numpy as np\n",
    "from datetime import datetime\n",
    "import prettytable as pt\n",
    "import matplotlib.pyplot as plt\n",
    "import os\n",
    "import warnings\n",
    "warnings.filterwarnings(\"ignore\")\n",
    "\n",
    "\n",
    "\n",
    "###################################################################################################\n",
    "                                                                                                  #\n",
    "from rhoova.Client import *                                                                       #   \n",
    "#Register and get api key from https://app.rhoova.com/ for ClientConfig(\"api key\", \"api secret\")  #\n",
    "config = ClientConfig(\"\", \"\")                #                                                    #\n",
    "api = Api(config)                                                                                 # \n",
    "                                                                                                  #\n",
    "###################################################################################################\n",
    "\n",
    "\n",
    "directory = os.path.normpath(os.getcwd() + os.sep + os.pardir + os.sep + os.pardir)\n",
    "yielddatadirectory=directory+\"/data/yielddata/bonddefiniton.csv\"\n",
    "marketdatadirectory=directory+\"/data/marketdata/marketdata.csv\"\n",
    "\n",
    "\n",
    "bonddefiniton = pd.read_csv(yielddatadirectory)\n",
    "marketdata = pd.read_csv(marketdatadirectory)\n",
    "\n",
    "data=bonddefiniton.merge(marketdata[['valuationDate','isinCode','value']], left_on='isinCode', right_on='isinCode')\n"
   ]
  },
  {
   "cell_type": "code",
   "execution_count": 2,
   "id": "d2c22567",
   "metadata": {},
   "outputs": [
    {
     "data": {
      "text/plain": [
       "{'issueDate': '2015-07-15',\n",
       " 'maturityDate': '2025-07-15',\n",
       " 'frequency': 'Semiannual',\n",
       " 'spread': 0.0,\n",
       " 'calendar': 'Turkey',\n",
       " 'currency': 'TRY',\n",
       " 'dateGeneration': 'Backward',\n",
       " 'dayCounter': 'Actual360',\n",
       " 'businessDayConvention': 'ModifiedFollowing',\n",
       " 'maturityDateConvention': 'ModifiedFollowing',\n",
       " 'redemption': 100,\n",
       " 'endOfMonth': True}"
      ]
     },
     "execution_count": 2,
     "metadata": {},
     "output_type": "execute_result"
    }
   ],
   "source": [
    "# Rhoova expects date,convention,calendar input  as a string. Frequency values are Semiannual, Annual etc.\n",
    "#6M,1Y cant be accepted.All inputs for fixedratebond are in https://app.rhoova.com/docs#post-/tasks/fixed-rate-bond\n",
    "\n",
    "#Create empty dictionary to fill bond definition. Dictionary name is not case sensitive.\n",
    "#It has to be define fixedRateBondDefinition\n",
    "\n",
    "floatingBondDefinition={}\n",
    "floatingBondDefinition[\"issueDate\"]=\"2015-07-15\"\n",
    "floatingBondDefinition[\"maturityDate\"]=\"2025-07-15\"\n",
    "floatingBondDefinition[\"frequency\"]=\"Semiannual\"\n",
    "floatingBondDefinition[\"spread\"]=0.0\n",
    "floatingBondDefinition[\"calendar\"]=\"Turkey\"\n",
    "floatingBondDefinition[\"currency\"]=\"TRY\"\n",
    "floatingBondDefinition[\"dateGeneration\"]=\"Backward\"\n",
    "floatingBondDefinition[\"dayCounter\"]=\"Actual360\"\n",
    "floatingBondDefinition[\"businessDayConvention\"]=\"ModifiedFollowing\"\n",
    "floatingBondDefinition[\"maturityDateConvention\"]=\"ModifiedFollowing\"\n",
    "floatingBondDefinition[\"redemption\"]=100\n",
    "floatingBondDefinition[\"endOfMonth\"]=True\n",
    "floatingBondDefinition"
   ]
  },
  {
   "cell_type": "code",
   "execution_count": 3,
   "id": "425a553e",
   "metadata": {},
   "outputs": [
    {
     "data": {
      "text/plain": [
       "{'BONDS': {'settlementDays': 2}}"
      ]
     },
     "execution_count": 3,
     "metadata": {},
     "output_type": "execute_result"
    }
   ],
   "source": [
    "instruments={}\n",
    "bonds={}\n",
    "bonds[\"settlementDays\"]=2\n",
    "instruments[\"BONDS\"]=bonds\n",
    "instruments"
   ]
  },
  {
   "cell_type": "code",
   "execution_count": 4,
   "id": "c0197626",
   "metadata": {},
   "outputs": [
    {
     "data": {
      "text/plain": [
       "{'settlementDays': 2,\n",
       " 'calendar': 'Turkey',\n",
       " 'currency': 'USD',\n",
       " 'dayCounter': 'Actual360',\n",
       " 'period': '6M',\n",
       " 'intpMethod': 'Linear',\n",
       " 'instruments': {'BONDS': {'settlementDays': 2}}}"
      ]
     },
     "execution_count": 4,
     "metadata": {},
     "output_type": "execute_result"
    }
   ],
   "source": [
    "#Define discount curve parameter for pricing bonds.\n",
    "discountCurve={}\n",
    "discountCurve[\"settlementDays\"]=2\n",
    "discountCurve[\"calendar\"]=\"Turkey\" \n",
    "discountCurve[\"currency\"]=\"USD\" # Currency is using filter yield data. Only same currency datas are filtered for bond calculation\n",
    "discountCurve[\"dayCounter\"]=\"Actual360\" # Default value is Actual360\n",
    "discountCurve[\"period\"]=\"6M\" # Can not use if instruments selected BONDS\n",
    "discountCurve[\"intpMethod\"]=\"Linear\" # if method is not null, it will not used\n",
    "discountCurve[\"instruments\"]=instruments\n",
    "discountCurve"
   ]
  },
  {
   "cell_type": "code",
   "execution_count": 5,
   "id": "4c23158e",
   "metadata": {},
   "outputs": [
    {
     "data": {
      "text/plain": [
       "{'notional': 100,\n",
       " 'valuationDate': '2021-03-05',\n",
       " 'settlementDate': '2021-03-09',\n",
       " 'buySell': 'Sell'}"
      ]
     },
     "execution_count": 5,
     "metadata": {},
     "output_type": "execute_result"
    }
   ],
   "source": [
    "# Fill bond trade information\n",
    "positiondata={}\n",
    "positiondata[\"notional\"]=100\n",
    "positiondata[\"valuationDate\"]=\"2021-03-05\"\n",
    "positiondata[\"settlementDate\"]=\"2021-03-09\"\n",
    "positiondata[\"buySell\"]=\"Sell\"\n",
    "positiondata"
   ]
  },
  {
   "cell_type": "code",
   "execution_count": 6,
   "id": "71e5be5b",
   "metadata": {},
   "outputs": [],
   "source": [
    "#Join all data\n",
    "positiondata[\"floatingBondDefinition\"]=floatingBondDefinition\n",
    "positiondata[\"discountCurve\"]=discountCurve\n",
    "positiondata[\"yieldData\"]=data.to_dict('r')\n"
   ]
  },
  {
   "cell_type": "code",
   "execution_count": 7,
   "id": "8f4e938e",
   "metadata": {},
   "outputs": [],
   "source": [
    "try:\n",
    "    bondresult = api.createTask(CalculationType.FLOATING_RATE_BOND, positiondata,True)\n",
    "    result=json.loads(bondresult[\"result\"])\n",
    "except RhoovaError as e:\n",
    "    e.printPretty()    "
   ]
  },
  {
   "cell_type": "code",
   "execution_count": 8,
   "id": "322eedd4",
   "metadata": {
    "scrolled": true
   },
   "outputs": [
    {
     "name": "stdout",
     "output_type": "stream",
     "text": [
      "+-------------------+---------+\n",
      "|        Parameters |   Value |\n",
      "+-------------------+---------+\n",
      "|                PV | 100.000 |\n",
      "|       Clean Price | 100.000 |\n",
      "|       Dirty Price | 100.000 |\n",
      "|    Accrued Amount |       0 |\n",
      "| Yield to Maturity |   4.727 |\n",
      "|          Duration |   4.101 |\n",
      "| Modified Duration |   4.006 |\n",
      "| Macualay Duration |   4.101 |\n",
      "|         Convexity |  18.675 |\n",
      "|               Bps |   0.039 |\n",
      "+-------------------+---------+\n"
     ]
    }
   ],
   "source": [
    "npvTable = pt.PrettyTable(['Parameters', 'Value'])\n",
    "npvTable.add_row(['PV', result.get('pv')])\n",
    "npvTable.add_row(['Clean Price', result.get('cleanPrice')])\n",
    "npvTable.add_row(['Dirty Price', result.get('dirtyPrice')])\n",
    "npvTable.add_row(['Accrued Amount', result.get('accruedAmount')])\n",
    "npvTable.add_row(['Yield to Maturity', 100*result.get('yieldToMaturity')])\n",
    "npvTable.add_row(['Duration', result.get('duration')])\n",
    "npvTable.add_row(['Modified Duration', result.get('modifiedDuration')])\n",
    "npvTable.add_row(['Macualay Duration', result.get('macaulayDuration')])\n",
    "npvTable.add_row(['Convexity', result.get('convexity')])\n",
    "npvTable.add_row(['Bps', result.get('bps')])\n",
    "npvTable.align = 'r'\n",
    "npvTable.float_format = '.3'\n",
    "print(npvTable)\n",
    "\n"
   ]
  },
  {
   "cell_type": "code",
   "execution_count": 9,
   "id": "1c7dbf4a",
   "metadata": {},
   "outputs": [],
   "source": [
    "cashflow=pd.DataFrame(result.get(\"data\"))\n",
    "cashflow=cashflow[cashflow[\"termToMatByDay\"]>0]"
   ]
  },
  {
   "cell_type": "code",
   "execution_count": 10,
   "id": "06210360",
   "metadata": {},
   "outputs": [],
   "source": [
    "discountCurve['applyShock']={\n",
    "  \"method\": \"parallel\",\n",
    "  \"shockValues\" : [\n",
    "    {\n",
    "      \"tenor\" : \"all\",\n",
    "      \"shockValue\" : 100.0\n",
    "    }\n",
    "  ]\n",
    "}"
   ]
  },
  {
   "cell_type": "code",
   "execution_count": 11,
   "id": "2f28e0fc",
   "metadata": {},
   "outputs": [],
   "source": [
    "positiondata[\"discountCurve\"]=discountCurve"
   ]
  },
  {
   "cell_type": "code",
   "execution_count": 12,
   "id": "6cf5b036",
   "metadata": {},
   "outputs": [],
   "source": [
    "try:\n",
    "    bondresult = api.createTask(CalculationType.FLOATING_RATE_BOND, positiondata,True)\n",
    "    resultwithshock=json.loads(bondresult[\"result\"])\n",
    "except RhoovaError as e:\n",
    "    e.printPretty() "
   ]
  },
  {
   "cell_type": "code",
   "execution_count": 13,
   "id": "cae69157",
   "metadata": {},
   "outputs": [
    {
     "name": "stdout",
     "output_type": "stream",
     "text": [
      "+-------------------+---------+\n",
      "|        Parameters |   Value |\n",
      "+-------------------+---------+\n",
      "|                PV | 100.000 |\n",
      "|       Clean Price | 100.000 |\n",
      "|       Dirty Price | 100.000 |\n",
      "|    Accrued Amount |       0 |\n",
      "| Yield to Maturity |   5.738 |\n",
      "|          Duration |   4.026 |\n",
      "| Modified Duration |   3.913 |\n",
      "| Macualay Duration |   4.026 |\n",
      "|         Convexity |  18.035 |\n",
      "|               Bps |   0.039 |\n",
      "+-------------------+---------+\n"
     ]
    }
   ],
   "source": [
    "npvTable = pt.PrettyTable(['Parameters', 'Value'])\n",
    "npvTable.add_row(['PV', resultwithshock.get('pv')])\n",
    "npvTable.add_row(['Clean Price', resultwithshock.get('cleanPrice')])\n",
    "npvTable.add_row(['Dirty Price', resultwithshock.get('dirtyPrice')])\n",
    "npvTable.add_row(['Accrued Amount', resultwithshock.get('accruedAmount')])\n",
    "npvTable.add_row(['Yield to Maturity', 100*resultwithshock.get('yieldToMaturity')])\n",
    "npvTable.add_row(['Duration', resultwithshock.get('duration')])\n",
    "npvTable.add_row(['Modified Duration', resultwithshock.get('modifiedDuration')])\n",
    "npvTable.add_row(['Macualay Duration', resultwithshock.get('macaulayDuration')])\n",
    "npvTable.add_row(['Convexity', resultwithshock.get('convexity')])\n",
    "npvTable.add_row(['Bps', resultwithshock.get('bps')])\n",
    "npvTable.align = 'r'\n",
    "npvTable.float_format = '.3'\n",
    "print(npvTable)\n",
    "\n"
   ]
  },
  {
   "cell_type": "markdown",
   "id": "23c55ded",
   "metadata": {},
   "source": [
    "https://www.theice.com/publicdocs/futures/Price_Sensitivity.pdf"
   ]
  },
  {
   "cell_type": "code",
   "execution_count": 14,
   "id": "15a0aa69",
   "metadata": {},
   "outputs": [
    {
     "data": {
      "text/plain": [
       "5.684341886080802e-14"
      ]
     },
     "execution_count": 14,
     "metadata": {},
     "output_type": "execute_result"
    }
   ],
   "source": [
    "BPV=result.get('dirtyPrice')-resultwithshock.get('dirtyPrice')\n",
    "BPV"
   ]
  },
  {
   "cell_type": "code",
   "execution_count": 15,
   "id": "78cba084",
   "metadata": {},
   "outputs": [
    {
     "data": {
      "text/plain": [
       "0.040059577170559385"
      ]
     },
     "execution_count": 15,
     "metadata": {},
     "output_type": "execute_result"
    }
   ],
   "source": [
    "BPV=result.get('modifiedDuration')*result.get('dirtyPrice')*0.0001\n",
    "BPV"
   ]
  },
  {
   "cell_type": "code",
   "execution_count": 16,
   "id": "e8434cd3",
   "metadata": {},
   "outputs": [],
   "source": [
    "shockedcashflow=pd.DataFrame(resultwithshock.get(\"data\"))\n",
    "shockedcashflow=shockedcashflow[shockedcashflow[\"termToMatByDay\"]>0]"
   ]
  },
  {
   "cell_type": "code",
   "execution_count": 17,
   "id": "f07a4b00",
   "metadata": {},
   "outputs": [],
   "source": [
    "zerorates=cashflow[[\"accrualEnd\",\"zeroRate\"]]\n",
    "zerorates.drop(zerorates.tail(1).index,inplace=True) # drop last rows\n",
    "shockedzerorates=shockedcashflow[[\"accrualEnd\",\"zeroRate\"]]\n",
    "shockedzerorates.columns=[\"accrualEnd\",\"shockedzeroRate\"]\n",
    "shockedzerorates.drop(shockedzerorates.tail(1).index,inplace=True) # drop last rows"
   ]
  },
  {
   "cell_type": "code",
   "execution_count": 18,
   "id": "6d421cb0",
   "metadata": {},
   "outputs": [
    {
     "data": {
      "text/html": [
       "<div>\n",
       "<style scoped>\n",
       "    .dataframe tbody tr th:only-of-type {\n",
       "        vertical-align: middle;\n",
       "    }\n",
       "\n",
       "    .dataframe tbody tr th {\n",
       "        vertical-align: top;\n",
       "    }\n",
       "\n",
       "    .dataframe thead th {\n",
       "        text-align: right;\n",
       "    }\n",
       "</style>\n",
       "<table border=\"1\" class=\"dataframe\">\n",
       "  <thead>\n",
       "    <tr style=\"text-align: right;\">\n",
       "      <th></th>\n",
       "      <th>accrualEnd</th>\n",
       "      <th>zeroRate</th>\n",
       "      <th>shockedzeroRate</th>\n",
       "    </tr>\n",
       "  </thead>\n",
       "  <tbody>\n",
       "    <tr>\n",
       "      <th>0</th>\n",
       "      <td>2021-07-16</td>\n",
       "      <td>0.020285</td>\n",
       "      <td>0.030285</td>\n",
       "    </tr>\n",
       "    <tr>\n",
       "      <th>1</th>\n",
       "      <td>2022-01-17</td>\n",
       "      <td>0.026421</td>\n",
       "      <td>0.036421</td>\n",
       "    </tr>\n",
       "    <tr>\n",
       "      <th>2</th>\n",
       "      <td>2022-07-18</td>\n",
       "      <td>0.031710</td>\n",
       "      <td>0.041710</td>\n",
       "    </tr>\n",
       "    <tr>\n",
       "      <th>3</th>\n",
       "      <td>2023-01-16</td>\n",
       "      <td>0.034450</td>\n",
       "      <td>0.044450</td>\n",
       "    </tr>\n",
       "    <tr>\n",
       "      <th>4</th>\n",
       "      <td>2023-07-17</td>\n",
       "      <td>0.037473</td>\n",
       "      <td>0.047473</td>\n",
       "    </tr>\n",
       "    <tr>\n",
       "      <th>5</th>\n",
       "      <td>2024-01-15</td>\n",
       "      <td>0.041276</td>\n",
       "      <td>0.051276</td>\n",
       "    </tr>\n",
       "    <tr>\n",
       "      <th>6</th>\n",
       "      <td>2024-07-16</td>\n",
       "      <td>0.043768</td>\n",
       "      <td>0.053768</td>\n",
       "    </tr>\n",
       "    <tr>\n",
       "      <th>7</th>\n",
       "      <td>2025-01-15</td>\n",
       "      <td>0.045349</td>\n",
       "      <td>0.055349</td>\n",
       "    </tr>\n",
       "    <tr>\n",
       "      <th>8</th>\n",
       "      <td>2025-07-16</td>\n",
       "      <td>0.047402</td>\n",
       "      <td>0.057402</td>\n",
       "    </tr>\n",
       "  </tbody>\n",
       "</table>\n",
       "</div>"
      ],
      "text/plain": [
       "   accrualEnd  zeroRate  shockedzeroRate\n",
       "0  2021-07-16  0.020285         0.030285\n",
       "1  2022-01-17  0.026421         0.036421\n",
       "2  2022-07-18  0.031710         0.041710\n",
       "3  2023-01-16  0.034450         0.044450\n",
       "4  2023-07-17  0.037473         0.047473\n",
       "5  2024-01-15  0.041276         0.051276\n",
       "6  2024-07-16  0.043768         0.053768\n",
       "7  2025-01-15  0.045349         0.055349\n",
       "8  2025-07-16  0.047402         0.057402"
      ]
     },
     "execution_count": 18,
     "metadata": {},
     "output_type": "execute_result"
    }
   ],
   "source": [
    "rates=pd.merge(zerorates, shockedzerorates, on=[\"accrualEnd\", \"accrualEnd\"])\n",
    "rates"
   ]
  },
  {
   "cell_type": "code",
   "execution_count": 19,
   "id": "a7a2005d",
   "metadata": {},
   "outputs": [
    {
     "data": {
      "image/png": "[encoded data removed]",
      "text/plain": [
       "<Figure size 1440x720 with 1 Axes>"
      ]
     },
     "metadata": {
      "needs_background": "light"
     },
     "output_type": "display_data"
    }
   ],
   "source": [
    "dates=list(rates[\"accrualEnd\"])\n",
    "zerorate=list(rates[\"zeroRate\"]*100)\n",
    "shockedzerorate=list(rates[\"shockedzeroRate\"]*100)\n",
    "\n",
    "\n",
    "fig, ax = plt.subplots(figsize=(20, 10))\n",
    "#ax.plot(rates, list(result),label='YielChange',c='b')\n",
    "ax.plot(dates, zerorate,label='Zero Rates',c='r')\n",
    "ax.plot(dates, shockedzerorate,ls='--',label='Zero Rates+1 bp ',c='g')\n",
    "ax.set(xlabel='Dates', ylabel='Rates',\n",
    "       title='Zero Rates')\n",
    "ax.grid()\n",
    "plt.xticks(rotation=45, ha='right')\n",
    "plt.legend(loc=2)\n",
    "plt.show()"
   ]
  }
 ],
 "metadata": {
  "kernelspec": {
   "display_name": "Python 3 (ipykernel)",
   "language": "python",
   "name": "python3"
  },
  "language_info": {
   "codemirror_mode": {
    "name": "ipython",
    "version": 3
   },
   "file_extension": ".py",
   "mimetype": "text/x-python",
   "name": "python",
   "nbconvert_exporter": "python",
   "pygments_lexer": "ipython3",
   "version": "3.9.9"
  }
 },
 "nbformat": 4,
 "nbformat_minor": 5
}
