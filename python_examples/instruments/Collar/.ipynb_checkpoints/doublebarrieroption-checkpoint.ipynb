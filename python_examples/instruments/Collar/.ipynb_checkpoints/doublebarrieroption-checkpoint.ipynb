{
 "cells": [
  {
   "cell_type": "code",
   "execution_count": 1,
   "id": "88310c23",
   "metadata": {},
   "outputs": [
    {
     "name": "stdout",
     "output_type": "stream",
     "text": [
      "{\n",
      "    \"title\": \"Bad Request Errors\",\n",
      "    \"titleKey\": \"errors.bad.request\",\n",
      "    \"instance\": \"431c55d7-6d6c-4fce-b7fb-8473a22cd091\",\n",
      "    \"timestamp\": \"2022-08-06T10:04:10.863Z\",\n",
      "    \"errors\": [\n",
      "        {\n",
      "            \"detailKey\": \"errors.request.validation\",\n",
      "            \"detail\": \"Request data validation error\",\n",
      "            \"metadata\": {\n",
      "                \"errorLine\": \"\\n6\\n\",\n",
      "                \"error\": [\n",
      "                    {\n",
      "                        \"instancePath\": \"/optionDefinition\",\n",
      "                        \"schemaPath\": \"#/properties/optionDefinition/required\",\n",
      "                        \"keyword\": \"required\",\n",
      "                        \"params\": {\n",
      "                            \"missingProperty\": \"barrier\"\n",
      "                        },\n",
      "                        \"message\": \"must have required property 'barrier'\"\n",
      "                    }\n",
      "                ]\n",
      "            }\n",
      "        }\n",
      "    ]\n",
      "}\n"
     ]
    }
   ],
   "source": [
    "import json\n",
    "import pandas as pd\n",
    "import numpy as np\n",
    "import prettytable as pt\n",
    "from IPython.display import Image\n",
    "import os \n",
    "import warnings\n",
    "warnings.filterwarnings(\"ignore\")\n",
    "\n",
    "\n",
    "\n",
    "from rhoova.Client import *\n",
    "\n",
    "config = ClientConfig(\"gwr5J6VWP_VRV2SW5WqDg\", \"uldsvIkXREQN69mKzRPqwKH_XZIO7gZ3\")                #                                                    #\n",
    "config.apiUrl = \"https://app.rhoova.com/api\"\n",
    "api = Api(config)\n",
    "\n",
    "data = {\n",
    "  \"valuationDate\": \"2021-03-17\",\n",
    "  \"settlementDate\": \"2021-03-17\",\n",
    "  \"maturityDate\": \"2021-06-17\",\n",
    "  \"notional\": 1000000,\n",
    "  \"optionDefinition\": {\n",
    "    \"underlying\": \"USD\",\n",
    "    \"currency\": \"TRY\",\n",
    "    \"callPut\": \"Call\",\n",
    "    \"longShort\": \"Long\",\n",
    "    \"exerciseType\": \"European\",\n",
    "    \"strike\": 7.8494,\n",
    "    \"upperBarrier\": 8.2864,\n",
    "    \"lowerBarrier\": 7.1354,\n",
    "    \"barrierType\": \"Knockout\",\n",
    "    \"rebate\": 0,\n",
    "    \"underlyingPrice\": 7.5109,\n",
    "    \"processType\": \"GeneralizedBS\",\n",
    "    \"method\": \"Analytic\",\n",
    "    \"calendar\": \"Turkey\",\n",
    "    \"businessDayConvention\": \"Following\",\n",
    "    \"dayCounter\": \"Actual360\",\n",
    "    \"optionStartDate\": \"2021-03-17\",\n",
    "    \"optionEndDate\": \"2021-06-17\",  \n",
    "    \"volatility\": 0.19473,\n",
    "    \"interestRate\": 0.16732,\n",
    "    \"riskFreeRate\": 0.0028\n",
    "  }\n",
    "}\n",
    "\n",
    "try:\n",
    "    result = api.createTask(CalculationType.SINGLE_BARRIER_OPTION, data,True)\n",
    "    result=json.loads(result[\"result\"])\n",
    "except RhoovaError as e:\n",
    "    e.printPretty()\n",
    "    \n"
   ]
  },
  {
   "cell_type": "code",
   "execution_count": 2,
   "id": "13b4d414",
   "metadata": {},
   "outputs": [
    {
     "ename": "NameError",
     "evalue": "name 'result' is not defined",
     "output_type": "error",
     "traceback": [
      "\u001b[0;31m---------------------------------------------------------------------------\u001b[0m",
      "\u001b[0;31mNameError\u001b[0m                                 Traceback (most recent call last)",
      "Input \u001b[0;32mIn [2]\u001b[0m, in \u001b[0;36m<cell line: 2>\u001b[0;34m()\u001b[0m\n\u001b[1;32m      1\u001b[0m npvTable \u001b[38;5;241m=\u001b[39m pt\u001b[38;5;241m.\u001b[39mPrettyTable([\u001b[38;5;124m'\u001b[39m\u001b[38;5;124mParameters\u001b[39m\u001b[38;5;124m'\u001b[39m, \u001b[38;5;124m'\u001b[39m\u001b[38;5;124mValue\u001b[39m\u001b[38;5;124m'\u001b[39m])\n\u001b[0;32m----> 2\u001b[0m npvTable\u001b[38;5;241m.\u001b[39madd_row([\u001b[38;5;124m'\u001b[39m\u001b[38;5;124mMTM\u001b[39m\u001b[38;5;124m'\u001b[39m, \u001b[43mresult\u001b[49m\u001b[38;5;241m.\u001b[39mget(\u001b[38;5;124m'\u001b[39m\u001b[38;5;124mmtm\u001b[39m\u001b[38;5;124m'\u001b[39m)])\n\u001b[1;32m      3\u001b[0m npvTable\u001b[38;5;241m.\u001b[39madd_row([\u001b[38;5;124m'\u001b[39m\u001b[38;5;124mPV\u001b[39m\u001b[38;5;124m'\u001b[39m, result\u001b[38;5;241m.\u001b[39mget(\u001b[38;5;124m'\u001b[39m\u001b[38;5;124mpv\u001b[39m\u001b[38;5;124m'\u001b[39m)\u001b[38;5;241m/\u001b[39mdata\u001b[38;5;241m.\u001b[39mget(\u001b[38;5;124m'\u001b[39m\u001b[38;5;124moptionDefinition\u001b[39m\u001b[38;5;124m'\u001b[39m)\u001b[38;5;241m.\u001b[39mget(\u001b[38;5;124m'\u001b[39m\u001b[38;5;124munderlyingPrice\u001b[39m\u001b[38;5;124m'\u001b[39m)])\n\u001b[1;32m      4\u001b[0m npvTable\u001b[38;5;241m.\u001b[39madd_row([\u001b[38;5;124m'\u001b[39m\u001b[38;5;124mVolatility\u001b[39m\u001b[38;5;124m'\u001b[39m, \u001b[38;5;241m100\u001b[39m\u001b[38;5;241m*\u001b[39mresult\u001b[38;5;241m.\u001b[39mget(\u001b[38;5;124m'\u001b[39m\u001b[38;5;124mvolatility\u001b[39m\u001b[38;5;124m'\u001b[39m)])\n",
      "\u001b[0;31mNameError\u001b[0m: name 'result' is not defined"
     ]
    }
   ],
   "source": [
    "npvTable = pt.PrettyTable(['Parameters', 'Value'])\n",
    "npvTable.add_row(['MTM', result.get('mtm')])\n",
    "npvTable.add_row(['PV', result.get('pv')/data.get('optionDefinition').get('underlyingPrice')])\n",
    "npvTable.add_row(['Volatility', 100*result.get('volatility')])\n",
    "npvTable.add_row(['Delta', result.get('delta')])\n",
    "npvTable.add_row(['Gamma', result.get('gamma')])\n",
    "npvTable.add_row(['Vega', result.get('vega')])\n",
    "npvTable.add_row(['Theta', result.get('theta')])\n",
    "npvTable.add_row(['Rho', result.get('rho')])\n",
    "npvTable.add_row(['Dividen Rho', result.get('dividendRho')])\n",
    "npvTable.add_row(['Delta Notional', result.get('deltaNotional')])\n",
    "npvTable.add_row(['Vega Notional', result.get('vegaNotional')])\n",
    "npvTable.add_row(['Rho Notional', result.get('rhoNotional')])\n",
    "npvTable.add_row(['Dividen Rho Notional', result.get('dividendRhoNotional')])\n",
    "npvTable.align = 'r'\n",
    "npvTable.float_format = '.4'\n",
    "print(npvTable)\n",
    "\n",
    "\n"
   ]
  },
  {
   "cell_type": "code",
   "execution_count": null,
   "id": "ee2456e7",
   "metadata": {},
   "outputs": [],
   "source": []
  }
 ],
 "metadata": {
  "kernelspec": {
   "display_name": "Python 3 (ipykernel)",
   "language": "python",
   "name": "python3"
  },
  "language_info": {
   "codemirror_mode": {
    "name": "ipython",
    "version": 3
   },
   "file_extension": ".py",
   "mimetype": "text/x-python",
   "name": "python",
   "nbconvert_exporter": "python",
   "pygments_lexer": "ipython3",
   "version": "3.9.9"
  }
 },
 "nbformat": 4,
 "nbformat_minor": 5
}
