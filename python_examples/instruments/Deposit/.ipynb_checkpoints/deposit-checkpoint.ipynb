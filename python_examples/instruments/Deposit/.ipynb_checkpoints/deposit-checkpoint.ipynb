{
 "cells": [
  {
   "cell_type": "code",
   "execution_count": 1,
   "id": "7f2482ee",
   "metadata": {},
   "outputs": [],
   "source": [
    "import json\n",
    "import pandas as pd\n",
    "import numpy as np\n",
    "import math\n",
    "from scipy import optimize\n",
    "from datetime import datetime\n",
    "import prettytable as pt\n",
    "from matplotlib import pyplot as plt\n",
    "import os\n",
    "import prettytable as pt\n",
    "import warnings\n",
    "warnings.filterwarnings(\"ignore\")\n",
    "\n",
    "\n",
    "\n",
    "###################################################################################################\n",
    "                                                                                                  #\n",
    "from rhoova.Client import *                                                                       #   \n",
    "#Register and get api key from https://app.rhoova.com/ for ClientConfig(\"api key\", \"api secret\")  #\n",
    "config = ClientConfig(\"\", \"\")                                                                     #\n",
    "api = Api(config)                                                                                 # \n",
    "                                                                                                  #\n",
    "###################################################################################################\n",
    "\n"
   ]
  },
  {
   "cell_type": "code",
   "execution_count": 2,
   "id": "a84ddff8",
   "metadata": {},
   "outputs": [],
   "source": [
    "\n",
    "data = {\n",
    "    \"capital\": 10000,\n",
    "    \"interestRate\": 0.01,\n",
    "    \"frequency\": \"Monthly\",\n",
    "    \"valuationDate\": \"2016-12-20\",\n",
    "    \"maturityDate\": \"2017-12-20\",\n",
    "    \"depositDefinition\": {\n",
    "        \"dayCounter\": \"ActualActual\",\n",
    "        \"calendar\": \"TARGET\",\n",
    "        \"businessDayConvention\": \"Following\",\n",
    "        \"maturityDateConvention\": \"Following\",\n",
    "        \"dateGeneration\": \"Backward\",\n",
    "        \"endOfMonth\": True\n",
    "    }\n",
    "}\n",
    "\n",
    "try:\n",
    "    bondresult = api.createTask(CalculationType.DEPOSIT, data,True)\n",
    "    result=json.loads(bondresult[\"result\"])\n",
    "except RhoovaError as e:\n",
    "    e.printPretty()        \n",
    "\n",
    "    "
   ]
  },
  {
   "cell_type": "code",
   "execution_count": 3,
   "id": "24b9cb96",
   "metadata": {},
   "outputs": [],
   "source": [
    "cashflows=pd.DataFrame(result)"
   ]
  },
  {
   "cell_type": "code",
   "execution_count": 4,
   "id": "287ae30e",
   "metadata": {},
   "outputs": [
    {
     "data": {
      "text/html": [
       "<div>\n",
       "<style scoped>\n",
       "    .dataframe tbody tr th:only-of-type {\n",
       "        vertical-align: middle;\n",
       "    }\n",
       "\n",
       "    .dataframe tbody tr th {\n",
       "        vertical-align: top;\n",
       "    }\n",
       "\n",
       "    .dataframe thead th {\n",
       "        text-align: right;\n",
       "    }\n",
       "</style>\n",
       "<table border=\"1\" class=\"dataframe\">\n",
       "  <thead>\n",
       "    <tr style=\"text-align: right;\">\n",
       "      <th></th>\n",
       "      <th>day</th>\n",
       "      <th>termToMatByYear</th>\n",
       "      <th>termToMatByDay</th>\n",
       "      <th>cashflow</th>\n",
       "    </tr>\n",
       "  </thead>\n",
       "  <tbody>\n",
       "    <tr>\n",
       "      <th>0</th>\n",
       "      <td>2017-12-20</td>\n",
       "      <td>0.99991</td>\n",
       "      <td>365</td>\n",
       "      <td>10100.45054</td>\n",
       "    </tr>\n",
       "  </tbody>\n",
       "</table>\n",
       "</div>"
      ],
      "text/plain": [
       "          day  termToMatByYear  termToMatByDay     cashflow\n",
       "0  2017-12-20          0.99991             365  10100.45054"
      ]
     },
     "execution_count": 4,
     "metadata": {},
     "output_type": "execute_result"
    }
   ],
   "source": [
    "cashflows"
   ]
  }
 ],
 "metadata": {
  "kernelspec": {
   "display_name": "Python 3 (ipykernel)",
   "language": "python",
   "name": "python3"
  },
  "language_info": {
   "codemirror_mode": {
    "name": "ipython",
    "version": 3
   },
   "file_extension": ".py",
   "mimetype": "text/x-python",
   "name": "python",
   "nbconvert_exporter": "python",
   "pygments_lexer": "ipython3",
   "version": "3.9.9"
  }
 },
 "nbformat": 4,
 "nbformat_minor": 5
}
