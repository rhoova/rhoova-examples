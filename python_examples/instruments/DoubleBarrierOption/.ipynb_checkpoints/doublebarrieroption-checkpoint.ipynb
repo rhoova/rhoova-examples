{
 "cells": [
  {
   "cell_type": "code",
   "execution_count": 1,
   "id": "3a228944",
   "metadata": {},
   "outputs": [],
   "source": [
    "import json\n",
    "import os\n",
    "import pandas as pd\n",
    "import numpy as np\n",
    "import prettytable as pt\n",
    "import warnings\n",
    "warnings.filterwarnings(\"ignore\")\n",
    "\n",
    "\n",
    "###################################################################################################\n",
    "                                                                                                  #\n",
    "from rhoova.Client import *                                                                       #   \n",
    "#Register and get api key from https://app.rhoova.com/ for ClientConfig(\"api key\", \"api secret\")  #\n",
    "config = ClientConfig(\"\", \"\")                                                                     #\n",
    "api = Api(config)                                                                                 # \n",
    "                                                                                                  #\n",
    "###################################################################################################\n"
   ]
  },
  {
   "cell_type": "code",
   "execution_count": 2,
   "id": "88310c23",
   "metadata": {},
   "outputs": [],
   "source": [
    "data = {\n",
    "  \"valuationDate\": \"2021-03-17\",\n",
    "  \"settlementDate\": \"2021-03-17\",\n",
    "  \"maturityDate\": \"2021-06-17\",\n",
    "  \"notional\": 1000000,\n",
    "  \"optionDefinition\": {\n",
    "    \"underlying\": \"USD\",\n",
    "    \"currency\": \"TRY\",\n",
    "    \"callPut\": \"Call\",\n",
    "    \"longShort\": \"Long\",\n",
    "    \"exerciseType\": \"European\",\n",
    "    \"strike\": 7.8488,\n",
    "    \"upperBarrier\": 8.2864,\n",
    "    \"lowerBarrier\": 7.1354,\n",
    "    \"barrierType\": \"Knockout\",\n",
    "    \"rebate\": 0,\n",
    "    \"underlyingPrice\": 7.5109,\n",
    "    \"processType\": \"GeneralizedBS\",\n",
    "    \"method\": \"Analytic\",\n",
    "    \"calendar\": \"Turkey\",\n",
    "    \"businessDayConvention\": \"Following\",\n",
    "    \"dayCounter\": \"Actual360\",\n",
    "    \"optionStartDate\": \"2021-03-17\",\n",
    "    \"optionEndDate\": \"2021-06-17\",  \n",
    "    \"volatility\": 0.19130,\n",
    "    \"interestRate\": 0.17632,\n",
    "    \"riskFreeRate\": 0.0028\n",
    "  }\n",
    "}\n",
    "\n",
    "try:\n",
    "    result = api.createTask(CalculationType.DOUBLE_BARRIER_OPTION, data,True)\n",
    "    result=json.loads(result[\"result\"])\n",
    "except RhoovaError as e:\n",
    "    e.printPretty()\n",
    "    \n"
   ]
  },
  {
   "cell_type": "code",
   "execution_count": 3,
   "id": "13b4d414",
   "metadata": {},
   "outputs": [
    {
     "name": "stdout",
     "output_type": "stream",
     "text": [
      "+----------------------+----------+\n",
      "|           Parameters |    Value |\n",
      "+----------------------+----------+\n",
      "|                  MTM |   0.0074 |\n",
      "|                   PV | 987.7665 |\n",
      "|           Volatility |  19.1300 |\n",
      "|                Delta |        0 |\n",
      "|                Gamma |        0 |\n",
      "|                 Vega |        0 |\n",
      "|                Theta |        0 |\n",
      "|                  Rho |        0 |\n",
      "|          Dividen Rho |        0 |\n",
      "|       Delta Notional |        0 |\n",
      "|        Vega Notional |        0 |\n",
      "|         Rho Notional |        0 |\n",
      "| Dividen Rho Notional |        0 |\n",
      "+----------------------+----------+\n"
     ]
    }
   ],
   "source": [
    "npvTable = pt.PrettyTable(['Parameters', 'Value'])\n",
    "npvTable.add_row(['MTM', result.get('mtm')])\n",
    "npvTable.add_row(['PV', result.get('pv')/data.get('optionDefinition').get('underlyingPrice')])\n",
    "npvTable.add_row(['Volatility', 100*result.get('volatility')])\n",
    "npvTable.add_row(['Delta', result.get('delta')])\n",
    "npvTable.add_row(['Gamma', result.get('gamma')])\n",
    "npvTable.add_row(['Vega', result.get('vega')])\n",
    "npvTable.add_row(['Theta', result.get('theta')])\n",
    "npvTable.add_row(['Rho', result.get('rho')])\n",
    "npvTable.add_row(['Dividen Rho', result.get('dividendRho')])\n",
    "npvTable.add_row(['Delta Notional', result.get('deltaNotional')])\n",
    "npvTable.add_row(['Vega Notional', result.get('vegaNotional')])\n",
    "npvTable.add_row(['Rho Notional', result.get('rhoNotional')])\n",
    "npvTable.add_row(['Dividen Rho Notional', result.get('dividendRhoNotional')])\n",
    "npvTable.align = 'r'\n",
    "npvTable.float_format = '.4'\n",
    "print(npvTable)\n",
    "\n",
    "\n"
   ]
  },
  {
   "cell_type": "markdown",
   "id": "9feaf871",
   "metadata": {},
   "source": [
    "<div><img src=\"doubleknockout.png\"  style=\"width: 400px;height:600px\" align=\"left\"/></div> "
   ]
  },
  {
   "cell_type": "code",
   "execution_count": 4,
   "id": "8c71f88b",
   "metadata": {},
   "outputs": [],
   "source": [
    "data = {\n",
    "  \"valuationDate\": \"2021-03-17\",\n",
    "  \"settlementDate\": \"2021-03-17\",\n",
    "  \"maturityDate\": \"2021-06-17\",\n",
    "  \"notional\": 1000000,\n",
    "  \"optionDefinition\": {\n",
    "    \"underlying\": \"USD\",\n",
    "    \"currency\": \"TRY\",\n",
    "    \"callPut\": \"Call\",\n",
    "    \"longShort\": \"Long\",\n",
    "    \"exerciseType\": \"European\",\n",
    "    \"strike\": 7.8488,\n",
    "    \"upperBarrier\": 8.2864,\n",
    "    \"lowerBarrier\": 7.1354,\n",
    "    \"barrierType\": \"Knockin\",\n",
    "    \"rebate\": 0,\n",
    "    \"underlyingPrice\": 7.5109,\n",
    "    \"processType\": \"GeneralizedBS\",\n",
    "    \"method\": \"Analytic\",\n",
    "    \"calendar\": \"Turkey\",\n",
    "    \"businessDayConvention\": \"Following\",\n",
    "    \"dayCounter\": \"Actual360\",\n",
    "    \"optionStartDate\": \"2021-03-17\",\n",
    "    \"optionEndDate\": \"2021-06-17\",  \n",
    "    \"volatility\": 0.19130,\n",
    "    \"interestRate\": 0.17632,\n",
    "    \"riskFreeRate\": 0.0028\n",
    "  }\n",
    "}\n",
    "\n",
    "try:\n",
    "    result = api.createTask(CalculationType.DOUBLE_BARRIER_OPTION, data,True)\n",
    "    result=json.loads(result[\"result\"])\n",
    "except RhoovaError as e:\n",
    "    e.printPretty()\n",
    "    \n",
    "\n"
   ]
  },
  {
   "cell_type": "code",
   "execution_count": 5,
   "id": "6d858e2f",
   "metadata": {},
   "outputs": [
    {
     "name": "stdout",
     "output_type": "stream",
     "text": [
      "+----------------------+------------+\n",
      "|           Parameters |      Value |\n",
      "+----------------------+------------+\n",
      "|                  MTM |     0.2833 |\n",
      "|                   PV | 37712.9900 |\n",
      "|           Volatility |    19.1300 |\n",
      "|                Delta |          0 |\n",
      "|                Gamma |          0 |\n",
      "|                 Vega |          0 |\n",
      "|                Theta |          0 |\n",
      "|                  Rho |          0 |\n",
      "|          Dividen Rho |          0 |\n",
      "|       Delta Notional |          0 |\n",
      "|        Vega Notional |          0 |\n",
      "|         Rho Notional |          0 |\n",
      "| Dividen Rho Notional |          0 |\n",
      "+----------------------+------------+\n"
     ]
    }
   ],
   "source": [
    "npvTable = pt.PrettyTable(['Parameters', 'Value'])\n",
    "npvTable.add_row(['MTM', result.get('mtm')])\n",
    "npvTable.add_row(['PV', result.get('pv')/data.get('optionDefinition').get('underlyingPrice')])\n",
    "npvTable.add_row(['Volatility', 100*result.get('volatility')])\n",
    "npvTable.add_row(['Delta', result.get('delta')])\n",
    "npvTable.add_row(['Gamma', result.get('gamma')])\n",
    "npvTable.add_row(['Vega', result.get('vega')])\n",
    "npvTable.add_row(['Theta', result.get('theta')])\n",
    "npvTable.add_row(['Rho', result.get('rho')])\n",
    "npvTable.add_row(['Dividen Rho', result.get('dividendRho')])\n",
    "npvTable.add_row(['Delta Notional', result.get('deltaNotional')])\n",
    "npvTable.add_row(['Vega Notional', result.get('vegaNotional')])\n",
    "npvTable.add_row(['Rho Notional', result.get('rhoNotional')])\n",
    "npvTable.add_row(['Dividen Rho Notional', result.get('dividendRhoNotional')])\n",
    "npvTable.align = 'r'\n",
    "npvTable.float_format = '.4'\n",
    "print(npvTable)\n",
    "\n"
   ]
  },
  {
   "cell_type": "markdown",
   "id": "1ddc3d25",
   "metadata": {},
   "source": [
    "<div><img src=\"doubleknockin.png\"  style=\"width: 400px;height:600px\" align=\"left\"/></div> "
   ]
  }
 ],
 "metadata": {
  "kernelspec": {
   "display_name": "Python 3 (ipykernel)",
   "language": "python",
   "name": "python3"
  },
  "language_info": {
   "codemirror_mode": {
    "name": "ipython",
    "version": 3
   },
   "file_extension": ".py",
   "mimetype": "text/x-python",
   "name": "python",
   "nbconvert_exporter": "python",
   "pygments_lexer": "ipython3",
   "version": "3.9.9"
  }
 },
 "nbformat": 4,
 "nbformat_minor": 5
}
