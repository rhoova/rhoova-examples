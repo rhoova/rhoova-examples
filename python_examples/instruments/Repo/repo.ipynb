{
 "cells": [
  {
   "cell_type": "code",
   "execution_count": 1,
   "id": "17f579a0",
   "metadata": {},
   "outputs": [],
   "source": [
    "import json\n",
    "import pandas as pd\n",
    "import numpy as np\n",
    "from datetime import datetime\n",
    "import prettytable as pt\n",
    "import os\n",
    "import warnings\n",
    "warnings.filterwarnings(\"ignore\")\n",
    "\n",
    "\n",
    "\n",
    "###################################################################################################\n",
    "                                                                                                  #\n",
    "from rhoova.Client import *                                                                       #   \n",
    "#Register and get api key from https://app.rhoova.com/ for ClientConfig(\"api key\", \"api secret\")  #\n",
    "config = ClientConfig(\"\", \"\")                                                                     #\n",
    "api = Api(config)                                                                                 # \n",
    "                                                                                                  #\n",
    "    \n",
    "###################################################################################################"
   ]
  },
  {
   "cell_type": "code",
   "execution_count": 2,
   "id": "7e55b7a5",
   "metadata": {},
   "outputs": [],
   "source": [
    "positiondata = {\n",
    "  \"valuationDate\": \"2021-06-18\",\n",
    "  \"settlementMoney\": 835851.65,\n",
    "  \"termMoney\": None,\n",
    "  \"repoSettlementDate\": \"2021-06-21\",\n",
    "  \"repoDeliveryDate\": \"2021-06-23\",\n",
    "  \"repoType\": \"Repo\",\n",
    "  \"currency\": \"TRY\",\n",
    "  \"dayCounter\": \"Actual360\",\n",
    "  \"notional\": None,\n",
    "  \"marginOrHaircut\": \"Haircut\",\n",
    "  \"marginOrHaircutRate\": 1,\n",
    "  \"dirtyPrice\": None,\n",
    "  \"exdividend\": True,\n",
    "  \"repoRate\": 0.00035,\n",
    "  \"collateral\": None\n",
    "}\n",
    "\n",
    "try:\n",
    "    reporesult = api.createTask(CalculationType.REPO, positiondata,True)\n",
    "    result=json.loads(reporesult[\"result\"])\n",
    "except RhoovaError as e:\n",
    "    e.printPretty()    \n"
   ]
  },
  {
   "cell_type": "code",
   "execution_count": 3,
   "id": "f1325d13",
   "metadata": {},
   "outputs": [
    {
     "name": "stdout",
     "output_type": "stream",
     "text": [
      "+----------------+-------------+\n",
      "|     Parameters |       Value |\n",
      "+----------------+-------------+\n",
      "|             PV | -835851.650 |\n",
      "| Repo Deliviery | -835853.275 |\n",
      "+----------------+-------------+\n"
     ]
    }
   ],
   "source": [
    "npvTable = pt.PrettyTable(['Parameters', 'Value'])\n",
    "npvTable.add_row(['PV', result.get('pv')])\n",
    "npvTable.add_row(['Repo Deliviery', result.get('repoDelivery')])\n",
    "npvTable.align = 'r'\n",
    "npvTable.float_format = '.3'\n",
    "print(npvTable)"
   ]
  },
  {
   "cell_type": "code",
   "execution_count": 4,
   "id": "006747a2",
   "metadata": {},
   "outputs": [
    {
     "data": {
      "text/html": [
       "<div>\n",
       "<style scoped>\n",
       "    .dataframe tbody tr th:only-of-type {\n",
       "        vertical-align: middle;\n",
       "    }\n",
       "\n",
       "    .dataframe tbody tr th {\n",
       "        vertical-align: top;\n",
       "    }\n",
       "\n",
       "    .dataframe thead th {\n",
       "        text-align: right;\n",
       "    }\n",
       "</style>\n",
       "<table border=\"1\" class=\"dataframe\">\n",
       "  <thead>\n",
       "    <tr style=\"text-align: right;\">\n",
       "      <th></th>\n",
       "      <th>fixingDate</th>\n",
       "      <th>accrualStart</th>\n",
       "      <th>accrualEnd</th>\n",
       "      <th>notional</th>\n",
       "      <th>currency</th>\n",
       "      <th>leg</th>\n",
       "      <th>payOrReceive</th>\n",
       "      <th>instrument</th>\n",
       "      <th>rate</th>\n",
       "      <th>zeroRate</th>\n",
       "      <th>spread</th>\n",
       "      <th>termToMatByDay</th>\n",
       "      <th>termToMatByYear</th>\n",
       "      <th>cashflow</th>\n",
       "      <th>discountFactor</th>\n",
       "      <th>cashflowPv</th>\n",
       "    </tr>\n",
       "  </thead>\n",
       "  <tbody>\n",
       "    <tr>\n",
       "      <th>0</th>\n",
       "      <td>2021-06-21</td>\n",
       "      <td>2021-06-21</td>\n",
       "      <td>2021-06-23</td>\n",
       "      <td>835851</td>\n",
       "      <td>TRY</td>\n",
       "      <td>Fixed</td>\n",
       "      <td>Pay</td>\n",
       "      <td>Repo</td>\n",
       "      <td>0.00035</td>\n",
       "      <td>0.00035</td>\n",
       "      <td>0</td>\n",
       "      <td>2</td>\n",
       "      <td>0.005556</td>\n",
       "      <td>835853.275267</td>\n",
       "      <td>0.999998</td>\n",
       "      <td>835851.649998</td>\n",
       "    </tr>\n",
       "  </tbody>\n",
       "</table>\n",
       "</div>"
      ],
      "text/plain": [
       "   fixingDate accrualStart  accrualEnd  notional currency    leg payOrReceive  \\\n",
       "0  2021-06-21   2021-06-21  2021-06-23    835851      TRY  Fixed          Pay   \n",
       "\n",
       "  instrument     rate  zeroRate  spread  termToMatByDay  termToMatByYear  \\\n",
       "0       Repo  0.00035   0.00035       0               2         0.005556   \n",
       "\n",
       "        cashflow  discountFactor     cashflowPv  \n",
       "0  835853.275267        0.999998  835851.649998  "
      ]
     },
     "execution_count": 4,
     "metadata": {},
     "output_type": "execute_result"
    }
   ],
   "source": [
    "cashflow=pd.DataFrame(result.get(\"data\"))\n",
    "cashflow"
   ]
  },
  {
   "cell_type": "code",
   "execution_count": 5,
   "id": "b3b3cdd5",
   "metadata": {},
   "outputs": [],
   "source": [
    "positiondata[\"repoType\"]=\"RRepo\""
   ]
  },
  {
   "cell_type": "code",
   "execution_count": 6,
   "id": "5f8c8580",
   "metadata": {},
   "outputs": [],
   "source": [
    "try:\n",
    "    reporesult = api.createTask(CalculationType.REPO, positiondata,True)\n",
    "    result=json.loads(reporesult[\"result\"])\n",
    "except RhoovaError as e:\n",
    "    e.printPretty()    \n",
    "\n"
   ]
  },
  {
   "cell_type": "code",
   "execution_count": 7,
   "id": "56f24387",
   "metadata": {},
   "outputs": [
    {
     "name": "stdout",
     "output_type": "stream",
     "text": [
      "+----------------+------------+\n",
      "|     Parameters |      Value |\n",
      "+----------------+------------+\n",
      "|             PV | 835851.650 |\n",
      "| Repo Deliviery | 835853.275 |\n",
      "+----------------+------------+\n"
     ]
    }
   ],
   "source": [
    "npvTable = pt.PrettyTable(['Parameters', 'Value'])\n",
    "npvTable.add_row(['PV', result.get('pv')])\n",
    "npvTable.add_row(['Repo Deliviery', result.get('repoDelivery')])\n",
    "npvTable.align = 'r'\n",
    "npvTable.float_format = '.3'\n",
    "print(npvTable)"
   ]
  },
  {
   "cell_type": "code",
   "execution_count": 8,
   "id": "33a46720",
   "metadata": {},
   "outputs": [
    {
     "data": {
      "text/html": [
       "<div>\n",
       "<style scoped>\n",
       "    .dataframe tbody tr th:only-of-type {\n",
       "        vertical-align: middle;\n",
       "    }\n",
       "\n",
       "    .dataframe tbody tr th {\n",
       "        vertical-align: top;\n",
       "    }\n",
       "\n",
       "    .dataframe thead th {\n",
       "        text-align: right;\n",
       "    }\n",
       "</style>\n",
       "<table border=\"1\" class=\"dataframe\">\n",
       "  <thead>\n",
       "    <tr style=\"text-align: right;\">\n",
       "      <th></th>\n",
       "      <th>fixingDate</th>\n",
       "      <th>accrualStart</th>\n",
       "      <th>accrualEnd</th>\n",
       "      <th>notional</th>\n",
       "      <th>currency</th>\n",
       "      <th>leg</th>\n",
       "      <th>payOrReceive</th>\n",
       "      <th>instrument</th>\n",
       "      <th>rate</th>\n",
       "      <th>zeroRate</th>\n",
       "      <th>spread</th>\n",
       "      <th>termToMatByDay</th>\n",
       "      <th>termToMatByYear</th>\n",
       "      <th>cashflow</th>\n",
       "      <th>discountFactor</th>\n",
       "      <th>cashflowPv</th>\n",
       "    </tr>\n",
       "  </thead>\n",
       "  <tbody>\n",
       "    <tr>\n",
       "      <th>0</th>\n",
       "      <td>2021-06-21</td>\n",
       "      <td>2021-06-21</td>\n",
       "      <td>2021-06-23</td>\n",
       "      <td>835851</td>\n",
       "      <td>TRY</td>\n",
       "      <td>Fixed</td>\n",
       "      <td>Receive</td>\n",
       "      <td>Repo</td>\n",
       "      <td>0.00035</td>\n",
       "      <td>0.00035</td>\n",
       "      <td>0</td>\n",
       "      <td>2</td>\n",
       "      <td>0.005556</td>\n",
       "      <td>835853.275267</td>\n",
       "      <td>0.999998</td>\n",
       "      <td>835851.649998</td>\n",
       "    </tr>\n",
       "  </tbody>\n",
       "</table>\n",
       "</div>"
      ],
      "text/plain": [
       "   fixingDate accrualStart  accrualEnd  notional currency    leg payOrReceive  \\\n",
       "0  2021-06-21   2021-06-21  2021-06-23    835851      TRY  Fixed      Receive   \n",
       "\n",
       "  instrument     rate  zeroRate  spread  termToMatByDay  termToMatByYear  \\\n",
       "0       Repo  0.00035   0.00035       0               2         0.005556   \n",
       "\n",
       "        cashflow  discountFactor     cashflowPv  \n",
       "0  835853.275267        0.999998  835851.649998  "
      ]
     },
     "execution_count": 8,
     "metadata": {},
     "output_type": "execute_result"
    }
   ],
   "source": [
    "cashflow=pd.DataFrame(result.get(\"data\"))\n",
    "cashflow"
   ]
  },
  {
   "cell_type": "code",
   "execution_count": 9,
   "id": "80bc84f7",
   "metadata": {},
   "outputs": [],
   "source": [
    "positiondata[\"repoType\"]=\"BuySellBack\""
   ]
  },
  {
   "cell_type": "code",
   "execution_count": 10,
   "id": "4ee13c68",
   "metadata": {},
   "outputs": [],
   "source": [
    "try:\n",
    "    reporesult = api.createTask(CalculationType.REPO, positiondata,True)\n",
    "    result=json.loads(reporesult[\"result\"])\n",
    "except RhoovaError as e:\n",
    "    e.printPretty()    \n",
    "\n"
   ]
  },
  {
   "cell_type": "code",
   "execution_count": 11,
   "id": "98b7806f",
   "metadata": {},
   "outputs": [
    {
     "name": "stdout",
     "output_type": "stream",
     "text": [
      "+----------------+------------+\n",
      "|     Parameters |      Value |\n",
      "+----------------+------------+\n",
      "|             PV | 835851.650 |\n",
      "| Repo Deliviery | 835853.275 |\n",
      "+----------------+------------+\n"
     ]
    }
   ],
   "source": [
    "npvTable = pt.PrettyTable(['Parameters', 'Value'])\n",
    "npvTable.add_row(['PV', result.get('pv')])\n",
    "npvTable.add_row(['Repo Deliviery', result.get('repoDelivery')])\n",
    "npvTable.align = 'r'\n",
    "npvTable.float_format = '.3'\n",
    "print(npvTable)"
   ]
  },
  {
   "cell_type": "code",
   "execution_count": 12,
   "id": "a3b3db40",
   "metadata": {},
   "outputs": [
    {
     "data": {
      "text/html": [
       "<div>\n",
       "<style scoped>\n",
       "    .dataframe tbody tr th:only-of-type {\n",
       "        vertical-align: middle;\n",
       "    }\n",
       "\n",
       "    .dataframe tbody tr th {\n",
       "        vertical-align: top;\n",
       "    }\n",
       "\n",
       "    .dataframe thead th {\n",
       "        text-align: right;\n",
       "    }\n",
       "</style>\n",
       "<table border=\"1\" class=\"dataframe\">\n",
       "  <thead>\n",
       "    <tr style=\"text-align: right;\">\n",
       "      <th></th>\n",
       "      <th>fixingDate</th>\n",
       "      <th>accrualStart</th>\n",
       "      <th>accrualEnd</th>\n",
       "      <th>notional</th>\n",
       "      <th>currency</th>\n",
       "      <th>leg</th>\n",
       "      <th>payOrReceive</th>\n",
       "      <th>instrument</th>\n",
       "      <th>rate</th>\n",
       "      <th>zeroRate</th>\n",
       "      <th>spread</th>\n",
       "      <th>termToMatByDay</th>\n",
       "      <th>termToMatByYear</th>\n",
       "      <th>cashflow</th>\n",
       "      <th>discountFactor</th>\n",
       "      <th>cashflowPv</th>\n",
       "    </tr>\n",
       "  </thead>\n",
       "  <tbody>\n",
       "    <tr>\n",
       "      <th>0</th>\n",
       "      <td>2021-06-21</td>\n",
       "      <td>2021-06-21</td>\n",
       "      <td>2021-06-23</td>\n",
       "      <td>835851</td>\n",
       "      <td>TRY</td>\n",
       "      <td>Fixed</td>\n",
       "      <td>Pay</td>\n",
       "      <td>Repo</td>\n",
       "      <td>0.00035</td>\n",
       "      <td>0.00035</td>\n",
       "      <td>0</td>\n",
       "      <td>2</td>\n",
       "      <td>0.005556</td>\n",
       "      <td>835853.275267</td>\n",
       "      <td>0.999998</td>\n",
       "      <td>835851.649998</td>\n",
       "    </tr>\n",
       "  </tbody>\n",
       "</table>\n",
       "</div>"
      ],
      "text/plain": [
       "   fixingDate accrualStart  accrualEnd  notional currency    leg payOrReceive  \\\n",
       "0  2021-06-21   2021-06-21  2021-06-23    835851      TRY  Fixed          Pay   \n",
       "\n",
       "  instrument     rate  zeroRate  spread  termToMatByDay  termToMatByYear  \\\n",
       "0       Repo  0.00035   0.00035       0               2         0.005556   \n",
       "\n",
       "        cashflow  discountFactor     cashflowPv  \n",
       "0  835853.275267        0.999998  835851.649998  "
      ]
     },
     "execution_count": 12,
     "metadata": {},
     "output_type": "execute_result"
    }
   ],
   "source": [
    "cashflow=pd.DataFrame(result.get(\"data\"))\n",
    "cashflow"
   ]
  },
  {
   "cell_type": "code",
   "execution_count": 13,
   "id": "10a9aa79",
   "metadata": {},
   "outputs": [],
   "source": [
    "positiondata[\"repoType\"]=\"SellBuyBack\""
   ]
  },
  {
   "cell_type": "code",
   "execution_count": 14,
   "id": "ad5fa0f0",
   "metadata": {},
   "outputs": [],
   "source": [
    "try:\n",
    "    reporesult = api.createTask(CalculationType.REPO, positiondata,True)\n",
    "    result=json.loads(reporesult[\"result\"])\n",
    "except RhoovaError as e:\n",
    "    e.printPretty()    "
   ]
  },
  {
   "cell_type": "code",
   "execution_count": 15,
   "id": "fb01b0d2",
   "metadata": {},
   "outputs": [
    {
     "data": {
      "text/html": [
       "<div>\n",
       "<style scoped>\n",
       "    .dataframe tbody tr th:only-of-type {\n",
       "        vertical-align: middle;\n",
       "    }\n",
       "\n",
       "    .dataframe tbody tr th {\n",
       "        vertical-align: top;\n",
       "    }\n",
       "\n",
       "    .dataframe thead th {\n",
       "        text-align: right;\n",
       "    }\n",
       "</style>\n",
       "<table border=\"1\" class=\"dataframe\">\n",
       "  <thead>\n",
       "    <tr style=\"text-align: right;\">\n",
       "      <th></th>\n",
       "      <th>fixingDate</th>\n",
       "      <th>accrualStart</th>\n",
       "      <th>accrualEnd</th>\n",
       "      <th>notional</th>\n",
       "      <th>currency</th>\n",
       "      <th>leg</th>\n",
       "      <th>payOrReceive</th>\n",
       "      <th>instrument</th>\n",
       "      <th>rate</th>\n",
       "      <th>zeroRate</th>\n",
       "      <th>spread</th>\n",
       "      <th>termToMatByDay</th>\n",
       "      <th>termToMatByYear</th>\n",
       "      <th>cashflow</th>\n",
       "      <th>discountFactor</th>\n",
       "      <th>cashflowPv</th>\n",
       "    </tr>\n",
       "  </thead>\n",
       "  <tbody>\n",
       "    <tr>\n",
       "      <th>0</th>\n",
       "      <td>2021-06-21</td>\n",
       "      <td>2021-06-21</td>\n",
       "      <td>2021-06-23</td>\n",
       "      <td>835851</td>\n",
       "      <td>TRY</td>\n",
       "      <td>Fixed</td>\n",
       "      <td>Pay</td>\n",
       "      <td>Repo</td>\n",
       "      <td>0.00035</td>\n",
       "      <td>0.00035</td>\n",
       "      <td>0</td>\n",
       "      <td>2</td>\n",
       "      <td>0.005556</td>\n",
       "      <td>835853.275267</td>\n",
       "      <td>0.999998</td>\n",
       "      <td>835851.649998</td>\n",
       "    </tr>\n",
       "  </tbody>\n",
       "</table>\n",
       "</div>"
      ],
      "text/plain": [
       "   fixingDate accrualStart  accrualEnd  notional currency    leg payOrReceive  \\\n",
       "0  2021-06-21   2021-06-21  2021-06-23    835851      TRY  Fixed          Pay   \n",
       "\n",
       "  instrument     rate  zeroRate  spread  termToMatByDay  termToMatByYear  \\\n",
       "0       Repo  0.00035   0.00035       0               2         0.005556   \n",
       "\n",
       "        cashflow  discountFactor     cashflowPv  \n",
       "0  835853.275267        0.999998  835851.649998  "
      ]
     },
     "execution_count": 15,
     "metadata": {},
     "output_type": "execute_result"
    }
   ],
   "source": [
    "cashflow=pd.DataFrame(result.get(\"data\"))\n",
    "cashflow"
   ]
  }
 ],
 "metadata": {
  "kernelspec": {
   "display_name": "Python 3 (ipykernel)",
   "language": "python",
   "name": "python3"
  },
  "language_info": {
   "codemirror_mode": {
    "name": "ipython",
    "version": 3
   },
   "file_extension": ".py",
   "mimetype": "text/x-python",
   "name": "python",
   "nbconvert_exporter": "python",
   "pygments_lexer": "ipython3",
   "version": "3.9.9"
  }
 },
 "nbformat": 4,
 "nbformat_minor": 5
}
