{
 "cells": [
  {
   "cell_type": "code",
   "execution_count": 1,
   "id": "f07a4b47",
   "metadata": {},
   "outputs": [],
   "source": [
    "import json\n",
    "from IPython.display import Image\n",
    "import prettytable as pt\n",
    "import os \n",
    "import warnings\n",
    "warnings.filterwarnings(\"ignore\")\n",
    "\n",
    "###################################################################################################\n",
    "                                                                                                  #\n",
    "from rhoova.Client import *                                                                       #   \n",
    "#Register and get api key from https://app.rhoova.com/ for ClientConfig(\"api key\", \"api secret\")  #\n",
    "config = ClientConfig(\"\", \"\")                                                                     #\n",
    "api = Api(config)                                                                                 # \n",
    "                                                                                                  #\n",
    "###################################################################################################\n"
   ]
  },
  {
   "cell_type": "code",
   "execution_count": 2,
   "id": "72d6ba8e",
   "metadata": {},
   "outputs": [],
   "source": [
    "data ={\n",
    "  \"valuationDate\": \"2021-03-17\",\n",
    "  \"settlementDate\": \"2021-03-17\",\n",
    "  \"maturityDate\": \"2021-06-17\",\n",
    "  \"notional\": 1000000,\n",
    "  \"optionDefinition\": {\n",
    "    \"underlying\": \"USD\",\n",
    "    \"currency\": \"TRY\",\n",
    "    \"callPut\": \"Call\",\n",
    "    \"exerciseType\": \"European\",\n",
    "    \"longShort\": \"Short\",\n",
    "    \"strike\":7.81,\n",
    "    \"underlyingPrice\":7.5109,\n",
    "    \"volatility\": 0.18973,\n",
    "    \"interestRate\": 0.17632,\n",
    "    \"riskFreeRate\":  0.0028,\n",
    "    \"processType\": \"GeneralizedBS\",\n",
    "    \"method\": \"Analytic\",\n",
    "    \"calendar\": \"Turkey\",\n",
    "    \"businessDayConvention\": \"ModifiedFollowing\",\n",
    "    \"dayCounter\": \"Actual360\",\n",
    "    \"optionStartDate\": \"2021-03-17\",\n",
    "    \"optionEndDate\": \"2021-06-17\",\n",
    "    \"timeSteps\": 800,\n",
    "    \"timeGrid\": 801\n",
    "  }\n",
    "}\n",
    "try:\n",
    "    result = api.createTask(CalculationType.VANILLA_OPTION, data,True)\n",
    "    result=json.loads(result[\"result\"])\n",
    "except RhoovaError as e:\n",
    "    e.printPretty()"
   ]
  },
  {
   "cell_type": "code",
   "execution_count": 3,
   "id": "e793b2d5",
   "metadata": {},
   "outputs": [
    {
     "name": "stdout",
     "output_type": "stream",
     "text": [
      "+----------------------+---------------+\n",
      "|           Parameters |         Value |\n",
      "+----------------------+---------------+\n",
      "|                  MTM |        0.3066 |\n",
      "|                   PV |    40817.2233 |\n",
      "|           Volatility |       18.9730 |\n",
      "|                Delta |       -0.5407 |\n",
      "|                Gamma |       -0.5505 |\n",
      "|                 Vega |       -1.5056 |\n",
      "|                Theta |        1.2095 |\n",
      "|                  Rho |       -0.9595 |\n",
      "|          Dividen Rho |        1.0378 |\n",
      "|       Delta Notional |  -540693.3165 |\n",
      "|        Vega Notional |    94846.8661 |\n",
      "|         Rho Notional |   959488.2780 |\n",
      "| Dividen Rho Notional | -1037834.9880 |\n",
      "+----------------------+---------------+\n"
     ]
    }
   ],
   "source": [
    "npvTable = pt.PrettyTable(['Parameters', 'Value'])\n",
    "npvTable.add_row(['MTM', result.get('mtm')])\n",
    "npvTable.add_row(['PV', result.get('pv')/data.get('optionDefinition').get('underlyingPrice')])\n",
    "npvTable.add_row(['Volatility', 100*result.get('volatility')])\n",
    "npvTable.add_row(['Delta', result.get('delta')])\n",
    "npvTable.add_row(['Gamma', result.get('gamma')])\n",
    "npvTable.add_row(['Vega', result.get('vega')])\n",
    "npvTable.add_row(['Theta', result.get('theta')])\n",
    "npvTable.add_row(['Rho', result.get('rho')])\n",
    "npvTable.add_row(['Dividen Rho', result.get('dividendRho')])\n",
    "npvTable.add_row(['Delta Notional', result.get('deltaNotional')])\n",
    "npvTable.add_row(['Vega Notional', result.get('vegaNotional')])\n",
    "npvTable.add_row(['Rho Notional', result.get('rhoNotional')])\n",
    "npvTable.add_row(['Dividen Rho Notional', result.get('dividendRhoNotional')])\n",
    "npvTable.align = 'r'\n",
    "npvTable.float_format = '.4'\n",
    "print(npvTable)\n",
    "\n"
   ]
  },
  {
   "cell_type": "markdown",
   "id": "42a7546e",
   "metadata": {},
   "source": [
    "<div><img src=\"plainvanillaoption.png\"  style=\"width: 400px;height:600px\" align=\"left\"/></div> "
   ]
  }
 ],
 "metadata": {
  "kernelspec": {
   "display_name": "Python 3 (ipykernel)",
   "language": "python",
   "name": "python3"
  },
  "language_info": {
   "codemirror_mode": {
    "name": "ipython",
    "version": 3
   },
   "file_extension": ".py",
   "mimetype": "text/x-python",
   "name": "python",
   "nbconvert_exporter": "python",
   "pygments_lexer": "ipython3",
   "version": "3.9.9"
  }
 },
 "nbformat": 4,
 "nbformat_minor": 5
}
