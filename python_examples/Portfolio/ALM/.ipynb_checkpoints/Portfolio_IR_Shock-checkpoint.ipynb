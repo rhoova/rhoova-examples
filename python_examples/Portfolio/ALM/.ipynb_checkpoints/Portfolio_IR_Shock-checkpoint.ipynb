{
 "cells": [
  {
   "cell_type": "code",
   "execution_count": 1,
   "id": "1e69f7a5",
   "metadata": {},
   "outputs": [
    {
     "name": "stderr",
     "output_type": "stream",
     "text": [
      "/opt/homebrew/lib/python3.9/site-packages/scipy/__init__.py:146: UserWarning: A NumPy version >=1.16.5 and <1.23.0 is required for this version of SciPy (detected version 1.24.3\n",
      "  warnings.warn(f\"A NumPy version >={np_minversion} and <{np_maxversion}\"\n"
     ]
    }
   ],
   "source": [
    "import json\n",
    "import os\n",
    "import pandas as pd\n",
    "import numpy as np\n",
    "import prettytable as pt\n",
    "import matplotlib.pyplot as plt\n",
    "import matplotlib.dates as mdates\n",
    "from matplotlib import dates\n",
    "import seaborn as sns\n",
    "import datetime\n",
    "import warnings\n",
    "warnings.filterwarnings(\"ignore\")\n",
    "\n",
    "\n",
    "###################################################################################################\n",
    "                                                                                                  #\n",
    "from rhoova.Client import *                                                                       #   \n",
    "#Register and get api key from https://app.rhoova.com/ for ClientConfig(\"api key\", \"api secret\")  #\n",
    "config = ClientConfig(\"\", \"\")                                                                     #\n",
    "api = Api(config)                                                                                 # \n",
    "                                                                                                  #\n",
    "###################################################################################################\n",
    "\n",
    "\n",
    "directory = os.path.normpath(os.getcwd() + os.sep + os.pardir)\n",
    "datadirectory=directory+\"/data/yielddata.csv\"\n",
    "\n",
    "\n",
    "yielddata = pd.read_csv(datadirectory)\n",
    "yielddata = yielddata.replace(np.nan, '', regex=True) \n",
    "\n",
    "mdirectory = os.path.normpath(os.getcwd() + os.sep + os.pardir )\n",
    "mdatadirectory=mdirectory+\"/data/marketdata.csv\"\n",
    "\n",
    "marketdata = pd.read_csv(mdatadirectory)\n",
    "marketdata = marketdata.replace(np.nan, '', regex=True) \n"
   ]
  },
  {
   "cell_type": "code",
   "execution_count": 2,
   "id": "9c90b9ba",
   "metadata": {},
   "outputs": [
    {
     "data": {
      "text/plain": [
       "{'issueDate': '2015-03-15',\n",
       " 'maturityDate': '2026-06-04',\n",
       " 'frequency': 'Semiannual',\n",
       " 'coupon': 0.085,\n",
       " 'calendar': 'Turkey',\n",
       " 'currency': 'TRY',\n",
       " 'dateGeneration': 'Backward',\n",
       " 'dayCounter': 'Actual360',\n",
       " 'businessDayConvention': 'ModifiedFollowing',\n",
       " 'maturityDateConvention': 'ModifiedFollowing',\n",
       " 'redemption': 100,\n",
       " 'endOfMonth': True}"
      ]
     },
     "execution_count": 2,
     "metadata": {},
     "output_type": "execute_result"
    }
   ],
   "source": [
    "fixedRateBondDefinition={}\n",
    "fixedRateBondDefinition[\"issueDate\"]=\"2015-03-15\"\n",
    "fixedRateBondDefinition[\"maturityDate\"]=\"2026-06-04\"\n",
    "fixedRateBondDefinition[\"frequency\"]=\"Semiannual\"\n",
    "fixedRateBondDefinition[\"coupon\"]=0.085\n",
    "fixedRateBondDefinition[\"calendar\"]=\"Turkey\"\n",
    "fixedRateBondDefinition[\"currency\"]=\"TRY\"\n",
    "fixedRateBondDefinition[\"dateGeneration\"]=\"Backward\"\n",
    "fixedRateBondDefinition[\"dayCounter\"]=\"Actual360\"\n",
    "fixedRateBondDefinition[\"businessDayConvention\"]=\"ModifiedFollowing\"\n",
    "fixedRateBondDefinition[\"maturityDateConvention\"]=\"ModifiedFollowing\"\n",
    "fixedRateBondDefinition[\"redemption\"]=100\n",
    "fixedRateBondDefinition[\"endOfMonth\"]=True\n",
    "fixedRateBondDefinition"
   ]
  },
  {
   "cell_type": "code",
   "execution_count": 3,
   "id": "48caa3a5",
   "metadata": {},
   "outputs": [
    {
     "data": {
      "text/plain": [
       "{'issueDate': '2015-07-15',\n",
       " 'maturityDate': '2026-06-04',\n",
       " 'frequency': 'Quarterly',\n",
       " 'spread': 0.0,\n",
       " 'calendar': 'Turkey',\n",
       " 'currency': 'TRY',\n",
       " 'dateGeneration': 'Backward',\n",
       " 'dayCounter': 'Actual360',\n",
       " 'businessDayConvention': 'ModifiedFollowing',\n",
       " 'maturityDateConvention': 'ModifiedFollowing',\n",
       " 'redemption': 100,\n",
       " 'endOfMonth': True,\n",
       " 'fixingDate': ['2020-12-02'],\n",
       " 'fixingRate': [0.0012428641149285805]}"
      ]
     },
     "execution_count": 3,
     "metadata": {},
     "output_type": "execute_result"
    }
   ],
   "source": [
    "FRNDefinition={}\n",
    "FRNDefinition[\"issueDate\"]=\"2015-07-15\"\n",
    "FRNDefinition[\"maturityDate\"]=\"2026-06-04\"\n",
    "FRNDefinition[\"frequency\"]=\"Quarterly\"\n",
    "FRNDefinition[\"spread\"]=0.0\n",
    "FRNDefinition[\"calendar\"]=\"Turkey\"\n",
    "FRNDefinition[\"currency\"]=\"TRY\"\n",
    "FRNDefinition[\"dateGeneration\"]=\"Backward\"\n",
    "FRNDefinition[\"dayCounter\"]=\"Actual360\"\n",
    "FRNDefinition[\"businessDayConvention\"]=\"ModifiedFollowing\"\n",
    "FRNDefinition[\"maturityDateConvention\"]=\"ModifiedFollowing\"\n",
    "FRNDefinition[\"redemption\"]=100\n",
    "FRNDefinition[\"endOfMonth\"]=True\n",
    "FRNDefinition[\"fixingDate\"]=[\"2020-12-02\"]\n",
    "FRNDefinition[\"fixingRate\"]=[0.0012428641149285805]\n",
    "FRNDefinition"
   ]
  },
  {
   "cell_type": "code",
   "execution_count": 4,
   "id": "c8b7886f",
   "metadata": {},
   "outputs": [
    {
     "data": {
      "text/plain": [
       "{'payOrReceive': 'Receive',\n",
       " 'coupon': 0.085,\n",
       " 'frequency': 'Semiannual',\n",
       " 'calendar': 'Turkey',\n",
       " 'dateGeneration': 'Backward',\n",
       " 'dayCounter': 'Actual360',\n",
       " 'businessDayConvention': 'ModifiedFollowing',\n",
       " 'maturityDateConvention': 'ModifiedFollowing',\n",
       " 'endOfMonth': True}"
      ]
     },
     "execution_count": 4,
     "metadata": {},
     "output_type": "execute_result"
    }
   ],
   "source": [
    "fixedleg={}\n",
    "fixedleg[\"payOrReceive\"]=\"Receive\"\n",
    "fixedleg[\"coupon\"]= 0.085\n",
    "fixedleg[\"frequency\"]=\"Semiannual\"\n",
    "fixedleg[\"calendar\"]=\"Turkey\"\n",
    "fixedleg[\"dateGeneration\"]=\"Backward\"\n",
    "fixedleg[\"dayCounter\"]=\"Actual360\"\n",
    "fixedleg[\"businessDayConvention\"]=\"ModifiedFollowing\"\n",
    "fixedleg[\"maturityDateConvention\"]=\"ModifiedFollowing\"\n",
    "fixedleg[\"endOfMonth\"]=True\n",
    "fixedleg"
   ]
  },
  {
   "cell_type": "code",
   "execution_count": 5,
   "id": "02ac6a5c",
   "metadata": {},
   "outputs": [
    {
     "data": {
      "text/plain": [
       "{'frequency': 'Quarterly',\n",
       " 'spread': 0.0,\n",
       " 'calendar': 'Turkey',\n",
       " 'dateGeneration': 'Backward',\n",
       " 'dayCounter': 'Actual360',\n",
       " 'businessDayConvention': 'ModifiedFollowing',\n",
       " 'maturityDateConvention': 'ModifiedFollowing',\n",
       " 'endOfMonth': True,\n",
       " 'fixingDate': ['2020-12-02'],\n",
       " 'fixingRate': [0.0012428641149285805]}"
      ]
     },
     "execution_count": 5,
     "metadata": {},
     "output_type": "execute_result"
    }
   ],
   "source": [
    "floatingleg={}\n",
    "floatingleg[\"frequency\"]=\"Quarterly\"\n",
    "floatingleg[\"spread\"]=0.0\n",
    "floatingleg[\"calendar\"]=\"Turkey\"\n",
    "floatingleg[\"dateGeneration\"]=\"Backward\"\n",
    "floatingleg[\"dayCounter\"]=\"Actual360\"\n",
    "floatingleg[\"businessDayConvention\"]=\"ModifiedFollowing\"\n",
    "floatingleg[\"maturityDateConvention\"]=\"ModifiedFollowing\"\n",
    "floatingleg[\"endOfMonth\"]=True\n",
    "floatingleg[\"fixingDate\"]=[\"2020-12-02\"]\n",
    "floatingleg[\"fixingRate\"]=[0.0012428641149285805]\n",
    "floatingleg"
   ]
  },
  {
   "cell_type": "code",
   "execution_count": 6,
   "id": "84a5b590",
   "metadata": {},
   "outputs": [
    {
     "data": {
      "text/plain": [
       "{'DEPO': {'businessDayConvention': 'Following', 'dayCounter': 'Actual360'},\n",
       " 'IRS': {'businessDayConvention': 'Following',\n",
       "  'dayCounter': 'Actual360',\n",
       "  'frequency': 'Semiannual'}}"
      ]
     },
     "execution_count": 6,
     "metadata": {},
     "output_type": "execute_result"
    }
   ],
   "source": [
    "instruments={}\n",
    "depo={}\n",
    "irs={}\n",
    "\n",
    "depo[\"businessDayConvention\"]=\"Following\"     # if it is null, default value is used\n",
    "depo[\"dayCounter\"]=\"Actual360\"                # if it is null, default value is used\n",
    "\n",
    "irs[\"businessDayConvention\"]=\"Following\"      # if it is null, default value is used \n",
    "irs[\"dayCounter\"]=\"Actual360\"                 # if it is null, default value is used \n",
    "irs[\"frequency\"]=\"Semiannual\"               \n",
    "\n",
    "instruments[\"DEPO\"]=depo\n",
    "instruments[\"IRS\"]=irs\n",
    "\n",
    "instruments"
   ]
  },
  {
   "cell_type": "code",
   "execution_count": 7,
   "id": "77d0baf6",
   "metadata": {},
   "outputs": [],
   "source": [
    "# Fix parameters for building yield curve\n",
    "yieldcurveconfig={\n",
    "      \"name\": \"TRYZC\",\n",
    "      \"settlementDays\": 2,\n",
    "      \"intpMethod\": \"LINEAR\",\n",
    "      \"currency\": \"TRY\",\n",
    "      \"calendar\": \"Turkey\",\n",
    "      \"dayCounter\": \"Actual360\",\n",
    "      \"period\": \"6M\",\n",
    "      \"instruments\": instruments\n",
    "\n",
    "    }\n"
   ]
  },
  {
   "cell_type": "code",
   "execution_count": 8,
   "id": "653c4f6b",
   "metadata": {},
   "outputs": [
    {
     "data": {
      "text/plain": [
       "{'name': 'TRYZC',\n",
       " 'settlementDays': 2,\n",
       " 'intpMethod': 'LINEAR',\n",
       " 'currency': 'TRY',\n",
       " 'calendar': 'Turkey',\n",
       " 'dayCounter': 'Actual360',\n",
       " 'period': '6M',\n",
       " 'instruments': {'DEPO': {'businessDayConvention': 'Following',\n",
       "   'dayCounter': 'Actual360'},\n",
       "  'IRS': {'businessDayConvention': 'Following',\n",
       "   'dayCounter': 'Actual360',\n",
       "   'frequency': 'Semiannual'}},\n",
       " 'applyShock': {'method': 'parallel',\n",
       "  'shockValues': [{'tenor': 'all', 'shockValue': 150.0}]}}"
      ]
     },
     "execution_count": 8,
     "metadata": {},
     "output_type": "execute_result"
    }
   ],
   "source": [
    "\n",
    "yieldcurveconfig['applyShock']={\n",
    "  \"method\": \"parallel\",\n",
    "  \"shockValues\" : [\n",
    "    {\n",
    "      \"tenor\" : \"all\",\n",
    "      \"shockValue\" : 150.0\n",
    "    }\n",
    "  ]\n",
    "}\n",
    "yieldcurveconfig"
   ]
  },
  {
   "cell_type": "code",
   "execution_count": 9,
   "id": "f0fac96c",
   "metadata": {},
   "outputs": [],
   "source": [
    "riskdata = {\n",
    "  \"id\": \"PORTFOLIO1\",\n",
    "  \"name\": \"PORTFOLIO 1\",\n",
    "  \"method\": \"total_present_value\",\n",
    "  \"forRisk\": True,\n",
    "  \"valuationDate\": \"2021-01-28\",\n",
    "  \"valuationCurrency\": \"TRY\",\n",
    "  \"tasks\": [\n",
    "            {\n",
    "      \"trade_id\": \"FLOAT1000\",\n",
    "      \"calculation_type\": \"floating_rate_bond\",\n",
    "      \"notional\": 1000000,\n",
    "      \"settlementDate\": \"2021-02-01\",\n",
    "      \"buySell\": \"Buy\",\n",
    "      \"discountCurve\": \"TRYZC\",\n",
    "      \"floatingBondDefinition\": FRNDefinition\n",
    "    },{\n",
    "      \"trade_id\": \"FRB1000\",\n",
    "      \"calculation_type\": \"fixed_rate_bond\",\n",
    "      \"notional\": 1000000,\n",
    "      \"settlementDate\": \"2021-02-01\",\n",
    "      \"buySell\": \"Sell\",\n",
    "      \"discountCurve\": \"TRYZC\",\n",
    "      \"fixedRateBondDefinition\": fixedRateBondDefinition\n",
    "    },\n",
    "      {\n",
    "      \"trade_id\": \"IRS1000\",\n",
    "      \"calculation_type\": \"interest_rates_swap\",\n",
    "      \"discountCurve\": \"TRYZC\",\n",
    "      \"floatingLegForecastCurve\": \"TRYZC\",\n",
    "      \"settlementDate\": \"2021-02-01\",\n",
    "      \"maturityDate\": \"2026-06-04\",\n",
    "      \"startDate\": \"2021-02-01\",\n",
    "      \"notional\": 1000000,\n",
    "      \"currency\": \"TRY\",\n",
    "      \"fixedLeg\":fixedleg,\n",
    "      \"floatingLeg\":floatingleg\n",
    "    }\n",
    "  ],\n",
    "  \"curves\": [yieldcurveconfig],\n",
    "  \"yieldData\": yielddata.to_dict('r'),\n",
    "  \"marketData\":marketdata.to_dict('r'),\n",
    "}"
   ]
  },
  {
   "cell_type": "code",
   "execution_count": 10,
   "id": "23b47392",
   "metadata": {},
   "outputs": [],
   "source": [
    "try:\n",
    "    res = api.createTask(CalculationType.PORTFOLIO, riskdata, True)\n",
    "    if(res[\"result\"]):\n",
    "      result=json.loads(res[\"result\"])\n",
    "    else:\n",
    "      print(res[\"result\"])\n",
    "except RhoovaError as e:\n",
    "    e.printPretty()"
   ]
  },
  {
   "cell_type": "code",
   "execution_count": 11,
   "id": "c879d395",
   "metadata": {},
   "outputs": [],
   "source": [
    "shock=[-250,-200,-150,-100,-50,0,50,100,150,200,250]"
   ]
  },
  {
   "cell_type": "code",
   "execution_count": 12,
   "id": "1f1e42e7",
   "metadata": {
    "scrolled": true
   },
   "outputs": [],
   "source": [
    "lst=[]\n",
    "for s in shock:\n",
    "    res_lst={}\n",
    "    yieldcurveconfig[\"applyShock\"][\"shockValues\"][0][\"shockValue\"]=s\n",
    "    try:\n",
    "        res = api.createTask(CalculationType.PORTFOLIO, riskdata, True)\n",
    "        if(res[\"result\"]):\n",
    "            result=json.loads(res[\"result\"])\n",
    "        else:\n",
    "            print(res[\"result\"])\n",
    "    except RhoovaError as e:\n",
    "        e.printPretty()    \n",
    "    res_lst[s]=result[\"total_present_value\"]  \n",
    "    lst.append(res_lst)\n"
   ]
  },
  {
   "cell_type": "code",
   "execution_count": 13,
   "id": "caae8885",
   "metadata": {},
   "outputs": [],
   "source": [
    "shck=[]\n",
    "val=[]\n",
    "for i in lst:\n",
    "    shck.append(list(i.keys())[0])\n",
    "    val.append(list(i.values())[0])"
   ]
  },
  {
   "cell_type": "code",
   "execution_count": 14,
   "id": "a8ec97b1",
   "metadata": {},
   "outputs": [
    {
     "name": "stderr",
     "output_type": "stream",
     "text": [
      "No artists with labels found to put in legend.  Note that artists whose label start with an underscore are ignored when legend() is called with no argument.\n"
     ]
    },
    {
     "data": {
      "image/png": "[encoded data removed]",
      "text/plain": [
       "<Figure size 1440x720 with 1 Axes>"
      ]
     },
     "metadata": {
      "needs_background": "light"
     },
     "output_type": "display_data"
    }
   ],
   "source": [
    "fig, ax = plt.subplots(figsize=(20, 10))\n",
    "\n",
    "x=shck\n",
    "y =val \n",
    "\n",
    "ax.bar(x,y,width=32)\n",
    "\n",
    "leg = ax.legend(prop={'size': 12});\n",
    "plt.grid(linestyle='dashdot')\n",
    "plt.xticks(rotation=45, ha='right')\n",
    "ax.set(xlabel='Shock', ylabel='PV',\n",
    "       title='Price Changes with Interest Rates Shock')\n",
    "plt.show()"
   ]
  }
 ],
 "metadata": {
  "kernelspec": {
   "display_name": "Python 3 (ipykernel)",
   "language": "python",
   "name": "python3"
  },
  "language_info": {
   "codemirror_mode": {
    "name": "ipython",
    "version": 3
   },
   "file_extension": ".py",
   "mimetype": "text/x-python",
   "name": "python",
   "nbconvert_exporter": "python",
   "pygments_lexer": "ipython3",
   "version": "3.9.16"
  }
 },
 "nbformat": 4,
 "nbformat_minor": 5
}
