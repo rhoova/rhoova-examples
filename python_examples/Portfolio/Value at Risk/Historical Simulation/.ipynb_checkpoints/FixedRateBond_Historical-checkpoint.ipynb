{
 "cells": [
  {
   "cell_type": "code",
   "execution_count": 1,
   "id": "1e69f7a5",
   "metadata": {},
   "outputs": [],
   "source": [
    "import json\n",
    "import os\n",
    "import pandas as pd\n",
    "import numpy as np\n",
    "import prettytable as pt\n",
    "import matplotlib.pyplot as plt\n",
    "import matplotlib.dates as mdates\n",
    "from matplotlib import dates\n",
    "import datetime\n",
    "import warnings\n",
    "warnings.filterwarnings(\"ignore\")\n",
    "\n",
    "\n",
    "###################################################################################################\n",
    "                                                                                                  #\n",
    "from rhoova.Client import *                                                                       #   \n",
    "#Register and get api key from https://app.rhoova.com/ for ClientConfig(\"api key\", \"api secret\")  #\n",
    "config = ClientConfig(\"\", \"\")                                                                     #\n",
    "api = Api(config)                                                                                 # \n",
    "                                                                                                  #\n",
    "###################################################################################################\n",
    "\n",
    "\n",
    "\n",
    "directory = os.path.normpath(os.getcwd() + os.sep + os.pardir + os.sep + os.pardir)\n",
    "datadirectory=directory+\"/data/yielddata.csv\"\n",
    "\n",
    "yielddata = pd.read_csv(datadirectory)\n",
    "yielddata = yielddata.replace(np.nan, '', regex=True) \n",
    "\n",
    "mdirectory = os.path.normpath(os.getcwd() + os.sep + os.pardir + os.sep + os.pardir)\n",
    "mdatadirectory=mdirectory+\"/data/marketdata.csv\"\n",
    "\n",
    "marketdata = pd.read_csv(mdatadirectory)\n",
    "marketdata = marketdata.replace(np.nan, '', regex=True) \n"
   ]
  },
  {
   "cell_type": "code",
   "execution_count": 2,
   "id": "c6e0ad77",
   "metadata": {},
   "outputs": [
    {
     "data": {
      "text/plain": [
       "{'issueDate': '2015-03-15',\n",
       " 'maturityDate': '2026-06-04',\n",
       " 'frequency': 'Semiannual',\n",
       " 'coupon': 0.085,\n",
       " 'calendar': 'Turkey',\n",
       " 'currency': 'TRY',\n",
       " 'dateGeneration': 'Backward',\n",
       " 'dayCounter': 'Actual360',\n",
       " 'businessDayConvention': 'ModifiedFollowing',\n",
       " 'maturityDateConvention': 'ModifiedFollowing',\n",
       " 'redemption': 100,\n",
       " 'endOfMonth': True}"
      ]
     },
     "execution_count": 2,
     "metadata": {},
     "output_type": "execute_result"
    }
   ],
   "source": [
    "fixedRateBondDefinition={}\n",
    "fixedRateBondDefinition[\"issueDate\"]=\"2015-03-15\"\n",
    "fixedRateBondDefinition[\"maturityDate\"]=\"2026-06-04\"\n",
    "fixedRateBondDefinition[\"frequency\"]=\"Semiannual\"\n",
    "fixedRateBondDefinition[\"coupon\"]=0.085\n",
    "fixedRateBondDefinition[\"calendar\"]=\"Turkey\"\n",
    "fixedRateBondDefinition[\"currency\"]=\"TRY\"\n",
    "fixedRateBondDefinition[\"dateGeneration\"]=\"Backward\"\n",
    "fixedRateBondDefinition[\"dayCounter\"]=\"Actual360\"\n",
    "fixedRateBondDefinition[\"businessDayConvention\"]=\"ModifiedFollowing\"\n",
    "fixedRateBondDefinition[\"maturityDateConvention\"]=\"ModifiedFollowing\"\n",
    "fixedRateBondDefinition[\"redemption\"]=100\n",
    "fixedRateBondDefinition[\"endOfMonth\"]=True\n",
    "fixedRateBondDefinition"
   ]
  },
  {
   "cell_type": "code",
   "execution_count": 3,
   "id": "84a5b590",
   "metadata": {},
   "outputs": [
    {
     "data": {
      "text/plain": [
       "{'DEPO': {'businessDayConvention': 'Following', 'dayCounter': 'Actual360'},\n",
       " 'IRS': {'businessDayConvention': 'Following',\n",
       "  'dayCounter': 'Actual360',\n",
       "  'frequency': 'Semiannual'}}"
      ]
     },
     "execution_count": 3,
     "metadata": {},
     "output_type": "execute_result"
    }
   ],
   "source": [
    "instruments={}\n",
    "depo={}\n",
    "irs={}\n",
    "\n",
    "depo[\"businessDayConvention\"]=\"Following\"     # if it is null, default value is used\n",
    "depo[\"dayCounter\"]=\"Actual360\"                # if it is null, default value is used\n",
    "\n",
    "irs[\"businessDayConvention\"]=\"Following\"      # if it is null, default value is used \n",
    "irs[\"dayCounter\"]=\"Actual360\"                 # if it is null, default value is used \n",
    "irs[\"frequency\"]=\"Semiannual\"               \n",
    "\n",
    "instruments[\"DEPO\"]=depo\n",
    "instruments[\"IRS\"]=irs\n",
    "\n",
    "instruments"
   ]
  },
  {
   "cell_type": "code",
   "execution_count": 4,
   "id": "77d0baf6",
   "metadata": {},
   "outputs": [
    {
     "data": {
      "text/plain": [
       "{'name': 'TRYZC',\n",
       " 'settlementDays': 2,\n",
       " 'intpMethod': 'LINEAR',\n",
       " 'currency': 'TRY',\n",
       " 'calendar': 'Turkey',\n",
       " 'dayCounter': 'Actual360',\n",
       " 'period': '6M',\n",
       " 'instruments': {'DEPO': {'businessDayConvention': 'Following',\n",
       "   'dayCounter': 'Actual360'},\n",
       "  'IRS': {'businessDayConvention': 'Following',\n",
       "   'dayCounter': 'Actual360',\n",
       "   'frequency': 'Semiannual'}}}"
      ]
     },
     "execution_count": 4,
     "metadata": {},
     "output_type": "execute_result"
    }
   ],
   "source": [
    "# Fix parameters for building yield curve\n",
    "yieldcurveconfig={\n",
    "      \"name\": \"TRYZC\",\n",
    "      \"settlementDays\": 2,\n",
    "      \"intpMethod\": \"LINEAR\",\n",
    "      \"currency\": \"TRY\",\n",
    "      \"calendar\": \"Turkey\",\n",
    "      \"dayCounter\": \"Actual360\",\n",
    "      \"period\": \"6M\",\n",
    "      \"instruments\": instruments\n",
    "\n",
    "    }\n",
    "yieldcurveconfig"
   ]
  },
  {
   "cell_type": "code",
   "execution_count": 5,
   "id": "f0fac96c",
   "metadata": {},
   "outputs": [],
   "source": [
    "riskdata = {\n",
    "  \"id\": \"PORTFOLIO1\",\n",
    "  \"name\": \"PORTFOLIO 1\",\n",
    "  \"method\": \"VaR\",\n",
    "  \"forRisk\": True,\n",
    "  \"valuationDate\": \"2021-01-28\",\n",
    "  \"valuationCurrency\": \"TRY\",\n",
    "  \"riskMethod\": \"HISTORICAL\",\n",
    "  \"horizon\": 252,\n",
    "  \"confidenceInterval\": 0.99,\n",
    "  \"returnType\": None,\n",
    "  \"trend\": False,\n",
    "  \"calendar\": \"Turkey\",\n",
    "  \"timeBucket\": [\"0D\",\"1D\",\"1W\",\"2W\",\"3W\",\"1M\",\"2M\",\"3M\",\"6M\",\"9M\",\"1Y\",\"2Y\",\"3Y\",\"4Y\",\n",
    "                \"5Y\",\"6Y\",\"7Y\",\"8Y\",\"9Y\",\"10Y\",\"12Y\",\"15Y\",\"20Y\",\"25Y\",\"30Y\",\"40Y\",\"50Y\"],\n",
    "  \"fillNa\": \"BACKWARD\",\n",
    "  \"maxFillNaDays\": 5,\n",
    "  \"tasks\": [\n",
    "    {\n",
    "      \"trade_id\": \"FRB1000\",\n",
    "      \"calculation_type\": \"fixed_rate_bond\",\n",
    "      \"notional\": 1000000,\n",
    "      \"settlementDate\": \"2021-02-01\",\n",
    "      \"buySell\": \"Sell\",\n",
    "      \"discountCurve\": \"TRYZC\",\n",
    "      \"fixedRateBondDefinition\": fixedRateBondDefinition\n",
    "    },\n",
    "  ],\n",
    "  \"curves\": [yieldcurveconfig],\n",
    "  \"yieldData\": yielddata.to_dict('r'),\n",
    "  \"marketData\":marketdata.to_dict('r'),\n",
    "}"
   ]
  },
  {
   "cell_type": "code",
   "execution_count": 6,
   "id": "23b47392",
   "metadata": {},
   "outputs": [],
   "source": [
    "try:\n",
    "    res = api.createTask(CalculationType.PORTFOLIO, riskdata, True)\n",
    "    if(res[\"result\"]):\n",
    "      result=json.loads(res[\"result\"])\n",
    "    else:\n",
    "      print(res[\"result\"])\n",
    "except RhoovaError as e:\n",
    "    e.printPretty()"
   ]
  },
  {
   "cell_type": "code",
   "execution_count": 7,
   "id": "ac8a8067",
   "metadata": {},
   "outputs": [
    {
     "name": "stdout",
     "output_type": "stream",
     "text": [
      "+------------+---------------+\n",
      "| Parameters |         Value |\n",
      "+------------+---------------+\n",
      "|         PV | -1439540.9774 |\n",
      "|        VAR |    16051.3818 |\n",
      "| VAR/PV (%) |        1.1150 |\n",
      "+------------+---------------+\n"
     ]
    }
   ],
   "source": [
    "npvTable = pt.PrettyTable(['Parameters', 'Value'])\n",
    "npvTable.add_row(['PV', result.get('pv')])\n",
    "npvTable.add_row(['VAR', result.get('VaR')])\n",
    "npvTable.add_row(['VAR/PV (%)', result.get('var/pv')])\n",
    "npvTable.align = 'r'\n",
    "npvTable.float_format = '.4'\n",
    "print(npvTable)\n"
   ]
  },
  {
   "cell_type": "code",
   "execution_count": 8,
   "id": "948c16e9",
   "metadata": {},
   "outputs": [],
   "source": [
    "portfoliohistorical=result.get(\"FRB1000\")"
   ]
  },
  {
   "cell_type": "code",
   "execution_count": 9,
   "id": "ccff0f81",
   "metadata": {},
   "outputs": [],
   "source": [
    "portfoliohistoricaldates=[]\n",
    "portfoliohistoricalvalues=[]\n",
    "for date,value in portfoliohistorical.items():\n",
    "    portfoliohistoricaldates.append(date)\n",
    "    portfoliohistoricalvalues.append(value)"
   ]
  },
  {
   "cell_type": "code",
   "execution_count": 10,
   "id": "62d4e338",
   "metadata": {},
   "outputs": [
    {
     "data": {
      "image/png": "[encoded data removed]",
      "text/plain": [
       "<Figure size 1080x648 with 1 Axes>"
      ]
     },
     "metadata": {
      "needs_background": "light"
     },
     "output_type": "display_data"
    }
   ],
   "source": [
    "converted_dates = list(map(datetime.datetime.strptime, portfoliohistoricaldates, len(portfoliohistoricaldates)*['%Y-%m-%d']))\n",
    "plt.figure(figsize=(15,9))\n",
    "plt.gca().xaxis.set_major_formatter(mdates.DateFormatter('%Y-%m-%d'))\n",
    "plt.gca().xaxis.set_major_locator(mdates.DayLocator(interval=15))\n",
    "plt.gcf().autofmt_xdate()\n",
    "plt.plot(converted_dates, portfoliohistoricalvalues)\n",
    "plt.title(\"Fixed Rate Bond Historical Values\")\n",
    "plt.show()"
   ]
  },
  {
   "cell_type": "code",
   "execution_count": 11,
   "id": "c2e147fb",
   "metadata": {},
   "outputs": [],
   "source": [
    "###################################################################################################\n",
    "###################################################################################################\n",
    "###################################################################################################\n",
    "###################################################################################################\n",
    "###################################################################################################\n",
    "###################################################################################################\n",
    "###################################################################################################\n",
    "###################################################################################################"
   ]
  },
  {
   "cell_type": "code",
   "execution_count": 12,
   "id": "bcdbe70e",
   "metadata": {},
   "outputs": [],
   "source": [
    "riskdata[\"method\"]=\"risk_factors\""
   ]
  },
  {
   "cell_type": "code",
   "execution_count": 13,
   "id": "4cf583a6",
   "metadata": {},
   "outputs": [],
   "source": [
    "try:\n",
    "    res = api.createTask(CalculationType.PORTFOLIO, riskdata, True)\n",
    "    if(res[\"result\"]):\n",
    "        rfresult=json.loads(res[\"result\"])\n",
    "    else:\n",
    "        print(res[\"result\"])\n",
    "except RhoovaError as e:\n",
    "    e.printPretty()"
   ]
  },
  {
   "cell_type": "code",
   "execution_count": 17,
   "id": "ab996fff",
   "metadata": {},
   "outputs": [],
   "source": [
    "lastdf=pd.DataFrame(rfresult)"
   ]
  },
  {
   "cell_type": "code",
   "execution_count": 18,
   "id": "65b66c39",
   "metadata": {},
   "outputs": [],
   "source": [
    "###################################################################################################\n",
    "###################################################################################################\n",
    "###################################################################################################\n",
    "###################################################################################################\n",
    "###################################################################################################\n",
    "###################################################################################################\n",
    "###################################################################################################\n"
   ]
  },
  {
   "cell_type": "code",
   "execution_count": 19,
   "id": "8a52c296",
   "metadata": {},
   "outputs": [],
   "source": [
    "fxedratebonddata = {\n",
    "  \"notional\": 1000000,\n",
    "  \"valuationDate\": \"2021-01-28\",\n",
    "  \"settlementDate\": \"2021-02-01\",\n",
    "  \"buySell\": \"Sell\",\n",
    "  \"fixedRateBondDefinition\": fixedRateBondDefinition,\n",
    "  \"discountCurve\": yieldcurveconfig,\n",
    "  \"yieldData\": yielddata.to_dict('r')\n",
    "}"
   ]
  },
  {
   "cell_type": "code",
   "execution_count": 20,
   "id": "75083940",
   "metadata": {},
   "outputs": [],
   "source": [
    "historicalvalues=[]\n",
    "historicaldates=[]\n",
    "for index, row in lastdf.iterrows():\n",
    "    y_data=yielddata[yielddata['valuationDate']==index]\n",
    "    y_data['valuationDate']='2021-01-28'\n",
    "    fxedratebonddata['yieldData']=json.loads(y_data.to_json(orient='records'))\n",
    "    try:\n",
    "        resultdata = api.createTask(CalculationType.FIXED_RATE_BOND, fxedratebonddata,True)\n",
    "        resulttmp=json.loads(resultdata[\"result\"])\n",
    "    except RhoovaError as e:\n",
    "        e.printPretty()\n",
    "    historicaldates.append(index)    \n",
    "    historicalvalues.append(resulttmp.get('pv'))\n"
   ]
  },
  {
   "cell_type": "code",
   "execution_count": 21,
   "id": "61d472f2",
   "metadata": {},
   "outputs": [],
   "source": [
    "confidenceInterval= 0.99\n",
    "valueatrisk=result.get('pv')-np.percentile(historicalvalues[:-1],100*(1-confidenceInterval))"
   ]
  },
  {
   "cell_type": "code",
   "execution_count": 22,
   "id": "7489254d",
   "metadata": {},
   "outputs": [
    {
     "name": "stdout",
     "output_type": "stream",
     "text": [
      "+------------+---------------+\n",
      "| Parameters |         Value |\n",
      "+------------+---------------+\n",
      "|         PV | -1439540.9774 |\n",
      "|        VAR |    16051.0888 |\n",
      "| VAR/PV (%) |        1.1150 |\n",
      "+------------+---------------+\n"
     ]
    }
   ],
   "source": [
    "npvTable = pt.PrettyTable(['Parameters', 'Value'])\n",
    "npvTable.add_row(['PV', result.get('pv')])\n",
    "npvTable.add_row(['VAR', valueatrisk])\n",
    "npvTable.add_row(['VAR/PV (%)', 100*valueatrisk/abs(result.get('pv'))])\n",
    "npvTable.align = 'r'\n",
    "npvTable.float_format = '.4'\n",
    "print(npvTable)\n"
   ]
  },
  {
   "cell_type": "code",
   "execution_count": 23,
   "id": "886ca018",
   "metadata": {},
   "outputs": [],
   "source": [
    "###################################################################################################\n",
    "###################################################################################################\n",
    "###################################################################################################\n",
    "###################################################################################################\n",
    "###################################################################################################\n",
    "###################################################################################################\n",
    "###################################################################################################\n",
    "###################################################################################################\n",
    "###################################################################################################\n"
   ]
  },
  {
   "cell_type": "code",
   "execution_count": 24,
   "id": "25682599",
   "metadata": {},
   "outputs": [],
   "source": [
    "datelist=['2021-02-01','2021-02-02','2021-02-08','2021-02-15','2021-02-22','2021-03-01','2021-04-01','2021-05-03',\n",
    "          '2021-08-02','2021-11-01','2022-02-01','2023-02-01','2024-02-01','2025-02-03','2026-02-02','2027-02-01',\n",
    "          '2028-02-01','2029-02-01','2030-02-01','2031-02-03','2033-02-01','2036-02-01','2041-02-01','2046-02-01',\n",
    "          '2051-02-01','2061-02-01','2071-02-02']"
   ]
  },
  {
   "cell_type": "code",
   "execution_count": 25,
   "id": "35729b6c",
   "metadata": {},
   "outputs": [
    {
     "data": {
      "text/plain": [
       "{'TRYZC0D': '2021-02-01',\n",
       " 'TRYZC1D': '2021-02-02',\n",
       " 'TRYZC1W': '2021-02-08',\n",
       " 'TRYZC2W': '2021-02-15',\n",
       " 'TRYZC3W': '2021-02-22',\n",
       " 'TRYZC1M': '2021-03-01',\n",
       " 'TRYZC2M': '2021-04-01',\n",
       " 'TRYZC3M': '2021-05-03',\n",
       " 'TRYZC6M': '2021-08-02',\n",
       " 'TRYZC9M': '2021-11-01',\n",
       " 'TRYZC1Y': '2022-02-01',\n",
       " 'TRYZC2Y': '2023-02-01',\n",
       " 'TRYZC3Y': '2024-02-01',\n",
       " 'TRYZC4Y': '2025-02-03',\n",
       " 'TRYZC5Y': '2026-02-02',\n",
       " 'TRYZC6Y': '2027-02-01',\n",
       " 'TRYZC7Y': '2028-02-01',\n",
       " 'TRYZC8Y': '2029-02-01',\n",
       " 'TRYZC9Y': '2030-02-01',\n",
       " 'TRYZC10Y': '2031-02-03',\n",
       " 'TRYZC12Y': '2033-02-01',\n",
       " 'TRYZC15Y': '2036-02-01',\n",
       " 'TRYZC20Y': '2041-02-01',\n",
       " 'TRYZC25Y': '2046-02-01',\n",
       " 'TRYZC30Y': '2051-02-01',\n",
       " 'TRYZC40Y': '2061-02-01',\n",
       " 'TRYZC50Y': '2071-02-02'}"
      ]
     },
     "execution_count": 25,
     "metadata": {},
     "output_type": "execute_result"
    }
   ],
   "source": [
    "rf=dict(zip(lastdf.columns, datelist))\n",
    "rf"
   ]
  },
  {
   "cell_type": "code",
   "execution_count": 26,
   "id": "cfc06046",
   "metadata": {},
   "outputs": [],
   "source": [
    "yielddata_lst=[]\n",
    "for index, row in lastdf.iterrows():\n",
    "    for key,val in row.items():\n",
    "        yielddata_dict={}\n",
    "        yielddata_dict[\"valuationDate\"]=index\n",
    "        yielddata_dict[\"maturityDate\"]=rf[key]\n",
    "        yielddata_dict[\"value\"]=val\n",
    "        yielddata_dict[\"instrument\"]=\"USDZeroRates\"\n",
    "        yielddata_dict[\"currency\"]=\"USD\"\n",
    "        yielddata_dict[\"settlementDate\"]=\"\"\n",
    "        yielddata_dict[\"period\"]=\"6M\"\n",
    "        yielddata_dict[\"tenor\"]=\"\"\n",
    "        yielddata_lst.append(yielddata_dict)"
   ]
  },
  {
   "cell_type": "code",
   "execution_count": 27,
   "id": "8099a550",
   "metadata": {},
   "outputs": [],
   "source": [
    "# Fix parameters for building yield curve\n",
    "yieldcurveconfig2={\n",
    "        \"name\": \"TRYZC\",\n",
    "        \"settlementDays\": 2,\n",
    "        \"intpMethod\": \"LINEAR\",\n",
    "        \"currency\": \"USD\",\n",
    "        \"calendar\": \"Turkey\",\n",
    "        \"dayCounter\": \"Actual360\",\n",
    "        \"zeroRates\": \"USDZeroRates\",\n",
    "        \"period\":\"6M\"\n",
    "    }"
   ]
  },
  {
   "cell_type": "code",
   "execution_count": 28,
   "id": "c6b409d0",
   "metadata": {},
   "outputs": [],
   "source": [
    "data2 = {\n",
    "  \"notional\": 1000000,\n",
    "  \"valuationDate\": \"2021-01-28\",\n",
    "  \"settlementDate\": \"2021-02-01\",\n",
    "  \"buySell\": \"Sell\",\n",
    "  \"fixedRateBondDefinition\": fixedRateBondDefinition,\n",
    "  \"discountCurve\": yieldcurveconfig2,\n",
    "  \"yieldData\": yielddata_lst\n",
    "}"
   ]
  },
  {
   "cell_type": "code",
   "execution_count": 29,
   "id": "6dc5d6d7",
   "metadata": {},
   "outputs": [],
   "source": [
    "try:\n",
    "    resultdata = api.createTask(CalculationType.FIXED_RATE_BOND, data2,True)\n",
    "    result=json.loads(resultdata[\"result\"])\n",
    "except RhoovaError as e:\n",
    "    e.printPretty()"
   ]
  },
  {
   "cell_type": "code",
   "execution_count": 30,
   "id": "e41ff2cd",
   "metadata": {},
   "outputs": [
    {
     "name": "stdout",
     "output_type": "stream",
     "text": [
      "+-------------------+---------------+\n",
      "|        Parameters |         Value |\n",
      "+-------------------+---------------+\n",
      "|                PV | -1439189.5361 |\n",
      "|       Clean Price |      142.5259 |\n",
      "|       Dirty Price |      143.9190 |\n",
      "|    Accrued Amount |        1.3931 |\n",
      "| Yield to Maturity |        0.5227 |\n",
      "|          Duration |        4.5867 |\n",
      "| Modified Duration |        4.5748 |\n",
      "| Macualay Duration |        4.5867 |\n",
      "|         Convexity |       25.4566 |\n",
      "|               Bps |        0.0549 |\n",
      "+-------------------+---------------+\n"
     ]
    }
   ],
   "source": [
    "npvTable = pt.PrettyTable(['Parameters', 'Value'])\n",
    "npvTable.add_row(['PV', result.get('pv')])\n",
    "npvTable.add_row(['Clean Price', result.get('cleanPrice')])\n",
    "npvTable.add_row(['Dirty Price', result.get('dirtyPrice')])\n",
    "npvTable.add_row(['Accrued Amount', result.get('accruedAmount')])\n",
    "npvTable.add_row(['Yield to Maturity', 100*result.get('yieldToMaturity')])\n",
    "npvTable.add_row(['Duration', result.get('duration')])\n",
    "npvTable.add_row(['Modified Duration', result.get('modifiedDuration')])\n",
    "npvTable.add_row(['Macualay Duration', result.get('macaulayDuration')])\n",
    "npvTable.add_row(['Convexity', result.get('convexity')])\n",
    "npvTable.add_row(['Bps', result.get('bps')])\n",
    "npvTable.align = 'r'\n",
    "npvTable.float_format = '.4'\n",
    "print(npvTable)"
   ]
  },
  {
   "cell_type": "code",
   "execution_count": 31,
   "id": "383dd123",
   "metadata": {},
   "outputs": [],
   "source": [
    "historicalvalues2=[]\n",
    "historicaldates2=[]\n",
    "yielddata_lst_df=pd.DataFrame(yielddata_lst)\n",
    "for index, row in lastdf.iterrows():\n",
    "    y_data=yielddata_lst_df[yielddata_lst_df['valuationDate']==index]\n",
    "    y_data['valuationDate']='2021-01-28'\n",
    "    data2['yieldData']=json.loads(y_data.to_json(orient='records'))\n",
    "    try:\n",
    "        resultdata = api.createTask(CalculationType.FIXED_RATE_BOND, data2,True)\n",
    "        resulttmp=json.loads(resultdata[\"result\"])\n",
    "    except RhoovaError as e:\n",
    "        e.printPretty()\n",
    "    historicaldates2.append(index)    \n",
    "    historicalvalues2.append(resulttmp.get('pv'))\n",
    "    #print(index,resulttmp.get('pv'))    \n"
   ]
  },
  {
   "cell_type": "code",
   "execution_count": 32,
   "id": "90bab1b1",
   "metadata": {},
   "outputs": [
    {
     "data": {
      "image/png": "[encoded data removed]",
      "text/plain": [
       "<Figure size 1080x648 with 1 Axes>"
      ]
     },
     "metadata": {
      "needs_background": "light"
     },
     "output_type": "display_data"
    }
   ],
   "source": [
    "converted_dates = list(map(datetime.datetime.strptime, historicaldates, len(historicaldates)*['%Y-%m-%d']))\n",
    "plt.figure(figsize=(15,9))\n",
    "plt.gca().xaxis.set_major_formatter(mdates.DateFormatter('%Y-%m-%d'))\n",
    "plt.gca().xaxis.set_major_locator(mdates.DayLocator(interval=15))\n",
    "plt.gcf().autofmt_xdate()\n",
    "plt.plot(converted_dates[:-1], historicalvalues[:-1])\n",
    "plt.plot(converted_dates[:-1], historicalvalues2[:-1])\n",
    "plt.plot(converted_dates[:-1], portfoliohistoricalvalues)\n",
    "plt.legend([\"Historical Values with Yields\", \"Historical Values with Zero Rates\",\"Historical Values from VaR Result\"], loc =\"lower right\")\n",
    "plt.show()"
   ]
  },
  {
   "cell_type": "code",
   "execution_count": 33,
   "id": "83538416",
   "metadata": {},
   "outputs": [],
   "source": [
    "valueatrisk=result.get('pv')-np.percentile(historicalvalues[:-1],100*(1-0.99))\n"
   ]
  },
  {
   "cell_type": "code",
   "execution_count": 34,
   "id": "14c3ee9f",
   "metadata": {},
   "outputs": [
    {
     "name": "stdout",
     "output_type": "stream",
     "text": [
      "+------------+---------------+\n",
      "| Parameters |         Value |\n",
      "+------------+---------------+\n",
      "|         PV | -1439189.5361 |\n",
      "|        VAR |    16402.5300 |\n",
      "| VAR/PV (%) |        1.1397 |\n",
      "+------------+---------------+\n"
     ]
    }
   ],
   "source": [
    "npvTable = pt.PrettyTable(['Parameters', 'Value'])\n",
    "npvTable.add_row(['PV', result.get('pv')])\n",
    "npvTable.add_row(['VAR', valueatrisk])\n",
    "npvTable.add_row(['VAR/PV (%)', 100*valueatrisk/abs(result.get('pv'))])\n",
    "npvTable.align = 'r'\n",
    "npvTable.float_format = '.4'\n",
    "print(npvTable)\n"
   ]
  }
 ],
 "metadata": {
  "kernelspec": {
   "display_name": "Python 3 (ipykernel)",
   "language": "python",
   "name": "python3"
  },
  "language_info": {
   "codemirror_mode": {
    "name": "ipython",
    "version": 3
   },
   "file_extension": ".py",
   "mimetype": "text/x-python",
   "name": "python",
   "nbconvert_exporter": "python",
   "pygments_lexer": "ipython3",
   "version": "3.9.16"
  }
 },
 "nbformat": 4,
 "nbformat_minor": 5
}
