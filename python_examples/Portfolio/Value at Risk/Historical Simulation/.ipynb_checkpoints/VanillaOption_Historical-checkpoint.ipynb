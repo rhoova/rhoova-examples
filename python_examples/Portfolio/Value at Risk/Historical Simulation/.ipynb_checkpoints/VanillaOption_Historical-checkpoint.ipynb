{
 "cells": [
  {
   "cell_type": "code",
   "execution_count": 1,
   "id": "1e69f7a5",
   "metadata": {},
   "outputs": [],
   "source": [
    "import json\n",
    "import os\n",
    "import pandas as pd\n",
    "import numpy as np\n",
    "import prettytable as pt\n",
    "import matplotlib.pyplot as plt\n",
    "import matplotlib.dates as mdates\n",
    "from matplotlib import dates\n",
    "import datetime\n",
    "import warnings\n",
    "warnings.filterwarnings(\"ignore\")\n",
    "\n",
    "\n",
    "###################################################################################################\n",
    "                                                                                                  #\n",
    "from rhoova.Client import *                                                                       #   \n",
    "#Register and get api key from https://app.rhoova.com/ for ClientConfig(\"api key\", \"api secret\")  #\n",
    "config = ClientConfig(\"\", \"\")                                                                     #\n",
    "api = Api(config)                                                                                 # \n",
    "                                                                                                  #\n",
    "###################################################################################################\n",
    "\n",
    "\n",
    "\n",
    "directory = os.path.normpath(os.getcwd() + os.sep + os.pardir + os.sep + os.pardir)\n",
    "datadirectory=directory+\"/data/yielddata.csv\"\n",
    "\n",
    "\n",
    "yielddata = pd.read_csv(datadirectory)\n",
    "yielddata = yielddata.replace(np.nan, '', regex=True) \n",
    "\n",
    "mdirectory = os.path.normpath(os.getcwd() + os.sep + os.pardir + os.sep + os.pardir)\n",
    "mdatadirectory=mdirectory+\"/data/marketdata.csv\"\n",
    "\n",
    "marketdata = pd.read_csv(mdatadirectory)\n",
    "marketdata = marketdata.replace(np.nan, '', regex=True) \n",
    "\n",
    "vdirectory = os.path.normpath(os.getcwd() + os.sep + os.pardir + os.sep + os.pardir)\n",
    "vdatadirectory=directory+\"/data/voldata.csv\"\n",
    "\n",
    "voldata = pd.read_csv(vdatadirectory)\n",
    "voldata = voldata.replace(np.nan, '', regex=True) "
   ]
  },
  {
   "cell_type": "code",
   "execution_count": 2,
   "id": "ec3b2a1e",
   "metadata": {},
   "outputs": [
    {
     "data": {
      "text/plain": [
       "{'underlying': 'USD',\n",
       " 'currency': 'TRY',\n",
       " 'callPut': 'Call',\n",
       " 'exerciseType': 'European',\n",
       " 'longShort': 'Long',\n",
       " 'strike': 7.81,\n",
       " 'underlyingPrice': 7.3406,\n",
       " 'processType': 'GeneralizedBS',\n",
       " 'method': 'Analytic',\n",
       " 'calendar': 'Turkey',\n",
       " 'businessDayConvention': 'ModifiedFollowing',\n",
       " 'dayCounter': 'Actual360',\n",
       " 'optionStartDate': '2021-03-17',\n",
       " 'optionEndDate': '2021-06-17',\n",
       " 'timeSteps': 800,\n",
       " 'timeGrid': 10,\n",
       " 'contractSize': 1,\n",
       " 'spotAdjustment': 1,\n",
       " 'volatility': {'bidask': 'mid',\n",
       "  'delta': '25Delta',\n",
       "  'businessDayConvention': 'Following'},\n",
       " 'interestRate': 'FXTRYZC',\n",
       " 'riskFreeRate': 'FXUSDZC'}"
      ]
     },
     "execution_count": 2,
     "metadata": {},
     "output_type": "execute_result"
    }
   ],
   "source": [
    "optionDefinition={}\n",
    "volatility={}\n",
    "optionDefinition[\"underlying\"]=\"USD\"\n",
    "optionDefinition[\"currency\"]=\"TRY\"\n",
    "optionDefinition[\"callPut\"]=\"Call\"\n",
    "optionDefinition[\"exerciseType\"]=\"European\"\n",
    "optionDefinition[\"longShort\"]=\"Long\"\n",
    "optionDefinition[\"strike\"]=7.81\n",
    "optionDefinition[\"underlyingPrice\"]=7.3406\n",
    "optionDefinition[\"processType\"]=\"GeneralizedBS\"\n",
    "optionDefinition[\"method\"]=\"Analytic\"\n",
    "optionDefinition[\"calendar\"]=\"Turkey\"\n",
    "optionDefinition[\"businessDayConvention\"]=\"ModifiedFollowing\"\n",
    "optionDefinition[\"dayCounter\"]=\"Actual360\"\n",
    "optionDefinition[\"optionStartDate\"]=\"2021-03-17\"\n",
    "optionDefinition[\"optionEndDate\"]=\"2021-06-17\"\n",
    "optionDefinition[\"timeSteps\"]=800\n",
    "optionDefinition[\"timeGrid\"]=10\n",
    "optionDefinition[\"contractSize\"]=1\n",
    "optionDefinition[\"spotAdjustment\"]=1\n",
    "volatility[\"bidask\"]=\"mid\"\n",
    "volatility[\"delta\"]=\"25Delta\"\n",
    "volatility[\"businessDayConvention\"]=\"Following\"\n",
    "optionDefinition[\"volatility\"]=volatility\n",
    "optionDefinition[\"interestRate\"]=\"FXTRYZC\"\n",
    "optionDefinition[\"riskFreeRate\"]= \"FXUSDZC\" \n",
    "\n",
    "optionDefinition"
   ]
  },
  {
   "cell_type": "code",
   "execution_count": 3,
   "id": "84a5b590",
   "metadata": {},
   "outputs": [
    {
     "data": {
      "text/plain": [
       "{'DEPO': {'businessDayConvention': 'ModifiedFollowing',\n",
       "  'dayCounter': 'Actual360'}}"
      ]
     },
     "execution_count": 3,
     "metadata": {},
     "output_type": "execute_result"
    }
   ],
   "source": [
    "instruments={}\n",
    "depo={}\n",
    "\n",
    "depo[\"businessDayConvention\"]=\"ModifiedFollowing\"     # if it is null, default value is used\n",
    "depo[\"dayCounter\"]=\"Actual360\"                        # if it is null, default value is used\n",
    "\n",
    "instruments[\"DEPO\"]=depo\n",
    "\n",
    "instruments"
   ]
  },
  {
   "cell_type": "code",
   "execution_count": 4,
   "id": "f6793298",
   "metadata": {},
   "outputs": [
    {
     "data": {
      "text/plain": [
       "{'name': 'FXTRYZC',\n",
       " 'settlementDays': 2,\n",
       " 'intpMethod': 'LINEAR',\n",
       " 'currency': 'TRY',\n",
       " 'calendar': 'Turkey',\n",
       " 'dayCounter': 'Actual360',\n",
       " 'period': '6M',\n",
       " 'instruments': {'DEPO': {'businessDayConvention': 'ModifiedFollowing',\n",
       "   'dayCounter': 'Actual360'}}}"
      ]
     },
     "execution_count": 4,
     "metadata": {},
     "output_type": "execute_result"
    }
   ],
   "source": [
    "interestRate={\n",
    "      \"name\": \"FXTRYZC\",\n",
    "      \"settlementDays\": 2,\n",
    "      \"intpMethod\": \"LINEAR\",\n",
    "      \"currency\": \"TRY\",\n",
    "      \"calendar\": \"Turkey\",\n",
    "      \"dayCounter\": \"Actual360\",\n",
    "      \"period\": \"6M\",\n",
    "      \"instruments\": instruments\n",
    "    }\n",
    "interestRate"
   ]
  },
  {
   "cell_type": "code",
   "execution_count": 5,
   "id": "113ca3d5",
   "metadata": {},
   "outputs": [
    {
     "data": {
      "text/plain": [
       "{'name': 'FXUSDZC',\n",
       " 'settlementDays': 2,\n",
       " 'intpMethod': 'LINEAR',\n",
       " 'currency': 'USD',\n",
       " 'calendar': 'UnitedStates',\n",
       " 'dayCounter': 'Actual360',\n",
       " 'period': '6M',\n",
       " 'instruments': {'DEPO': {'businessDayConvention': 'ModifiedFollowing',\n",
       "   'dayCounter': 'Actual360'}}}"
      ]
     },
     "execution_count": 5,
     "metadata": {},
     "output_type": "execute_result"
    }
   ],
   "source": [
    " riskFreeRate= {\n",
    "      \"name\": \"FXUSDZC\",\n",
    "      \"settlementDays\": 2,\n",
    "      \"intpMethod\": \"LINEAR\",\n",
    "      \"currency\": \"USD\",\n",
    "      \"calendar\": \"UnitedStates\",\n",
    "      \"dayCounter\": \"Actual360\",\n",
    "      \"period\": \"6M\",\n",
    "      \"instruments\":instruments\n",
    "    }\n",
    "riskFreeRate"
   ]
  },
  {
   "cell_type": "code",
   "execution_count": 6,
   "id": "f0fac96c",
   "metadata": {},
   "outputs": [],
   "source": [
    "riskdata = {\n",
    "  \"id\": \"PORTFOLIO2\",\n",
    "  \"name\": \"PORTFOLIO 2\",\n",
    "  \"method\": \"VaR\",\n",
    "  \"forRisk\": False,\n",
    "  \"valuationDate\": \"2021-01-28\",\n",
    "  \"valuationCurrency\": \"USD\",\n",
    "  \"horizon\": 252,\n",
    "  \"returnType\": \"NONE\",\n",
    "  \"trend\": False,\n",
    "  \"calendar\": \"Turkey\",\n",
    "  \"confidenceInterval\": 0.99,\n",
    "  \"fillNa\": \"BACKWARD\",\n",
    "  \"maxFillNaDays\": 5,\n",
    "  \"riskMethod\": \"HISTORICAL\",\n",
    "  \"timeBucket\": [\"0D\",\"1D\",\"1W\",\"2W\",\"3W\",\"1M\",\"2M\",\"3M\",\"6M\",\"9M\",\"1Y\",\"2Y\",\"3Y\",\"4Y\",\n",
    "                \"5Y\",\"6Y\",\"7Y\",\"8Y\",\"9Y\",\"10Y\",\"12Y\",\"15Y\",\"20Y\",\"25Y\",\"30Y\",\"40Y\",\"50Y\"],\n",
    "  \"tasks\": [\n",
    "    {\n",
    "      \"trade_id\": \"VOP1001\",\n",
    "      \"calculation_type\": \"vanilla_option\",\n",
    "      \"settlementDate\": \"2021-02-01\",\n",
    "      \"maturityDate\": \"2021-06-28\",\n",
    "      \"notional\": 1000000,\n",
    "      \"optionDefinition\": optionDefinition\n",
    "    },\n",
    "  ],\n",
    "  \"curves\": [interestRate,riskFreeRate],\n",
    "  \"yieldData\": yielddata.to_dict('r'),\n",
    "  \"volatilityData\": voldata.to_dict('r'),\n",
    "  \"marketData\":marketdata.to_dict('r'),\n",
    "}"
   ]
  },
  {
   "cell_type": "code",
   "execution_count": 7,
   "id": "23b47392",
   "metadata": {},
   "outputs": [],
   "source": [
    "try:\n",
    "    rfresult = api.createTask(CalculationType.PORTFOLIO, riskdata, True)\n",
    "    if(rfresult[\"result\"]):\n",
    "      result=json.loads(rfresult[\"result\"])\n",
    "    else:\n",
    "      print(rfresult[\"result\"])\n",
    "except RhoovaError as e:\n",
    "    e.printPretty()"
   ]
  },
  {
   "cell_type": "code",
   "execution_count": 8,
   "id": "857a54ac",
   "metadata": {},
   "outputs": [
    {
     "name": "stdout",
     "output_type": "stream",
     "text": [
      "+------------+------------+\n",
      "| Parameters |      Value |\n",
      "+------------+------------+\n",
      "|         PV | 23687.9736 |\n",
      "|        VAR | 23081.0105 |\n",
      "| VAR/PV (%) |    97.4377 |\n",
      "+------------+------------+\n"
     ]
    }
   ],
   "source": [
    "npvTable = pt.PrettyTable(['Parameters', 'Value'])\n",
    "npvTable.add_row(['PV', result.get('pv')])\n",
    "npvTable.add_row(['VAR', result.get('VaR')])\n",
    "npvTable.add_row(['VAR/PV (%)', result.get('var/pv')])\n",
    "npvTable.align = 'r'\n",
    "npvTable.float_format = '.4'\n",
    "print(npvTable)"
   ]
  },
  {
   "cell_type": "code",
   "execution_count": 9,
   "id": "b5e90c5e",
   "metadata": {},
   "outputs": [],
   "source": [
    "portfoliohistorical=result.get(\"VOP1001\")"
   ]
  },
  {
   "cell_type": "code",
   "execution_count": 10,
   "id": "1d9a781a",
   "metadata": {},
   "outputs": [],
   "source": [
    "portfoliohistoricaldates=[]\n",
    "portfoliohistoricalvalues=[]\n",
    "for date,value in portfoliohistorical.items():\n",
    "    portfoliohistoricaldates.append(date)\n",
    "    portfoliohistoricalvalues.append(value)"
   ]
  },
  {
   "cell_type": "code",
   "execution_count": 11,
   "id": "ebee3e0c",
   "metadata": {},
   "outputs": [
    {
     "data": {
      "image/png": "[encoded data removed]",
      "text/plain": [
       "<Figure size 1080x648 with 1 Axes>"
      ]
     },
     "metadata": {
      "needs_background": "light"
     },
     "output_type": "display_data"
    }
   ],
   "source": [
    "converted_dates = list(map(datetime.datetime.strptime, portfoliohistoricaldates, len(portfoliohistoricaldates)*['%Y-%m-%d']))\n",
    "plt.figure(figsize=(15,9))\n",
    "plt.gca().xaxis.set_major_formatter(mdates.DateFormatter('%Y-%m-%d'))\n",
    "plt.gca().xaxis.set_major_locator(mdates.DayLocator(interval=15))\n",
    "plt.gcf().autofmt_xdate()\n",
    "plt.plot(converted_dates, portfoliohistoricalvalues)\n",
    "plt.title(\"Vanilla Option Historical Values\")\n",
    "plt.show()"
   ]
  }
 ],
 "metadata": {
  "kernelspec": {
   "display_name": "Python 3 (ipykernel)",
   "language": "python",
   "name": "python3"
  },
  "language_info": {
   "codemirror_mode": {
    "name": "ipython",
    "version": 3
   },
   "file_extension": ".py",
   "mimetype": "text/x-python",
   "name": "python",
   "nbconvert_exporter": "python",
   "pygments_lexer": "ipython3",
   "version": "3.9.16"
  }
 },
 "nbformat": 4,
 "nbformat_minor": 5
}
