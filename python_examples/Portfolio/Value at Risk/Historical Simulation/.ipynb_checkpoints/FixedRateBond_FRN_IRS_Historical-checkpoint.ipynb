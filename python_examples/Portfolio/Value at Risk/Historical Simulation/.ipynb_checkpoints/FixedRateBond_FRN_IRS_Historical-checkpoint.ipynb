{
 "cells": [
  {
   "cell_type": "code",
   "execution_count": 1,
   "id": "1e69f7a5",
   "metadata": {},
   "outputs": [
    {
     "name": "stderr",
     "output_type": "stream",
     "text": [
      "/opt/homebrew/lib/python3.9/site-packages/scipy/__init__.py:146: UserWarning: A NumPy version >=1.16.5 and <1.23.0 is required for this version of SciPy (detected version 1.24.3\n",
      "  warnings.warn(f\"A NumPy version >={np_minversion} and <{np_maxversion}\"\n"
     ]
    }
   ],
   "source": [
    "import json\n",
    "import os\n",
    "import pandas as pd\n",
    "import numpy as np\n",
    "import prettytable as pt\n",
    "import matplotlib.pyplot as plt\n",
    "import matplotlib.dates as mdates\n",
    "from matplotlib import dates\n",
    "import seaborn as sns\n",
    "import datetime\n",
    "import warnings\n",
    "warnings.filterwarnings(\"ignore\")\n",
    "\n",
    "\n",
    "###################################################################################################\n",
    "                                                                                                  #\n",
    "from rhoova.Client import *                                                                       #   \n",
    "#Register and get api key from https://app.rhoova.com/ for ClientConfig(\"api key\", \"api secret\")  #\n",
    "config = ClientConfig(\"\", \"\")                                                                     #\n",
    "api = Api(config)                                                                                 # \n",
    "                                                                                                  #\n",
    "###################################################################################################\n",
    "\n",
    "\n",
    "directory = os.path.normpath(os.getcwd() + os.sep + os.pardir + os.sep + os.pardir)\n",
    "datadirectory=directory+\"/data/yielddata.csv\"\n",
    "\n",
    "\n",
    "yielddata = pd.read_csv(datadirectory)\n",
    "yielddata = yielddata.replace(np.nan, '', regex=True) \n",
    "\n",
    "mdirectory = os.path.normpath(os.getcwd() + os.sep + os.pardir + os.sep + os.pardir)\n",
    "mdatadirectory=mdirectory+\"/data/marketdata.csv\"\n",
    "\n",
    "marketdata = pd.read_csv(mdatadirectory)\n",
    "marketdata = marketdata.replace(np.nan, '', regex=True) \n"
   ]
  },
  {
   "cell_type": "code",
   "execution_count": 2,
   "id": "9c90b9ba",
   "metadata": {},
   "outputs": [
    {
     "data": {
      "text/plain": [
       "{'issueDate': '2015-03-15',\n",
       " 'maturityDate': '2026-06-04',\n",
       " 'frequency': 'Semiannual',\n",
       " 'coupon': 0.085,\n",
       " 'calendar': 'Turkey',\n",
       " 'currency': 'TRY',\n",
       " 'dateGeneration': 'Backward',\n",
       " 'dayCounter': 'Actual360',\n",
       " 'businessDayConvention': 'ModifiedFollowing',\n",
       " 'maturityDateConvention': 'ModifiedFollowing',\n",
       " 'redemption': 100,\n",
       " 'endOfMonth': True}"
      ]
     },
     "execution_count": 2,
     "metadata": {},
     "output_type": "execute_result"
    }
   ],
   "source": [
    "fixedRateBondDefinition={}\n",
    "fixedRateBondDefinition[\"issueDate\"]=\"2015-03-15\"\n",
    "fixedRateBondDefinition[\"maturityDate\"]=\"2026-06-04\"\n",
    "fixedRateBondDefinition[\"frequency\"]=\"Semiannual\"\n",
    "fixedRateBondDefinition[\"coupon\"]=0.085\n",
    "fixedRateBondDefinition[\"calendar\"]=\"Turkey\"\n",
    "fixedRateBondDefinition[\"currency\"]=\"TRY\"\n",
    "fixedRateBondDefinition[\"dateGeneration\"]=\"Backward\"\n",
    "fixedRateBondDefinition[\"dayCounter\"]=\"Actual360\"\n",
    "fixedRateBondDefinition[\"businessDayConvention\"]=\"ModifiedFollowing\"\n",
    "fixedRateBondDefinition[\"maturityDateConvention\"]=\"ModifiedFollowing\"\n",
    "fixedRateBondDefinition[\"redemption\"]=100\n",
    "fixedRateBondDefinition[\"endOfMonth\"]=True\n",
    "fixedRateBondDefinition"
   ]
  },
  {
   "cell_type": "code",
   "execution_count": 3,
   "id": "48caa3a5",
   "metadata": {},
   "outputs": [
    {
     "data": {
      "text/plain": [
       "{'issueDate': '2015-07-15',\n",
       " 'maturityDate': '2026-06-04',\n",
       " 'frequency': 'Quarterly',\n",
       " 'spread': 0.0,\n",
       " 'calendar': 'Turkey',\n",
       " 'currency': 'TRY',\n",
       " 'dateGeneration': 'Backward',\n",
       " 'dayCounter': 'Actual360',\n",
       " 'businessDayConvention': 'ModifiedFollowing',\n",
       " 'maturityDateConvention': 'ModifiedFollowing',\n",
       " 'redemption': 100,\n",
       " 'endOfMonth': True,\n",
       " 'fixingDate': ['2020-12-02'],\n",
       " 'fixingRate': [0.0012428641149285805]}"
      ]
     },
     "execution_count": 3,
     "metadata": {},
     "output_type": "execute_result"
    }
   ],
   "source": [
    "FRNDefinition={}\n",
    "FRNDefinition[\"issueDate\"]=\"2015-07-15\"\n",
    "FRNDefinition[\"maturityDate\"]=\"2026-06-04\"\n",
    "FRNDefinition[\"frequency\"]=\"Quarterly\"\n",
    "FRNDefinition[\"spread\"]=0.0\n",
    "FRNDefinition[\"calendar\"]=\"Turkey\"\n",
    "FRNDefinition[\"currency\"]=\"TRY\"\n",
    "FRNDefinition[\"dateGeneration\"]=\"Backward\"\n",
    "FRNDefinition[\"dayCounter\"]=\"Actual360\"\n",
    "FRNDefinition[\"businessDayConvention\"]=\"ModifiedFollowing\"\n",
    "FRNDefinition[\"maturityDateConvention\"]=\"ModifiedFollowing\"\n",
    "FRNDefinition[\"redemption\"]=100\n",
    "FRNDefinition[\"endOfMonth\"]=True\n",
    "FRNDefinition[\"fixingDate\"]=[\"2020-12-02\"]\n",
    "FRNDefinition[\"fixingRate\"]=[0.0012428641149285805]\n",
    "FRNDefinition"
   ]
  },
  {
   "cell_type": "code",
   "execution_count": 4,
   "id": "c8b7886f",
   "metadata": {},
   "outputs": [
    {
     "data": {
      "text/plain": [
       "{'payOrReceive': 'Receive',\n",
       " 'coupon': 0.085,\n",
       " 'frequency': 'Semiannual',\n",
       " 'calendar': 'Turkey',\n",
       " 'dateGeneration': 'Backward',\n",
       " 'dayCounter': 'Actual360',\n",
       " 'businessDayConvention': 'ModifiedFollowing',\n",
       " 'maturityDateConvention': 'ModifiedFollowing',\n",
       " 'endOfMonth': True}"
      ]
     },
     "execution_count": 4,
     "metadata": {},
     "output_type": "execute_result"
    }
   ],
   "source": [
    "fixedleg={}\n",
    "fixedleg[\"payOrReceive\"]=\"Receive\"\n",
    "fixedleg[\"coupon\"]= 0.085\n",
    "fixedleg[\"frequency\"]=\"Semiannual\"\n",
    "fixedleg[\"calendar\"]=\"Turkey\"\n",
    "fixedleg[\"dateGeneration\"]=\"Backward\"\n",
    "fixedleg[\"dayCounter\"]=\"Actual360\"\n",
    "fixedleg[\"businessDayConvention\"]=\"ModifiedFollowing\"\n",
    "fixedleg[\"maturityDateConvention\"]=\"ModifiedFollowing\"\n",
    "fixedleg[\"endOfMonth\"]=True\n",
    "fixedleg"
   ]
  },
  {
   "cell_type": "code",
   "execution_count": 5,
   "id": "02ac6a5c",
   "metadata": {},
   "outputs": [
    {
     "data": {
      "text/plain": [
       "{'frequency': 'Quarterly',\n",
       " 'spread': 0.0,\n",
       " 'calendar': 'Turkey',\n",
       " 'dateGeneration': 'Backward',\n",
       " 'dayCounter': 'Actual360',\n",
       " 'businessDayConvention': 'ModifiedFollowing',\n",
       " 'maturityDateConvention': 'ModifiedFollowing',\n",
       " 'endOfMonth': True,\n",
       " 'fixingDate': ['2020-12-02'],\n",
       " 'fixingRate': [0.0012428641149285805]}"
      ]
     },
     "execution_count": 5,
     "metadata": {},
     "output_type": "execute_result"
    }
   ],
   "source": [
    "floatingleg={}\n",
    "floatingleg[\"frequency\"]=\"Quarterly\"\n",
    "floatingleg[\"spread\"]=0.0\n",
    "floatingleg[\"calendar\"]=\"Turkey\"\n",
    "floatingleg[\"dateGeneration\"]=\"Backward\"\n",
    "floatingleg[\"dayCounter\"]=\"Actual360\"\n",
    "floatingleg[\"businessDayConvention\"]=\"ModifiedFollowing\"\n",
    "floatingleg[\"maturityDateConvention\"]=\"ModifiedFollowing\"\n",
    "floatingleg[\"endOfMonth\"]=True\n",
    "floatingleg[\"fixingDate\"]=[\"2020-12-02\"]\n",
    "floatingleg[\"fixingRate\"]=[0.0012428641149285805]\n",
    "floatingleg"
   ]
  },
  {
   "cell_type": "code",
   "execution_count": 6,
   "id": "84a5b590",
   "metadata": {},
   "outputs": [
    {
     "data": {
      "text/plain": [
       "{'DEPO': {'businessDayConvention': 'Following', 'dayCounter': 'Actual360'},\n",
       " 'IRS': {'businessDayConvention': 'Following',\n",
       "  'dayCounter': 'Actual360',\n",
       "  'frequency': 'Semiannual'}}"
      ]
     },
     "execution_count": 6,
     "metadata": {},
     "output_type": "execute_result"
    }
   ],
   "source": [
    "instruments={}\n",
    "depo={}\n",
    "irs={}\n",
    "\n",
    "depo[\"businessDayConvention\"]=\"Following\"     # if it is null, default value is used\n",
    "depo[\"dayCounter\"]=\"Actual360\"                # if it is null, default value is used\n",
    "\n",
    "irs[\"businessDayConvention\"]=\"Following\"      # if it is null, default value is used \n",
    "irs[\"dayCounter\"]=\"Actual360\"                 # if it is null, default value is used \n",
    "irs[\"frequency\"]=\"Semiannual\"               \n",
    "\n",
    "instruments[\"DEPO\"]=depo\n",
    "instruments[\"IRS\"]=irs\n",
    "\n",
    "instruments"
   ]
  },
  {
   "cell_type": "code",
   "execution_count": 7,
   "id": "77d0baf6",
   "metadata": {},
   "outputs": [
    {
     "data": {
      "text/plain": [
       "{'name': 'TRYZC',\n",
       " 'settlementDays': 2,\n",
       " 'intpMethod': 'LINEAR',\n",
       " 'currency': 'TRY',\n",
       " 'calendar': 'Turkey',\n",
       " 'dayCounter': 'Actual360',\n",
       " 'period': '6M',\n",
       " 'instruments': {'DEPO': {'businessDayConvention': 'Following',\n",
       "   'dayCounter': 'Actual360'},\n",
       "  'IRS': {'businessDayConvention': 'Following',\n",
       "   'dayCounter': 'Actual360',\n",
       "   'frequency': 'Semiannual'}}}"
      ]
     },
     "execution_count": 7,
     "metadata": {},
     "output_type": "execute_result"
    }
   ],
   "source": [
    "# Fix parameters for building yield curve\n",
    "yieldcurveconfig={\n",
    "      \"name\": \"TRYZC\",\n",
    "      \"settlementDays\": 2,\n",
    "      \"intpMethod\": \"LINEAR\",\n",
    "      \"currency\": \"TRY\",\n",
    "      \"calendar\": \"Turkey\",\n",
    "      \"dayCounter\": \"Actual360\",\n",
    "      \"period\": \"6M\",\n",
    "      \"instruments\": instruments\n",
    "\n",
    "    }\n",
    "yieldcurveconfig"
   ]
  },
  {
   "cell_type": "code",
   "execution_count": 8,
   "id": "f0fac96c",
   "metadata": {},
   "outputs": [],
   "source": [
    "riskdata = {\n",
    "  \"id\": \"PORTFOLIO1\",\n",
    "  \"name\": \"PORTFOLIO 1\",\n",
    "  \"method\": \"VaR\",\n",
    "  \"forRisk\": True,\n",
    "  \"valuationDate\": \"2021-01-28\",\n",
    "  \"valuationCurrency\": \"TRY\",\n",
    "  \"riskMethod\": \"HISTORICAL\",\n",
    "  \"horizon\": 252,\n",
    "  \"confidenceInterval\": 0.99,\n",
    "  \"returnType\": None,\n",
    "  \"trend\": False,\n",
    "  \"calendar\": \"Turkey\",\n",
    "  \"timeBucket\": [\"0D\",\"1D\",\"1W\",\"2W\",\"3W\",\"1M\",\"2M\",\"3M\",\"6M\",\"9M\",\"1Y\",\"2Y\",\"3Y\",\"4Y\",\n",
    "                \"5Y\",\"6Y\",\"7Y\",\"8Y\",\"9Y\",\"10Y\",\"12Y\",\"15Y\",\"20Y\",\"25Y\",\"30Y\",\"40Y\",\"50Y\"],\n",
    "  \"fillNa\": \"BACKWARD\",\n",
    "  \"maxFillNaDays\": 5,\n",
    "  \"tasks\": [\n",
    "            {\n",
    "      \"trade_id\": \"FLOAT1000\",\n",
    "      \"calculation_type\": \"floating_rate_bond\",\n",
    "      \"notional\": 1000000,\n",
    "      \"settlementDate\": \"2021-02-01\",\n",
    "      \"buySell\": \"Buy\",\n",
    "      \"discountCurve\": \"TRYZC\",\n",
    "      \"floatingBondDefinition\": FRNDefinition\n",
    "    },{\n",
    "      \"trade_id\": \"FRB1000\",\n",
    "      \"calculation_type\": \"fixed_rate_bond\",\n",
    "      \"notional\": 1000000,\n",
    "      \"settlementDate\": \"2021-02-01\",\n",
    "      \"buySell\": \"Sell\",\n",
    "      \"discountCurve\": \"TRYZC\",\n",
    "      \"fixedRateBondDefinition\": fixedRateBondDefinition\n",
    "    },\n",
    "      {\n",
    "      \"trade_id\": \"IRS1000\",\n",
    "      \"calculation_type\": \"interest_rates_swap\",\n",
    "      \"discountCurve\": \"TRYZC\",\n",
    "      \"floatingLegForecastCurve\": \"TRYZC\",\n",
    "      \"settlementDate\": \"2021-02-01\",\n",
    "      \"maturityDate\": \"2026-06-04\",\n",
    "      \"startDate\": \"2021-02-01\",\n",
    "      \"notional\": 1000000,\n",
    "      \"currency\": \"TRY\",\n",
    "      \"fixedLeg\":fixedleg,\n",
    "      \"floatingLeg\":floatingleg\n",
    "    }\n",
    "  ],\n",
    "  \"curves\": [yieldcurveconfig],\n",
    "  \"yieldData\": yielddata.to_dict('r'),\n",
    "  \"marketData\":marketdata.to_dict('r'),\n",
    "}"
   ]
  },
  {
   "cell_type": "code",
   "execution_count": 9,
   "id": "23b47392",
   "metadata": {},
   "outputs": [],
   "source": [
    "try:\n",
    "    res = api.createTask(CalculationType.PORTFOLIO, riskdata, True)\n",
    "    if(res[\"result\"]):\n",
    "      result=json.loads(res[\"result\"])\n",
    "    else:\n",
    "      print(res[\"result\"])\n",
    "except RhoovaError as e:\n",
    "    e.printPretty()"
   ]
  },
  {
   "cell_type": "code",
   "execution_count": 10,
   "id": "ac8a8067",
   "metadata": {},
   "outputs": [
    {
     "name": "stdout",
     "output_type": "stream",
     "text": [
      "+------------+-------------+\n",
      "| Parameters |       Value |\n",
      "+------------+-------------+\n",
      "|         PV | -13716.6966 |\n",
      "|        VAR |   1259.5219 |\n",
      "| VAR/PV (%) |      9.1824 |\n",
      "+------------+-------------+\n"
     ]
    }
   ],
   "source": [
    "npvTable = pt.PrettyTable(['Parameters', 'Value'])\n",
    "npvTable.add_row(['PV', result.get('pv')])\n",
    "npvTable.add_row(['VAR', result.get('VaR')])\n",
    "npvTable.add_row(['VAR/PV (%)', result.get('var/pv')])\n",
    "npvTable.align = 'r'\n",
    "npvTable.float_format = '.4'\n",
    "print(npvTable)\n"
   ]
  },
  {
   "cell_type": "code",
   "execution_count": 11,
   "id": "d77d1685",
   "metadata": {},
   "outputs": [],
   "source": [
    "frb=result.get(\"FRB1000\")\n",
    "frn=result.get(\"FLOAT1000\")\n",
    "irs=result.get(\"IRS1000\")"
   ]
  },
  {
   "cell_type": "code",
   "execution_count": 12,
   "id": "9fc09dee",
   "metadata": {},
   "outputs": [],
   "source": [
    "portfoliohistoricaldates=[]\n",
    "portfoliohistoricalvalues=[]\n",
    "for date in frb.keys():\n",
    "    portfoliohistoricaldates.append(date)\n",
    "    portf_val=frb.get(date)+frn.get(date)+irs.get(date)\n",
    "    portfoliohistoricalvalues.append(portf_val)    "
   ]
  },
  {
   "cell_type": "code",
   "execution_count": 13,
   "id": "a860ed0f",
   "metadata": {},
   "outputs": [
    {
     "data": {
      "image/png": "[encoded data removed]",
      "text/plain": [
       "<Figure size 1080x648 with 1 Axes>"
      ]
     },
     "metadata": {
      "needs_background": "light"
     },
     "output_type": "display_data"
    }
   ],
   "source": [
    "converted_dates = list(map(datetime.datetime.strptime, portfoliohistoricaldates, len(portfoliohistoricaldates)*['%Y-%m-%d']))\n",
    "plt.figure(figsize=(15,9))\n",
    "plt.gca().xaxis.set_major_formatter(mdates.DateFormatter('%Y-%m-%d'))\n",
    "plt.gca().xaxis.set_major_locator(mdates.DayLocator(interval=15))\n",
    "plt.gcf().autofmt_xdate()\n",
    "plt.plot(converted_dates[:-1], portfoliohistoricalvalues[:-1])\n",
    "plt.title(\"Portfolio Historical Values\")\n",
    "plt.show()"
   ]
  },
  {
   "cell_type": "code",
   "execution_count": 14,
   "id": "7ab48e2b",
   "metadata": {},
   "outputs": [],
   "source": [
    "data2 = {\n",
    "  \"notional\": 1000000,\n",
    "  \"valuationDate\": \"2021-01-28\",\n",
    "  \"settlementDate\": \"2021-02-01\",\n",
    "  \"buySell\": \"Sell\",\n",
    "  \"fixedRateBondDefinition\": fixedRateBondDefinition,\n",
    "  \"discountCurve\": yieldcurveconfig,\n",
    "  \"yieldData\": yielddata.to_dict('r')\n",
    "}"
   ]
  },
  {
   "cell_type": "code",
   "execution_count": 15,
   "id": "58ad36a4",
   "metadata": {},
   "outputs": [],
   "source": [
    "try:\n",
    "    resultdata = api.createTask(CalculationType.FIXED_RATE_BOND, data2,True)\n",
    "    frbresult=json.loads(resultdata[\"result\"])\n",
    "except RhoovaError as e:\n",
    "    e.printPretty()"
   ]
  },
  {
   "cell_type": "code",
   "execution_count": 16,
   "id": "2921ac13",
   "metadata": {},
   "outputs": [
    {
     "name": "stdout",
     "output_type": "stream",
     "text": [
      "+-------------------+---------------+\n",
      "|        Parameters |         Value |\n",
      "+-------------------+---------------+\n",
      "|                PV | -1439540.9774 |\n",
      "|       Clean Price |      142.5610 |\n",
      "|       Dirty Price |      143.9541 |\n",
      "|    Accrued Amount |        1.3931 |\n",
      "| Yield to Maturity |        0.5174 |\n",
      "|          Duration |        4.5869 |\n",
      "| Modified Duration |        4.5750 |\n",
      "| Macualay Duration |        4.5869 |\n",
      "|         Convexity |       25.4588 |\n",
      "|               Bps |        0.0550 |\n",
      "+-------------------+---------------+\n"
     ]
    }
   ],
   "source": [
    "npvTable = pt.PrettyTable(['Parameters', 'Value'])\n",
    "npvTable.add_row(['PV', frbresult.get('pv')])\n",
    "npvTable.add_row(['Clean Price', frbresult.get('cleanPrice')])\n",
    "npvTable.add_row(['Dirty Price', frbresult.get('dirtyPrice')])\n",
    "npvTable.add_row(['Accrued Amount', frbresult.get('accruedAmount')])\n",
    "npvTable.add_row(['Yield to Maturity', 100*frbresult.get('yieldToMaturity')])\n",
    "npvTable.add_row(['Duration', frbresult.get('duration')])\n",
    "npvTable.add_row(['Modified Duration', frbresult.get('modifiedDuration')])\n",
    "npvTable.add_row(['Macualay Duration', frbresult.get('macaulayDuration')])\n",
    "npvTable.add_row(['Convexity', frbresult.get('convexity')])\n",
    "npvTable.add_row(['Bps', frbresult.get('bps')])\n",
    "npvTable.align = 'r'\n",
    "npvTable.float_format = '.4'\n",
    "print(npvTable)"
   ]
  },
  {
   "cell_type": "code",
   "execution_count": 17,
   "id": "5121a279",
   "metadata": {},
   "outputs": [],
   "source": [
    "data3 = {      \n",
    "      \"notional\": 1000000,\n",
    "      \"valuationDate\": \"2021-01-28\",\n",
    "      \"settlementDate\": \"2021-02-01\",\n",
    "      \"buySell\": \"Buy\",\n",
    "      \"discountCurve\": \"TRYZC\",\n",
    "      \"floatingBondDefinition\": FRNDefinition,\n",
    "      \"discountCurve\": yieldcurveconfig,\n",
    "      \"yieldData\": yielddata.to_dict('r')\n",
    "         }"
   ]
  },
  {
   "cell_type": "code",
   "execution_count": 18,
   "id": "80110890",
   "metadata": {},
   "outputs": [],
   "source": [
    "try:\n",
    "    resultdata = api.createTask(CalculationType.FLOATING_RATE_BOND, data3,True)\n",
    "    frnresult=json.loads(resultdata[\"result\"])\n",
    "except RhoovaError as e:\n",
    "    e.printPretty()"
   ]
  },
  {
   "cell_type": "code",
   "execution_count": 19,
   "id": "c58b69ed",
   "metadata": {},
   "outputs": [
    {
     "name": "stdout",
     "output_type": "stream",
     "text": [
      "+-------------------+--------------+\n",
      "|        Parameters |        Value |\n",
      "+-------------------+--------------+\n",
      "|                PV | 1000203.5307 |\n",
      "|       Clean Price |     100.0000 |\n",
      "|       Dirty Price |     100.0204 |\n",
      "|    Accrued Amount |       0.0204 |\n",
      "| Yield to Maturity |       0.5500 |\n",
      "|          Duration |       5.3644 |\n",
      "| Modified Duration |       5.3570 |\n",
      "| Macualay Duration |       5.3644 |\n",
      "|         Convexity |      30.1782 |\n",
      "|               Bps |       0.0549 |\n",
      "+-------------------+--------------+\n"
     ]
    }
   ],
   "source": [
    "npvTable = pt.PrettyTable(['Parameters', 'Value'])\n",
    "npvTable.add_row(['PV', frnresult.get('pv')])\n",
    "npvTable.add_row(['Clean Price', frnresult.get('cleanPrice')])\n",
    "npvTable.add_row(['Dirty Price', frnresult.get('dirtyPrice')])\n",
    "npvTable.add_row(['Accrued Amount', frnresult.get('accruedAmount')])\n",
    "npvTable.add_row(['Yield to Maturity', 100*frnresult.get('yieldToMaturity')])\n",
    "npvTable.add_row(['Duration', frnresult.get('duration')])\n",
    "npvTable.add_row(['Modified Duration', frnresult.get('modifiedDuration')])\n",
    "npvTable.add_row(['Macualay Duration', frnresult.get('macaulayDuration')])\n",
    "npvTable.add_row(['Convexity', frnresult.get('convexity')])\n",
    "npvTable.add_row(['Bps', frnresult.get('bps')])\n",
    "npvTable.align = 'r'\n",
    "npvTable.float_format = '.4'\n",
    "print(npvTable)"
   ]
  },
  {
   "cell_type": "code",
   "execution_count": 20,
   "id": "c33f4a0c",
   "metadata": {},
   "outputs": [],
   "source": [
    "data4= {\n",
    "      \"valuationDate\": \"2021-01-28\",\n",
    "      \"discountCurve\": yieldcurveconfig,\n",
    "      \"floatingLegForecastCurve\": yieldcurveconfig,\n",
    "      \"settlementDate\": \"2021-02-01\",\n",
    "      \"maturityDate\": \"2026-06-04\",\n",
    "      \"startDate\": \"2021-02-01\",\n",
    "      \"notional\": 1000000,\n",
    "      \"currency\": \"TRY\",\n",
    "      \"fixedLeg\":fixedleg,\n",
    "      \"floatingLeg\":floatingleg,\n",
    "      \"yieldData\": yielddata.to_dict('r')\n",
    "    }"
   ]
  },
  {
   "cell_type": "code",
   "execution_count": 21,
   "id": "b5c7fc06",
   "metadata": {},
   "outputs": [],
   "source": [
    "try:\n",
    "    resultdata = api.createTask(CalculationType.INTEREST_RATES_SWAP, data4,True)\n",
    "    irsresult=json.loads(resultdata[\"result\"])\n",
    "except RhoovaError as e:\n",
    "    e.printPretty()"
   ]
  },
  {
   "cell_type": "code",
   "execution_count": 22,
   "id": "5afcf5de",
   "metadata": {},
   "outputs": [
    {
     "name": "stdout",
     "output_type": "stream",
     "text": [
      "+---------------+-------------+\n",
      "|    Parameters |       Value |\n",
      "+---------------+-------------+\n",
      "|            PV | 425620.7501 |\n",
      "|  Fixed Leg PV | 455079.1029 |\n",
      "|  Float Leg PV | -29458.3528 |\n",
      "|          PV01 |    535.3872 |\n",
      "|          DV01 |   -535.7755 |\n",
      "|     Fair Rate |      0.5502 |\n",
      "|   Fair Spread |      7.9440 |\n",
      "| Implied Quote |      0.5502 |\n",
      "+---------------+-------------+\n"
     ]
    }
   ],
   "source": [
    "npvTable = pt.PrettyTable(['Parameters', 'Value'])\n",
    "npvTable.add_row(['PV', irsresult.get('pv')])\n",
    "npvTable.add_row(['Fixed Leg PV', irsresult.get('fixedLegPv')])\n",
    "npvTable.add_row(['Float Leg PV', irsresult.get('floatingLegPv')])\n",
    "npvTable.add_row(['PV01', irsresult.get('PV01')])\n",
    "npvTable.add_row(['DV01', irsresult.get('DV01')])\n",
    "npvTable.add_row(['Fair Rate', 100*irsresult.get('fairRate')])\n",
    "npvTable.add_row(['Fair Spread', 100*irsresult.get('fairSpread')])\n",
    "npvTable.add_row(['Implied Quote', 100*irsresult.get('impliedQuote')])\n",
    "npvTable.align = 'r'\n",
    "npvTable.float_format = '.4'\n",
    "print(npvTable)"
   ]
  },
  {
   "cell_type": "code",
   "execution_count": 23,
   "id": "c0ec89cd",
   "metadata": {},
   "outputs": [],
   "source": [
    "frb_cf=pd.DataFrame(frbresult.get(\"data\"))\n",
    "frn_cf=pd.DataFrame(frnresult.get(\"data\"))\n",
    "irs_cf=pd.DataFrame(irsresult.get(\"data\"))"
   ]
  },
  {
   "cell_type": "code",
   "execution_count": 24,
   "id": "adbdee92",
   "metadata": {},
   "outputs": [
    {
     "data": {
      "text/plain": [
       "-13716.696569551423"
      ]
     },
     "execution_count": 24,
     "metadata": {},
     "output_type": "execute_result"
    }
   ],
   "source": [
    "frbresult.get('pv')+frnresult.get('pv')+irsresult.get('pv')"
   ]
  }
 ],
 "metadata": {
  "kernelspec": {
   "display_name": "Python 3 (ipykernel)",
   "language": "python",
   "name": "python3"
  },
  "language_info": {
   "codemirror_mode": {
    "name": "ipython",
    "version": 3
   },
   "file_extension": ".py",
   "mimetype": "text/x-python",
   "name": "python",
   "nbconvert_exporter": "python",
   "pygments_lexer": "ipython3",
   "version": "3.9.16"
  }
 },
 "nbformat": 4,
 "nbformat_minor": 5
}
