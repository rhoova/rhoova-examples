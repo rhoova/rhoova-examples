{
 "cells": [
  {
   "cell_type": "code",
   "execution_count": 83,
   "id": "1e69f7a5",
   "metadata": {},
   "outputs": [],
   "source": [
    "import json\n",
    "import os\n",
    "import pandas as pd\n",
    "import numpy as np\n",
    "import prettytable as pt\n",
    "import matplotlib.pyplot as plt\n",
    "import matplotlib.dates as mdates\n",
    "from matplotlib import dates\n",
    "import datetime\n",
    "import warnings\n",
    "warnings.filterwarnings(\"ignore\")\n",
    "\n",
    "\n",
    "###################################################################################################\n",
    "                                                                                                  #\n",
    "from rhoova.Client import *                                                                       #   \n",
    "#Register and get api key from https://app.rhoova.com/ for ClientConfig(\"api key\", \"api secret\")  #\n",
    "config = ClientConfig(\"\", \"\")                                                                     #\n",
    "api = Api(config)                                                                                 # \n",
    "                                                                                                  #\n",
    "###################################################################################################\n",
    "\n",
    "\n",
    "\n",
    "directory = os.path.normpath(os.getcwd() + os.sep + os.pardir + os.sep + os.pardir)\n",
    "datadirectory=directory+\"/data/yielddata.csv\"\n",
    "\n",
    "\n",
    "yielddata = pd.read_csv(datadirectory)\n",
    "yielddata = yielddata.replace(np.nan, '', regex=True) \n",
    "\n",
    "mdirectory = os.path.normpath(os.getcwd() + os.sep + os.pardir + os.sep + os.pardir)\n",
    "mdatadirectory=mdirectory+\"/data/marketdata.csv\"\n",
    "\n",
    "marketdata = pd.read_csv(mdatadirectory)\n",
    "marketdata = marketdata.replace(np.nan, '', regex=True) \n"
   ]
  },
  {
   "cell_type": "code",
   "execution_count": 84,
   "id": "c6e0ad77",
   "metadata": {},
   "outputs": [
    {
     "data": {
      "text/plain": [
       "{'type': 'Fixed',\n",
       " 'payOrReceive': 'Receive',\n",
       " 'currency': 'USD',\n",
       " 'notional': 1000000,\n",
       " 'coupon': 0.00971619,\n",
       " 'spread': 0.0,\n",
       " 'frequency': 'Semiannual',\n",
       " 'dayCounter': 'Thirty360',\n",
       " 'calendar': 'UnitedStates',\n",
       " 'maturityDateConvention': 'ModifiedFollowing',\n",
       " 'businessDayConvention': 'ModifiedFollowing',\n",
       " 'dateGeneration': 'Backward',\n",
       " 'endOfMonth': True,\n",
       " 'initialNominal': 1000000,\n",
       " 'resetTable': False,\n",
       " 'runningCapitalExchange': False,\n",
       " 'fixingDate': [],\n",
       " 'fixingRate': []}"
      ]
     },
     "execution_count": 84,
     "metadata": {},
     "output_type": "execute_result"
    }
   ],
   "source": [
    "leg1Definition={}\n",
    "leg1Definition[\"type\"]=\"Fixed\"\n",
    "leg1Definition[\"payOrReceive\"]=\"Receive\"\n",
    "leg1Definition[\"currency\"]=\"USD\"\n",
    "leg1Definition[\"notional\"]=1000000\n",
    "leg1Definition[\"coupon\"]=0.00971619\n",
    "leg1Definition[\"spread\"]= 0.0\n",
    "leg1Definition[\"frequency\"]=\"Semiannual\"\n",
    "leg1Definition[\"dayCounter\"]=\"Thirty360\"\n",
    "leg1Definition[\"calendar\"]=\"UnitedStates\"\n",
    "leg1Definition[\"maturityDateConvention\"]=\"ModifiedFollowing\"\n",
    "leg1Definition[\"businessDayConvention\"]=\"ModifiedFollowing\"\n",
    "leg1Definition[\"dateGeneration\"]=\"Backward\"\n",
    "leg1Definition[\"endOfMonth\"]=True\n",
    "leg1Definition[\"initialNominal\"]=1000000\n",
    "leg1Definition[\"resetTable\"]=False\n",
    "leg1Definition[\"runningCapitalExchange\"]=False\n",
    "leg1Definition[\"fixingDate\"]=[]\n",
    "leg1Definition[\"fixingRate\"]=[]\n",
    "leg1Definition"
   ]
  },
  {
   "cell_type": "code",
   "execution_count": 85,
   "id": "968edcae",
   "metadata": {},
   "outputs": [
    {
     "data": {
      "text/plain": [
       "{'type': 'Floating',\n",
       " 'payOrReceive': 'Pay',\n",
       " 'currency': 'EUR',\n",
       " 'notional': 838447.865,\n",
       " 'coupon': 0.0,\n",
       " 'spread': 0.0,\n",
       " 'frequency': 'Quarterly',\n",
       " 'dayCounter': 'Actual360',\n",
       " 'calendar': 'TARGET',\n",
       " 'maturityDateConvention': 'ModifiedFollowing',\n",
       " 'businessDayConvention': 'ModifiedFollowing',\n",
       " 'dateGeneration': 'Backward',\n",
       " 'endOfMonth': True,\n",
       " 'initialNominal': 838447.865,\n",
       " 'resetTable': False,\n",
       " 'runningCapitalExchange': False,\n",
       " 'fixingDate': ['2021-03-12'],\n",
       " 'fixingRate': [-0.00477]}"
      ]
     },
     "execution_count": 85,
     "metadata": {},
     "output_type": "execute_result"
    }
   ],
   "source": [
    "leg2Definition={}\n",
    "leg2Definition[\"type\"]=\"Floating\"\n",
    "leg2Definition[\"payOrReceive\"]=\"Pay\"\n",
    "leg2Definition[\"currency\"]=\"EUR\"\n",
    "leg2Definition[\"notional\"]=838447.865\n",
    "leg2Definition[\"coupon\"]=0.0\n",
    "leg2Definition[\"spread\"]= 0.0\n",
    "leg2Definition[\"frequency\"]=\"Quarterly\"\n",
    "leg2Definition[\"dayCounter\"]=\"Actual360\"\n",
    "leg2Definition[\"calendar\"]=\"TARGET\"\n",
    "leg2Definition[\"maturityDateConvention\"]=\"ModifiedFollowing\"\n",
    "leg2Definition[\"businessDayConvention\"]=\"ModifiedFollowing\"\n",
    "leg2Definition[\"dateGeneration\"]=\"Backward\"\n",
    "leg2Definition[\"endOfMonth\"]=True\n",
    "leg2Definition[\"initialNominal\"]=838447.865\n",
    "leg2Definition[\"resetTable\"]=False\n",
    "leg2Definition[\"runningCapitalExchange\"]=False\n",
    "leg2Definition[\"fixingDate\"]=[\"2021-03-12\"]\n",
    "leg2Definition[\"fixingRate\"]=[-0.00477]\n",
    "leg2Definition"
   ]
  },
  {
   "cell_type": "code",
   "execution_count": 86,
   "id": "84a5b590",
   "metadata": {},
   "outputs": [
    {
     "data": {
      "text/plain": [
       "{'DEPO': {'businessDayConvention': 'ModifiedFollowing',\n",
       "  'dayCounter': 'Actual360'}}"
      ]
     },
     "execution_count": 86,
     "metadata": {},
     "output_type": "execute_result"
    }
   ],
   "source": [
    "instruments={}\n",
    "depo={}\n",
    "\n",
    "depo[\"businessDayConvention\"]=\"ModifiedFollowing\"     # if it is null, default value is used\n",
    "depo[\"dayCounter\"]=\"Actual360\"                        # if it is null, default value is used\n",
    "\n",
    "instruments[\"DEPO\"]=depo\n",
    "\n",
    "instruments"
   ]
  },
  {
   "cell_type": "code",
   "execution_count": 87,
   "id": "77d0baf6",
   "metadata": {},
   "outputs": [
    {
     "data": {
      "text/plain": [
       "{'name': 'USDZCS',\n",
       " 'settlementDays': 2,\n",
       " 'intpMethod': 'LINEAR',\n",
       " 'currency': 'TRY',\n",
       " 'calendar': 'Turkey',\n",
       " 'dayCounter': 'Actual360',\n",
       " 'period': '6M',\n",
       " 'instruments': {'DEPO': {'businessDayConvention': 'ModifiedFollowing',\n",
       "   'dayCounter': 'Actual360'}}}"
      ]
     },
     "execution_count": 87,
     "metadata": {},
     "output_type": "execute_result"
    }
   ],
   "source": [
    "leg1yieldcurveconfig={\n",
    "      \"name\": \"USDZCS\",\n",
    "      \"settlementDays\": 2,\n",
    "      \"intpMethod\": \"LINEAR\",\n",
    "      \"currency\": \"TRY\",\n",
    "      \"calendar\": \"Turkey\",\n",
    "      \"dayCounter\": \"Actual360\",\n",
    "      \"period\": \"6M\",\n",
    "      \"instruments\": instruments\n",
    "    }\n",
    "leg1yieldcurveconfig"
   ]
  },
  {
   "cell_type": "code",
   "execution_count": 88,
   "id": "440daadd",
   "metadata": {},
   "outputs": [],
   "source": [
    " leg2yieldcurveconfig= {\n",
    "      \"name\": \"EURZCS\",\n",
    "      \"settlementDays\": 2,\n",
    "      \"intpMethod\": \"LINEAR\",\n",
    "      \"currency\": \"USD\",\n",
    "      \"calendar\": \"UnitedStates\",\n",
    "      \"dayCounter\": \"Actual360\",\n",
    "      \"period\": \"6M\",\n",
    "      \"instruments\":instruments\n",
    "    }"
   ]
  },
  {
   "cell_type": "code",
   "execution_count": 89,
   "id": "f0fac96c",
   "metadata": {},
   "outputs": [],
   "source": [
    "riskdata = {\n",
    "  \"id\": \"PORTFOLIO1\",\n",
    "  \"name\": \"PORTFOLIO 1\",\n",
    "  \"method\": \"VaR\",\n",
    "  \"forRisk\": False,\n",
    "  \"valuationDate\": \"2021-01-28\",\n",
    "  \"valuationCurrency\": \"USD\",\n",
    "  \"riskMethod\": \"HISTORICAL\",\n",
    "  \"horizon\": 252,\n",
    "  \"confidenceInterval\": 0.99,\n",
    "  \"returnType\": None,\n",
    "  \"trend\": False,\n",
    "  \"calendar\": \"Turkey\",\n",
    "  \"timeBucket\": [\"0D\",\"1D\",\"1W\",\"2W\",\"3W\",\"1M\",\"2M\",\"3M\",\"6M\",\"9M\",\"1Y\",\"2Y\",\"3Y\",\"4Y\",\n",
    "                \"5Y\",\"6Y\",\"7Y\",\"8Y\",\"9Y\",\"10Y\",\"12Y\",\"15Y\",\"20Y\",\"25Y\",\"30Y\",\"40Y\",\"50Y\"],\n",
    "  \"fillNa\": \"BACKWARD\",\n",
    "  \"maxFillNaDays\": 5,\n",
    "  \"tasks\": [\n",
    "    {\n",
    "      \"trade_id\": \"CCSWAP1000\",\n",
    "      \"calculation_type\": \"cc_swap\",\n",
    "      \"settlementDate\": \"2021-03-12\",\n",
    "      \"maturityDate\": \"2026-03-12\",\n",
    "      \"startDate\": \"2021-03-12\",\n",
    "      \"spotPrice\": 1.2121,\n",
    "      \"leg1\": leg1Definition,\n",
    "      \"leg2\": leg2Definition,\n",
    "      \"leg1DiscountCurve\": \"USDZCS\",\n",
    "      \"leg2DiscountCurve\": \"EURZCS\",\n",
    "      \"leg2ForecastCurve\": \"USDZCS\",\n",
    "\n",
    "    },\n",
    "  ],\n",
    "  \"curves\": [leg1yieldcurveconfig,leg2yieldcurveconfig],\n",
    "  \"yieldData\": yielddata.to_dict('r'),\n",
    "  \"marketData\":marketdata.to_dict('r'),\n",
    "}"
   ]
  },
  {
   "cell_type": "code",
   "execution_count": 90,
   "id": "23b47392",
   "metadata": {},
   "outputs": [],
   "source": [
    "try:\n",
    "    rfresult = api.createTask(CalculationType.PORTFOLIO, riskdata, True)\n",
    "    if(rfresult[\"result\"]):\n",
    "      result=json.loads(rfresult[\"result\"])\n",
    "    else:\n",
    "      print(rfresult[\"result\"])\n",
    "except RhoovaError as e:\n",
    "    e.printPretty()"
   ]
  },
  {
   "cell_type": "code",
   "execution_count": 91,
   "id": "ac8a8067",
   "metadata": {},
   "outputs": [
    {
     "name": "stdout",
     "output_type": "stream",
     "text": [
      "+------------+------------+\n",
      "| Parameters |      Value |\n",
      "+------------+------------+\n",
      "|         PV |  9000.4502 |\n",
      "|        VAR | 14515.6580 |\n",
      "| VAR/PV (%) |   161.2770 |\n",
      "+------------+------------+\n"
     ]
    }
   ],
   "source": [
    "npvTable = pt.PrettyTable(['Parameters', 'Value'])\n",
    "npvTable.add_row(['PV', result.get('pv')])\n",
    "npvTable.add_row(['VAR', result.get('VaR')])\n",
    "npvTable.add_row(['VAR/PV (%)', result.get('var/pv')])\n",
    "npvTable.align = 'r'\n",
    "npvTable.float_format = '.4'\n",
    "print(npvTable)\n"
   ]
  },
  {
   "cell_type": "code",
   "execution_count": 92,
   "id": "948c16e9",
   "metadata": {},
   "outputs": [],
   "source": [
    "portfoliohistorical=result.get(\"CCSWAP1000\")"
   ]
  },
  {
   "cell_type": "code",
   "execution_count": 93,
   "id": "ccff0f81",
   "metadata": {},
   "outputs": [],
   "source": [
    "portfoliohistoricaldates=[]\n",
    "portfoliohistoricalvalues=[]\n",
    "for date,value in portfoliohistorical.items():\n",
    "    portfoliohistoricaldates.append(date)\n",
    "    portfoliohistoricalvalues.append(value)"
   ]
  },
  {
   "cell_type": "code",
   "execution_count": 94,
   "id": "62d4e338",
   "metadata": {},
   "outputs": [
    {
     "data": {
      "image/png": "[encoded data removed]",
      "text/plain": [
       "<Figure size 1080x648 with 1 Axes>"
      ]
     },
     "metadata": {
      "needs_background": "light"
     },
     "output_type": "display_data"
    }
   ],
   "source": [
    "converted_dates = list(map(datetime.datetime.strptime, portfoliohistoricaldates, len(portfoliohistoricaldates)*['%Y-%m-%d']))\n",
    "plt.figure(figsize=(15,9))\n",
    "plt.gca().xaxis.set_major_formatter(mdates.DateFormatter('%Y-%m-%d'))\n",
    "plt.gca().xaxis.set_major_locator(mdates.DayLocator(interval=15))\n",
    "plt.gcf().autofmt_xdate()\n",
    "plt.plot(converted_dates, portfoliohistoricalvalues)\n",
    "plt.title(\"CCS Historical Values\")\n",
    "plt.show()"
   ]
  },
  {
   "cell_type": "code",
   "execution_count": 95,
   "id": "c2e147fb",
   "metadata": {},
   "outputs": [],
   "source": [
    "###################################################################################################\n",
    "###################################################################################################\n",
    "###################################################################################################\n",
    "###################################################################################################\n",
    "###################################################################################################\n",
    "###################################################################################################\n",
    "###################################################################################################\n",
    "###################################################################################################"
   ]
  },
  {
   "cell_type": "code",
   "execution_count": 96,
   "id": "bcdbe70e",
   "metadata": {},
   "outputs": [],
   "source": [
    "riskdata[\"method\"]=\"risk_factors\""
   ]
  },
  {
   "cell_type": "code",
   "execution_count": 97,
   "id": "4cf583a6",
   "metadata": {},
   "outputs": [],
   "source": [
    "try:\n",
    "    res = api.createTask(CalculationType.PORTFOLIO, riskdata, True)\n",
    "    if(res[\"result\"]):\n",
    "        rfresult=json.loads(res[\"result\"])\n",
    "    else:\n",
    "        print(res[\"result\"])\n",
    "except RhoovaError as e:\n",
    "    e.printPretty()"
   ]
  },
  {
   "cell_type": "code",
   "execution_count": 98,
   "id": "14959dd5",
   "metadata": {},
   "outputs": [],
   "source": [
    "rfresult_df=pd.DataFrame(rfresult)"
   ]
  },
  {
   "cell_type": "code",
   "execution_count": 99,
   "id": "ab996fff",
   "metadata": {},
   "outputs": [],
   "source": [
    "lastdf=rfresult_df.filter(regex='USDZCS')\n",
    "lastdf1=rfresult_df.filter(regex='EURZCS')"
   ]
  },
  {
   "cell_type": "code",
   "execution_count": 100,
   "id": "65b66c39",
   "metadata": {},
   "outputs": [],
   "source": [
    "###################################################################################################\n",
    "###################################################################################################\n",
    "###################################################################################################\n",
    "###################################################################################################\n",
    "###################################################################################################\n",
    "###################################################################################################\n",
    "###################################################################################################\n"
   ]
  },
  {
   "cell_type": "code",
   "execution_count": 101,
   "id": "58fac0bf",
   "metadata": {},
   "outputs": [],
   "source": [
    "ccsdata = {\n",
    "        \"valuationDate\": \"2021-01-28\",\n",
    "        \"settlementDate\": \"2021-03-12\",\n",
    "        \"maturityDate\": \"2026-03-12\",\n",
    "        \"startDate\": \"2021-03-12\",\n",
    "        \"spotPrice\": 1.2121,\n",
    "        \"leg1\": leg1Definition,\n",
    "        \"leg2\": leg2Definition,\n",
    "        \"leg1DiscountCurve\": leg1yieldcurveconfig,\n",
    "        \"leg2DiscountCurve\": leg2yieldcurveconfig,\n",
    "         \"yieldData\": yielddata.to_dict('r')\n",
    "       }\n",
    "try:\n",
    "    data = api.createTask(CalculationType.CROSS_CURRENCY, ccsdata, True)\n",
    "    result=json.loads(data[\"result\"])\n",
    "except RhoovaError as e:\n",
    "    e.printPretty()"
   ]
  },
  {
   "cell_type": "code",
   "execution_count": 102,
   "id": "a8a1f73d",
   "metadata": {},
   "outputs": [
    {
     "name": "stdout",
     "output_type": "stream",
     "text": [
      "+--------------------+--------------+\n",
      "|         Parameters |        Value |\n",
      "+--------------------+--------------+\n",
      "|       Fixed Leg PV | 1025135.4045 |\n",
      "|       Float Leg PV | -838326.0080 |\n",
      "|           Leg1 BPS |     494.0106 |\n",
      "|           Leg2 BPS |    -420.4330 |\n",
      "|      Base Currency |          EUR |\n",
      "|   Base Currency PV |    7425.5020 |\n",
      "|    Quoted Currency |          USD |\n",
      "| Quoted Currency PV |    9000.4502 |\n",
      "|          Spot Rate |       1.2121 |\n",
      "+--------------------+--------------+\n"
     ]
    }
   ],
   "source": [
    "npvTable = pt.PrettyTable(['Parameters', 'Value'])\n",
    "npvTable.add_row(['Fixed Leg PV', result.get('leg1Pv')])\n",
    "npvTable.add_row(['Float Leg PV', result.get('leg2Pv')])\n",
    "npvTable.add_row(['Leg1 BPS', result.get('leg1Bps')])\n",
    "npvTable.add_row(['Leg2 BPS', result.get('leg2Bps')])\n",
    "npvTable.add_row(['Base Currency', result.get('baseCurrency')])\n",
    "npvTable.add_row(['Base Currency PV', result.get('baseCurrencyResult')])\n",
    "npvTable.add_row(['Quoted Currency', result.get('quotedCurrency')])\n",
    "npvTable.add_row(['Quoted Currency PV', result.get('quotedCurrencyResult')])\n",
    "npvTable.add_row(['Spot Rate', result.get('spotRate')])\n",
    "npvTable.align = 'r'\n",
    "npvTable.float_format = '.4'\n",
    "print(npvTable)"
   ]
  },
  {
   "cell_type": "code",
   "execution_count": 103,
   "id": "75083940",
   "metadata": {},
   "outputs": [],
   "source": [
    "historicalvalues=[]\n",
    "historicaldates=[]\n",
    "for index, row in lastdf.iterrows():\n",
    "    \n",
    "    mdata=marketdata[marketdata[\"isinCode\"]==\"EUR\"]\n",
    "    mdata1=mdata[mdata[\"currency\"]==\"USD\"]\n",
    "    mdata2=mdata1[mdata1[\"valuationDate\"]==index]\n",
    "    spot=list(mdata2[\"value\"].values)[0]\n",
    "    #print(spot)\n",
    "    y_data=yielddata[yielddata['valuationDate']==index]\n",
    "    y_data['valuationDate']='2021-01-28'\n",
    "    ccsdata['yieldData']=json.loads(y_data.to_json(orient='records'))\n",
    "    ccsdata['spotPrice']= spot\n",
    "    try:\n",
    "        resultdata = api.createTask(CalculationType.CROSS_CURRENCY, ccsdata,True)\n",
    "        resulttmp=json.loads(resultdata[\"result\"])\n",
    "    except RhoovaError as e:\n",
    "        e.printPretty()\n",
    "    historicaldates.append(index)    \n",
    "    historicalvalues.append(resulttmp.get('quotedCurrencyResult'))\n",
    "    #print(index)\n",
    "    #print(resulttmp.get('quotedCurrencyResult'))"
   ]
  },
  {
   "cell_type": "code",
   "execution_count": 104,
   "id": "61d472f2",
   "metadata": {},
   "outputs": [],
   "source": [
    "confidenceInterval= 0.99\n",
    "valueatrisk=result.get('quotedCurrencyResult')-np.percentile(historicalvalues[:-1],100*(1-confidenceInterval))"
   ]
  },
  {
   "cell_type": "code",
   "execution_count": 105,
   "id": "7489254d",
   "metadata": {},
   "outputs": [
    {
     "name": "stdout",
     "output_type": "stream",
     "text": [
      "+------------+------------+\n",
      "| Parameters |      Value |\n",
      "+------------+------------+\n",
      "|         PV |  9000.4502 |\n",
      "|        VAR | 14541.8384 |\n",
      "| VAR/PV (%) |   161.5679 |\n",
      "+------------+------------+\n"
     ]
    }
   ],
   "source": [
    "npvTable = pt.PrettyTable(['Parameters', 'Value'])\n",
    "npvTable.add_row(['PV', result.get('quotedCurrencyResult')])\n",
    "npvTable.add_row(['VAR', valueatrisk])\n",
    "npvTable.add_row(['VAR/PV (%)', 100*valueatrisk/abs(result.get('quotedCurrencyResult'))])\n",
    "npvTable.align = 'r'\n",
    "npvTable.float_format = '.4'\n",
    "print(npvTable)\n"
   ]
  },
  {
   "cell_type": "code",
   "execution_count": 31,
   "id": "886ca018",
   "metadata": {},
   "outputs": [],
   "source": [
    "###################################################################################################\n",
    "###################################################################################################\n",
    "###################################################################################################\n",
    "###################################################################################################\n",
    "###################################################################################################\n",
    "###################################################################################################\n",
    "###################################################################################################\n",
    "###################################################################################################\n",
    "###################################################################################################\n"
   ]
  },
  {
   "cell_type": "code",
   "execution_count": 32,
   "id": "25682599",
   "metadata": {},
   "outputs": [],
   "source": [
    "datelist=['2021-02-01','2021-02-02','2021-02-08','2021-02-15','2021-02-22','2021-03-01','2021-04-01','2021-05-03',\n",
    "          '2021-08-02','2021-11-01','2022-02-01','2023-02-01','2024-02-01','2025-02-03','2026-02-02','2027-02-01',\n",
    "          '2028-02-01','2029-02-01','2030-02-01','2031-02-03','2033-02-01','2036-02-01','2041-02-01','2046-02-01',\n",
    "          '2051-02-01','2061-02-01','2071-02-02']"
   ]
  },
  {
   "cell_type": "code",
   "execution_count": 33,
   "id": "35729b6c",
   "metadata": {},
   "outputs": [
    {
     "data": {
      "text/plain": [
       "{'USDZCS0D': '2021-02-01',\n",
       " 'USDZCS1D': '2021-02-02',\n",
       " 'USDZCS1W': '2021-02-08',\n",
       " 'USDZCS2W': '2021-02-15',\n",
       " 'USDZCS3W': '2021-02-22',\n",
       " 'USDZCS1M': '2021-03-01',\n",
       " 'USDZCS2M': '2021-04-01',\n",
       " 'USDZCS3M': '2021-05-03',\n",
       " 'USDZCS6M': '2021-08-02',\n",
       " 'USDZCS9M': '2021-11-01',\n",
       " 'USDZCS1Y': '2022-02-01',\n",
       " 'USDZCS2Y': '2023-02-01',\n",
       " 'USDZCS3Y': '2024-02-01',\n",
       " 'USDZCS4Y': '2025-02-03',\n",
       " 'USDZCS5Y': '2026-02-02',\n",
       " 'USDZCS6Y': '2027-02-01',\n",
       " 'USDZCS7Y': '2028-02-01',\n",
       " 'USDZCS8Y': '2029-02-01',\n",
       " 'USDZCS9Y': '2030-02-01',\n",
       " 'USDZCS10Y': '2031-02-03',\n",
       " 'USDZCS12Y': '2033-02-01',\n",
       " 'USDZCS15Y': '2036-02-01',\n",
       " 'USDZCS20Y': '2041-02-01',\n",
       " 'USDZCS25Y': '2046-02-01',\n",
       " 'USDZCS30Y': '2051-02-01',\n",
       " 'USDZCS40Y': '2061-02-01',\n",
       " 'USDZCS50Y': '2071-02-02'}"
      ]
     },
     "execution_count": 33,
     "metadata": {},
     "output_type": "execute_result"
    }
   ],
   "source": [
    "rf=dict(zip(lastdf.columns, datelist))\n",
    "rf"
   ]
  },
  {
   "cell_type": "code",
   "execution_count": 34,
   "id": "14a053ba",
   "metadata": {},
   "outputs": [],
   "source": [
    "yielddata_lst=[]\n",
    "for index, row in lastdf.iterrows():\n",
    "    for key,val in row.items():\n",
    "        yielddata_dict={}\n",
    "        yielddata_dict[\"valuationDate\"]=index\n",
    "        yielddata_dict[\"maturityDate\"]=rf[key]\n",
    "        yielddata_dict[\"value\"]=val\n",
    "        yielddata_dict[\"instrument\"]=\"USDZeroRates\"\n",
    "        yielddata_dict[\"currency\"]=\"USD\"\n",
    "        yielddata_dict[\"settlementDate\"]=\"\"\n",
    "        yielddata_dict[\"period\"]=\"6M\"\n",
    "        yielddata_dict[\"tenor\"]=\"\"\n",
    "        yielddata_lst.append(yielddata_dict)"
   ]
  },
  {
   "cell_type": "code",
   "execution_count": 35,
   "id": "85cc1fc1",
   "metadata": {},
   "outputs": [],
   "source": [
    "# Fix parameters for building yield curve\n",
    "yieldcurveconfig2={\n",
    "        \"name\": \"USDZCS\",\n",
    "        \"settlementDays\": 2,\n",
    "        \"intpMethod\": \"LINEAR\",\n",
    "        \"currency\": \"USD\",\n",
    "        \"calendar\": \"Turkey\",\n",
    "        \"dayCounter\": \"Actual360\",\n",
    "        \"zeroRates\": \"USDZeroRates\",\n",
    "        \"period\":\"6M\"\n",
    "    }"
   ]
  },
  {
   "cell_type": "code",
   "execution_count": 36,
   "id": "f47655cf",
   "metadata": {},
   "outputs": [],
   "source": [
    "ccsdata = {\n",
    "        \"valuationDate\": \"2021-01-28\",\n",
    "        \"settlementDate\": \"2021-03-12\",\n",
    "        \"maturityDate\": \"2026-03-12\",\n",
    "        \"startDate\": \"2021-03-12\",\n",
    "        \"spotPrice\": 1.2121,\n",
    "        \"leg1\": leg1Definition,\n",
    "        \"leg2\": leg2Definition,\n",
    "        \"leg1DiscountCurve\": yieldcurveconfig2,\n",
    "        \"leg2DiscountCurve\": yieldcurveconfig2,\n",
    "         \"yieldData\": yielddata_lst\n",
    "       }\n",
    "try:\n",
    "    data = api.createTask(CalculationType.CROSS_CURRENCY, ccsdata, True)\n",
    "    result=json.loads(data[\"result\"])\n",
    "except RhoovaError as e:\n",
    "    e.printPretty()"
   ]
  },
  {
   "cell_type": "code",
   "execution_count": 37,
   "id": "5512d1e6",
   "metadata": {},
   "outputs": [
    {
     "name": "stdout",
     "output_type": "stream",
     "text": [
      "+--------------------+--------------+\n",
      "|         Parameters |        Value |\n",
      "+--------------------+--------------+\n",
      "|       Fixed Leg PV | 1025135.2765 |\n",
      "|       Float Leg PV | -838319.7801 |\n",
      "|           Leg1 BPS |     494.0129 |\n",
      "|           Leg2 BPS |    -420.4348 |\n",
      "|      Base Currency |          EUR |\n",
      "|   Base Currency PV |    7431.6199 |\n",
      "|    Quoted Currency |          USD |\n",
      "| Quoted Currency PV |    9007.8710 |\n",
      "|          Spot Rate |       1.2121 |\n",
      "+--------------------+--------------+\n"
     ]
    }
   ],
   "source": [
    "npvTable = pt.PrettyTable(['Parameters', 'Value'])\n",
    "npvTable.add_row(['Fixed Leg PV', result.get('leg1Pv')])\n",
    "npvTable.add_row(['Float Leg PV', result.get('leg2Pv')])\n",
    "npvTable.add_row(['Leg1 BPS', result.get('leg1Bps')])\n",
    "npvTable.add_row(['Leg2 BPS', result.get('leg2Bps')])\n",
    "npvTable.add_row(['Base Currency', result.get('baseCurrency')])\n",
    "npvTable.add_row(['Base Currency PV', result.get('baseCurrencyResult')])\n",
    "npvTable.add_row(['Quoted Currency', result.get('quotedCurrency')])\n",
    "npvTable.add_row(['Quoted Currency PV', result.get('quotedCurrencyResult')])\n",
    "npvTable.add_row(['Spot Rate', result.get('spotRate')])\n",
    "npvTable.align = 'r'\n",
    "npvTable.float_format = '.4'\n",
    "print(npvTable)"
   ]
  },
  {
   "cell_type": "code",
   "execution_count": 38,
   "id": "7cb4dbe2",
   "metadata": {},
   "outputs": [],
   "source": [
    "historicalvalues2=[]\n",
    "historicaldates2=[]\n",
    "yielddata_lst_df=pd.DataFrame(yielddata_lst)\n",
    "for index, row in lastdf.iterrows():\n",
    "    \n",
    "    mdata=marketdata[marketdata[\"isinCode\"]==\"EUR\"]\n",
    "    mdata1=mdata[mdata[\"currency\"]==\"USD\"]\n",
    "    mdata2=mdata1[mdata1[\"valuationDate\"]==index]\n",
    "    spot=list(mdata2[\"value\"].values)[0]\n",
    "    \n",
    "    y_data=yielddata_lst_df[yielddata_lst_df['valuationDate']==index]\n",
    "    y_data['valuationDate']='2021-01-28'\n",
    "    ccsdata['yieldData']=json.loads(y_data.to_json(orient='records'))\n",
    "    ccsdata['spotPrice']= spot\n",
    "    try:\n",
    "        resultdata = api.createTask(CalculationType.CROSS_CURRENCY, ccsdata,True)\n",
    "        resulttmp=json.loads(resultdata[\"result\"])\n",
    "    except RhoovaError as e:\n",
    "        e.printPretty()\n",
    "    historicaldates2.append(index)    \n",
    "    historicalvalues2.append(resulttmp.get('quotedCurrencyResult'))\n",
    "    #print(index,resulttmp.get('quotedCurrencyResult'))    \n"
   ]
  },
  {
   "cell_type": "code",
   "execution_count": 39,
   "id": "8d589117",
   "metadata": {},
   "outputs": [],
   "source": [
    "confidenceInterval= 0.99\n",
    "valueatrisk=result.get('quotedCurrencyResult')-np.percentile(historicalvalues[:-1],100*(1-confidenceInterval))"
   ]
  },
  {
   "cell_type": "code",
   "execution_count": 40,
   "id": "a48c1b21",
   "metadata": {},
   "outputs": [
    {
     "name": "stdout",
     "output_type": "stream",
     "text": [
      "+------------+------------+\n",
      "| Parameters |      Value |\n",
      "+------------+------------+\n",
      "|         PV |  9007.8710 |\n",
      "|        VAR | 14549.2591 |\n",
      "| VAR/PV (%) |   161.5172 |\n",
      "+------------+------------+\n"
     ]
    }
   ],
   "source": [
    "npvTable = pt.PrettyTable(['Parameters', 'Value'])\n",
    "npvTable.add_row(['PV', result.get('quotedCurrencyResult')])\n",
    "npvTable.add_row(['VAR', valueatrisk])\n",
    "npvTable.add_row(['VAR/PV (%)', 100*valueatrisk/abs(result.get('quotedCurrencyResult'))])\n",
    "npvTable.align = 'r'\n",
    "npvTable.float_format = '.4'\n",
    "print(npvTable)\n"
   ]
  },
  {
   "cell_type": "code",
   "execution_count": 106,
   "id": "16e65303",
   "metadata": {},
   "outputs": [
    {
     "data": {
      "image/png": "[encoded data removed]",
      "text/plain": [
       "<Figure size 1080x648 with 1 Axes>"
      ]
     },
     "metadata": {
      "needs_background": "light"
     },
     "output_type": "display_data"
    }
   ],
   "source": [
    "converted_dates = list(map(datetime.datetime.strptime, historicaldates, len(historicaldates)*['%Y-%m-%d']))\n",
    "plt.figure(figsize=(15,9))\n",
    "plt.gca().xaxis.set_major_formatter(mdates.DateFormatter('%Y-%m-%d'))\n",
    "plt.gca().xaxis.set_major_locator(mdates.DayLocator(interval=15))\n",
    "plt.gcf().autofmt_xdate()\n",
    "plt.plot(converted_dates[:-1], historicalvalues[:-1], label=\"historicalvalues\")\n",
    "plt.plot(converted_dates[:-1], historicalvalues2[:-1], label=\"historicalvalues2\")\n",
    "plt.plot(converted_dates[:-1], portfoliohistoricalvalues, label=\"portfoliohistoricalvalues\")\n",
    "plt.legend([\"Historical Values with Yields\", \"Historical Values with Zero Rates\",\"Historical Values from VaR Result\"], loc =\"lower left\")\n",
    "plt.title(\"CCS Historical Values\")\n",
    "plt.show()"
   ]
  },
  {
   "cell_type": "code",
   "execution_count": null,
   "id": "9c97d426",
   "metadata": {},
   "outputs": [],
   "source": []
  }
 ],
 "metadata": {
  "kernelspec": {
   "display_name": "Python 3 (ipykernel)",
   "language": "python",
   "name": "python3"
  },
  "language_info": {
   "codemirror_mode": {
    "name": "ipython",
    "version": 3
   },
   "file_extension": ".py",
   "mimetype": "text/x-python",
   "name": "python",
   "nbconvert_exporter": "python",
   "pygments_lexer": "ipython3",
   "version": "3.9.16"
  }
 },
 "nbformat": 4,
 "nbformat_minor": 5
}
