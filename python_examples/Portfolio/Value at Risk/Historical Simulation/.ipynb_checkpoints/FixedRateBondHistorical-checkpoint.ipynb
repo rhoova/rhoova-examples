{
 "cells": [
  {
   "cell_type": "code",
   "execution_count": 11,
   "id": "1e69f7a5",
   "metadata": {},
   "outputs": [],
   "source": [
    "import json\n",
    "import os\n",
    "import pandas as pd\n",
    "import numpy as np\n",
    "import prettytable as pt\n",
    "import matplotlib.pyplot as plt\n",
    "import matplotlib.dates as mdates\n",
    "from matplotlib import dates\n",
    "import datetime\n",
    "import warnings\n",
    "warnings.filterwarnings(\"ignore\")\n",
    "\n",
    "\n",
    "###################################################################################################\n",
    "                                                                                                  #\n",
    "from rhoova.Client import *                                                                       #   \n",
    "#Register and get api key from https://app.rhoova.com/ for ClientConfig(\"api key\", \"api secret\")  #\n",
    "config = ClientConfig(\"DReGKkbwTcn0h-Q7NbAav\", \"_G8PORtZLrkzC548IJt926r9cQRAv0jr\")                                                                     #\n",
    "api = Api(config)                                                                                 # \n",
    "                                                                                                  #\n",
    "###################################################################################################\n",
    "\n",
    "\n",
    "\n",
    "directory = os.path.normpath(os.getcwd() + os.sep + os.pardir + os.sep + os.pardir)\n",
    "datadirectory=directory+\"/data/yielddata.csv\"\n",
    "\n",
    "yielddata = pd.read_csv(datadirectory)\n",
    "yielddata = yielddata.replace(np.nan, '', regex=True) \n",
    "\n",
    "mdirectory = os.path.normpath(os.getcwd() + os.sep + os.pardir + os.sep + os.pardir)\n",
    "mdatadirectory=mdirectory+\"/data/marketdata.csv\"\n",
    "\n",
    "marketdata = pd.read_csv(mdatadirectory)\n",
    "marketdata = marketdata.replace(np.nan, '', regex=True) \n"
   ]
  },
  {
   "cell_type": "code",
   "execution_count": 12,
   "id": "c6e0ad77",
   "metadata": {},
   "outputs": [
    {
     "data": {
      "text/plain": [
       "{'issueDate': '2015-03-15',\n",
       " 'maturityDate': '2026-06-04',\n",
       " 'frequency': 'Semiannual',\n",
       " 'coupon': 0.085,\n",
       " 'calendar': 'Turkey',\n",
       " 'currency': 'TRY',\n",
       " 'dateGeneration': 'Backward',\n",
       " 'dayCounter': 'Actual360',\n",
       " 'businessDayConvention': 'ModifiedFollowing',\n",
       " 'maturityDateConvention': 'ModifiedFollowing',\n",
       " 'redemption': 100,\n",
       " 'endOfMonth': True}"
      ]
     },
     "execution_count": 12,
     "metadata": {},
     "output_type": "execute_result"
    }
   ],
   "source": [
    "fixedRateBondDefinition={}\n",
    "fixedRateBondDefinition[\"issueDate\"]=\"2015-03-15\"\n",
    "fixedRateBondDefinition[\"maturityDate\"]=\"2026-06-04\"\n",
    "fixedRateBondDefinition[\"frequency\"]=\"Semiannual\"\n",
    "fixedRateBondDefinition[\"coupon\"]=0.085\n",
    "fixedRateBondDefinition[\"calendar\"]=\"Turkey\"\n",
    "fixedRateBondDefinition[\"currency\"]=\"TRY\"\n",
    "fixedRateBondDefinition[\"dateGeneration\"]=\"Backward\"\n",
    "fixedRateBondDefinition[\"dayCounter\"]=\"Actual360\"\n",
    "fixedRateBondDefinition[\"businessDayConvention\"]=\"ModifiedFollowing\"\n",
    "fixedRateBondDefinition[\"maturityDateConvention\"]=\"ModifiedFollowing\"\n",
    "fixedRateBondDefinition[\"redemption\"]=100\n",
    "fixedRateBondDefinition[\"endOfMonth\"]=True\n",
    "fixedRateBondDefinition"
   ]
  },
  {
   "cell_type": "code",
   "execution_count": 13,
   "id": "84a5b590",
   "metadata": {},
   "outputs": [
    {
     "data": {
      "text/plain": [
       "{'DEPO': {'businessDayConvention': 'Following', 'dayCounter': 'Actual360'},\n",
       " 'IRS': {'businessDayConvention': 'Following',\n",
       "  'dayCounter': 'Actual360',\n",
       "  'frequency': 'Semiannual'}}"
      ]
     },
     "execution_count": 13,
     "metadata": {},
     "output_type": "execute_result"
    }
   ],
   "source": [
    "instruments={}\n",
    "depo={}\n",
    "irs={}\n",
    "\n",
    "depo[\"businessDayConvention\"]=\"Following\"     # if it is null, default value is used\n",
    "depo[\"dayCounter\"]=\"Actual360\"                # if it is null, default value is used\n",
    "\n",
    "irs[\"businessDayConvention\"]=\"Following\"      # if it is null, default value is used \n",
    "irs[\"dayCounter\"]=\"Actual360\"                 # if it is null, default value is used \n",
    "irs[\"frequency\"]=\"Semiannual\"               \n",
    "\n",
    "instruments[\"DEPO\"]=depo\n",
    "instruments[\"IRS\"]=irs\n",
    "\n",
    "instruments"
   ]
  },
  {
   "cell_type": "code",
   "execution_count": 14,
   "id": "77d0baf6",
   "metadata": {},
   "outputs": [
    {
     "data": {
      "text/plain": [
       "{'name': 'TRYZC',\n",
       " 'settlementDays': 2,\n",
       " 'intpMethod': 'LINEAR',\n",
       " 'currency': 'TRY',\n",
       " 'calendar': 'Turkey',\n",
       " 'dayCounter': 'Actual360',\n",
       " 'period': '6M',\n",
       " 'instruments': {'DEPO': {'businessDayConvention': 'Following',\n",
       "   'dayCounter': 'Actual360'},\n",
       "  'IRS': {'businessDayConvention': 'Following',\n",
       "   'dayCounter': 'Actual360',\n",
       "   'frequency': 'Semiannual'}}}"
      ]
     },
     "execution_count": 14,
     "metadata": {},
     "output_type": "execute_result"
    }
   ],
   "source": [
    "# Fix parameters for building yield curve\n",
    "yieldcurveconfig={\n",
    "      \"name\": \"TRYZC\",\n",
    "      \"settlementDays\": 2,\n",
    "      \"intpMethod\": \"LINEAR\",\n",
    "      \"currency\": \"TRY\",\n",
    "      \"calendar\": \"Turkey\",\n",
    "      \"dayCounter\": \"Actual360\",\n",
    "      \"period\": \"6M\",\n",
    "      \"instruments\": instruments\n",
    "\n",
    "    }\n",
    "yieldcurveconfig"
   ]
  },
  {
   "cell_type": "code",
   "execution_count": 15,
   "id": "f0fac96c",
   "metadata": {},
   "outputs": [],
   "source": [
    "riskdata = {\n",
    "  \"id\": \"PORTFOLIO1\",\n",
    "  \"name\": \"PORTFOLIO 1\",\n",
    "  \"method\": \"VaR\",\n",
    "  \"forRisk\": True,\n",
    "  \"valuationDate\": \"2021-01-28\",\n",
    "  \"valuationCurrency\": \"TRY\",\n",
    "  \"riskMethod\": \"HISTORICAL\",\n",
    "  \"horizon\": 252,\n",
    "  \"confidenceInterval\": 0.99,\n",
    "  \"returnType\": None,\n",
    "  \"trend\": False,\n",
    "  \"calendar\": \"Turkey\",\n",
    "  \"timeBucket\": [\"0D\",\"1D\",\"1W\",\"2W\",\"3W\",\"1M\",\"2M\",\"3M\",\"6M\",\"9M\",\"1Y\",\"2Y\",\"3Y\",\"4Y\",\n",
    "                \"5Y\",\"6Y\",\"7Y\",\"8Y\",\"9Y\",\"10Y\",\"12Y\",\"15Y\",\"20Y\",\"25Y\",\"30Y\",\"40Y\",\"50Y\"],\n",
    "  \"fillNa\": \"BACKWARD\",\n",
    "  \"maxFillNaDays\": 5,\n",
    "  \"tasks\": [\n",
    "    {\n",
    "      \"trade_id\": \"FRB1000\",\n",
    "      \"calculation_type\": \"fixed_rate_bond\",\n",
    "      \"notional\": 1000000,\n",
    "      \"settlementDate\": \"2021-02-01\",\n",
    "      \"buySell\": \"Sell\",\n",
    "      \"discountCurve\": \"TRYZC\",\n",
    "      \"fixedRateBondDefinition\": fixedRateBondDefinition\n",
    "    },\n",
    "  ],\n",
    "  \"curves\": [yieldcurveconfig],\n",
    "  \"yieldData\": yielddata.to_dict('r'),\n",
    "  \"marketData\":marketdata.to_dict('r'),\n",
    "}"
   ]
  },
  {
   "cell_type": "code",
   "execution_count": 16,
   "id": "23b47392",
   "metadata": {},
   "outputs": [],
   "source": [
    "try:\n",
    "    res = api.createTask(CalculationType.PORTFOLIO, riskdata, True)\n",
    "    if(res[\"result\"]):\n",
    "      result=json.loads(res[\"result\"])\n",
    "    else:\n",
    "      print(res[\"result\"])\n",
    "except RhoovaError as e:\n",
    "    e.printPretty()"
   ]
  },
  {
   "cell_type": "code",
   "execution_count": 17,
   "id": "ac8a8067",
   "metadata": {},
   "outputs": [
    {
     "name": "stdout",
     "output_type": "stream",
     "text": [
      "+------------+---------------+\n",
      "| Parameters |         Value |\n",
      "+------------+---------------+\n",
      "|         PV | -1439540.9774 |\n",
      "|        VAR |    16051.3818 |\n",
      "| VAR/PV (%) |        1.1150 |\n",
      "+------------+---------------+\n"
     ]
    }
   ],
   "source": [
    "npvTable = pt.PrettyTable(['Parameters', 'Value'])\n",
    "npvTable.add_row(['PV', result.get('pv')])\n",
    "npvTable.add_row(['VAR', result.get('VaR')])\n",
    "npvTable.add_row(['VAR/PV (%)', result.get('var/pv')])\n",
    "npvTable.align = 'r'\n",
    "npvTable.float_format = '.4'\n",
    "print(npvTable)\n"
   ]
  },
  {
   "cell_type": "code",
   "execution_count": 18,
   "id": "948c16e9",
   "metadata": {},
   "outputs": [
    {
     "data": {
      "text/plain": [
       "{'2021-01-28': -1439540.9773933776,\n",
       " '2021-01-27': -1439203.0977876761,\n",
       " '2021-01-26': -1439589.057571205,\n",
       " '2021-01-25': -1438071.4772126265,\n",
       " '2021-01-22': -1438021.6892381518,\n",
       " '2021-01-21': -1438409.6666732237,\n",
       " '2021-01-20': -1438536.3856698896,\n",
       " '2021-01-19': -1437922.7237372224,\n",
       " '2021-01-18': -1437913.76109237,\n",
       " '2021-01-15': -1436342.3985956055,\n",
       " '2021-01-14': -1436788.5274194176,\n",
       " '2021-01-13': -1434934.9620561942,\n",
       " '2021-01-12': -1435540.5150992707,\n",
       " '2021-01-11': -1436425.4665011105,\n",
       " '2021-01-08': -1438507.0374453417,\n",
       " '2021-01-07': -1441061.455889466,\n",
       " '2021-01-06': -1443951.8670564238,\n",
       " '2021-01-05': -1445127.572847847,\n",
       " '2021-01-04': -1444169.3076008935,\n",
       " '2020-12-31': -1443861.6897094257,\n",
       " '2020-12-30': -1443329.8287942824,\n",
       " '2020-12-29': -1443708.8774169518,\n",
       " '2020-12-28': -1443798.2468016236,\n",
       " '2020-12-25': -1443798.2726508926,\n",
       " '2020-12-24': -1443311.8690033902,\n",
       " '2020-12-23': -1444029.8550896063,\n",
       " '2020-12-22': -1443312.4393660394,\n",
       " '2020-12-21': -1443379.8805487906,\n",
       " '2020-12-18': -1443610.119093971,\n",
       " '2020-12-17': -1444168.5801273491,\n",
       " '2020-12-16': -1444558.1117928005,\n",
       " '2020-12-15': -1444983.263026257,\n",
       " '2020-12-14': -1445322.6675043006,\n",
       " '2020-12-11': -1443741.292314522,\n",
       " '2020-12-10': -1442312.7231130374,\n",
       " '2020-12-09': -1443074.1877773935,\n",
       " '2020-12-08': -1442901.0494418927,\n",
       " '2020-12-07': -1441149.4088703943,\n",
       " '2020-12-04': -1443116.3911307927,\n",
       " '2020-12-03': -1442155.4654533141,\n",
       " '2020-12-02': -1442528.4927831604,\n",
       " '2020-12-01': -1444554.0435147402,\n",
       " '2020-11-30': -1444330.7079683705,\n",
       " '2020-11-27': -1442903.8981778007,\n",
       " '2020-11-26': -1442931.141509148,\n",
       " '2020-11-25': -1442644.933334059,\n",
       " '2020-11-24': -1443278.4039578103,\n",
       " '2020-11-23': -1444061.041710644,\n",
       " '2020-11-20': -1443389.1677046977,\n",
       " '2020-11-19': -1442904.928932432,\n",
       " '2020-11-18': -1443422.8164026681,\n",
       " '2020-11-17': -1441883.4451995008,\n",
       " '2020-11-16': -1442241.5094353352,\n",
       " '2020-11-13': -1442935.4439137194,\n",
       " '2020-11-12': -1439505.1865855835,\n",
       " '2020-11-11': -1439509.377453926,\n",
       " '2020-11-10': -1440952.0736900945,\n",
       " '2020-11-09': -1444987.34952629,\n",
       " '2020-11-06': -1446770.6493206327,\n",
       " '2020-11-05': -1447089.3765848787,\n",
       " '2020-11-04': -1443225.438622852,\n",
       " '2020-11-03': -1444038.4436593154,\n",
       " '2020-11-02': -1443311.1465250768,\n",
       " '2020-10-30': -1444322.610112593,\n",
       " '2020-10-28': -1446501.5272401492,\n",
       " '2020-10-27': -1445236.4573269528,\n",
       " '2020-10-26': -1443944.6772598433,\n",
       " '2020-10-23': -1443215.0500716674,\n",
       " '2020-10-22': -1444976.7371167513,\n",
       " '2020-10-21': -1445457.7818725668,\n",
       " '2020-10-20': -1446131.8493013754,\n",
       " '2020-10-19': -1447067.2675963866,\n",
       " '2020-10-16': -1447407.7776601706,\n",
       " '2020-10-15': -1448001.9651665054,\n",
       " '2020-10-14': -1447769.999227879,\n",
       " '2020-10-13': -1445996.838826508,\n",
       " '2020-10-12': -1445996.9634741764,\n",
       " '2020-10-09': -1446402.2354588362,\n",
       " '2020-10-08': -1445779.7641269157,\n",
       " '2020-10-07': -1447465.2422942603,\n",
       " '2020-10-06': -1446561.0591780269,\n",
       " '2020-10-05': -1449685.1915108177,\n",
       " '2020-10-02': -1450238.8157959618,\n",
       " '2020-10-01': -1450113.130568692,\n",
       " '2020-09-30': -1451212.7594041824,\n",
       " '2020-09-29': -1450846.7051111688,\n",
       " '2020-09-28': -1450994.8783464995,\n",
       " '2020-09-25': -1450671.1766211614,\n",
       " '2020-09-24': -1451101.8226275179,\n",
       " '2020-09-23': -1451325.7367936512,\n",
       " '2020-09-22': -1451139.5437504132,\n",
       " '2020-09-21': -1450595.61760085,\n",
       " '2020-09-18': -1451100.642997318,\n",
       " '2020-09-17': -1451233.2132572813,\n",
       " '2020-09-16': -1451152.0809187323,\n",
       " '2020-09-15': -1451579.0925564189,\n",
       " '2020-09-14': -1452180.3459935193,\n",
       " '2020-09-11': -1451110.3056895698,\n",
       " '2020-09-10': -1450920.1409502476,\n",
       " '2020-09-09': -1450787.76723645,\n",
       " '2020-09-08': -1449088.7819807695,\n",
       " '2020-09-07': -1449088.3491262652,\n",
       " '2020-09-04': -1452007.5311334205,\n",
       " '2020-09-03': -1451581.7832690794,\n",
       " '2020-09-02': -1451739.672932363,\n",
       " '2020-09-01': -1450697.684801971,\n",
       " '2020-08-31': -1450205.8497618877,\n",
       " '2020-08-28': -1448786.3850158544,\n",
       " '2020-08-27': -1450148.30413739,\n",
       " '2020-08-26': -1450487.258227849,\n",
       " '2020-08-25': -1451620.1608283408,\n",
       " '2020-08-24': -1451981.082505304,\n",
       " '2020-08-21': -1452027.6917927323,\n",
       " '2020-08-20': -1451203.7307395502,\n",
       " '2020-08-19': -1451516.8119874839,\n",
       " '2020-08-18': -1450533.8964006242,\n",
       " '2020-08-17': -1449288.9986847548,\n",
       " '2020-08-14': -1449068.560667411,\n",
       " '2020-08-13': -1450114.214714632,\n",
       " '2020-08-12': -1451645.6553772842,\n",
       " '2020-08-11': -1453178.2552099407,\n",
       " '2020-08-10': -1453873.1168047346,\n",
       " '2020-08-07': -1455426.6509637993,\n",
       " '2020-08-06': -1455231.336677536,\n",
       " '2020-08-05': -1457228.480850213,\n",
       " '2020-08-04': -1455764.8311236314,\n",
       " '2020-08-03': -1455883.2297635525,\n",
       " '2020-07-29': -1453271.108571839,\n",
       " '2020-07-28': -1451950.0933637936,\n",
       " '2020-07-27': -1453010.784804142,\n",
       " '2020-07-24': -1453003.3322897865,\n",
       " '2020-07-23': -1452728.448088409,\n",
       " '2020-07-22': -1452756.9339330345,\n",
       " '2020-07-21': -1452165.685807922,\n",
       " '2020-07-20': -1451964.0712964614,\n",
       " '2020-07-17': -1451965.5503163126,\n",
       " '2020-07-16': -1451532.6413862181,\n",
       " '2020-07-14': -1451679.5745297899,\n",
       " '2020-07-13': -1451008.1849485054,\n",
       " '2020-07-10': -1452509.9089344454,\n",
       " '2020-07-09': -1451630.017840192,\n",
       " '2020-07-08': -1452336.2569371015,\n",
       " '2020-07-07': -1450562.4526128166,\n",
       " '2020-07-06': -1451009.121615789,\n",
       " '2020-07-03': -1450982.653893603,\n",
       " '2020-07-02': -1450206.9050175974,\n",
       " '2020-07-01': -1451356.8303747773,\n",
       " '2020-06-30': -1451920.863704276,\n",
       " '2020-06-29': -1450704.260210842,\n",
       " '2020-06-26': -1448757.4788366808,\n",
       " '2020-06-25': -1449039.6125752195,\n",
       " '2020-06-24': -1448558.7822026494,\n",
       " '2020-06-23': -1448498.222774223,\n",
       " '2020-06-22': -1448748.9084282226,\n",
       " '2020-06-19': -1448498.5667931717,\n",
       " '2020-06-18': -1447884.7377085153,\n",
       " '2020-06-17': -1447070.5127836308,\n",
       " '2020-06-16': -1447648.2979808673,\n",
       " '2020-06-15': -1447899.3020934314,\n",
       " '2020-06-12': -1448750.597183593,\n",
       " '2020-06-11': -1447565.5826946842,\n",
       " '2020-06-10': -1443459.2607284677,\n",
       " '2020-06-09': -1440605.608973446,\n",
       " '2020-06-08': -1439732.201278423,\n",
       " '2020-06-05': -1443638.9767541029,\n",
       " '2020-06-04': -1445908.6507939391,\n",
       " '2020-06-03': -1448740.958294874,\n",
       " '2020-06-02': -1449337.0599858984,\n",
       " '2020-06-01': -1449406.4400802725,\n",
       " '2020-05-29': -1447439.7170211452,\n",
       " '2020-05-28': -1447795.3554679407,\n",
       " '2020-05-27': -1448220.7278433656,\n",
       " '2020-05-22': -1448295.0769416553,\n",
       " '2020-05-21': -1448155.4362312008,\n",
       " '2020-05-20': -1448194.9946097462,\n",
       " '2020-05-18': -1450100.982213858,\n",
       " '2020-05-15': -1450712.315873247,\n",
       " '2020-05-14': -1450249.892709101,\n",
       " '2020-05-13': -1449518.4449841862,\n",
       " '2020-05-12': -1448669.0787442413,\n",
       " '2020-05-11': -1449979.4512795594,\n",
       " '2020-05-08': -1451119.5313702466,\n",
       " '2020-05-07': -1446474.2642768766,\n",
       " '2020-05-06': -1445914.1198952275,\n",
       " '2020-05-05': -1446167.5941662155,\n",
       " '2020-05-04': -1445555.078242754,\n",
       " '2020-04-30': -1445902.601877483,\n",
       " '2020-04-29': -1445096.616199859,\n",
       " '2020-04-28': -1441483.062499488,\n",
       " '2020-04-27': -1443778.3047550842,\n",
       " '2020-04-24': -1443397.0787757176,\n",
       " '2020-04-22': -1443207.8269982045,\n",
       " '2020-04-21': -1441531.2113289845,\n",
       " '2020-04-20': -1440420.7999557548,\n",
       " '2020-04-17': -1441397.8343887175,\n",
       " '2020-04-16': -1441601.955704213,\n",
       " '2020-04-15': -1436367.2739605969,\n",
       " '2020-04-14': -1434732.891328515,\n",
       " '2020-04-13': -1436538.913600741,\n",
       " '2020-04-10': -1436538.8926529656,\n",
       " '2020-04-09': -1433782.3046841938,\n",
       " '2020-04-08': -1433840.7504416518,\n",
       " '2020-04-07': -1435977.6595717869,\n",
       " '2020-04-06': -1438968.2821465477,\n",
       " '2020-04-03': -1438976.3723340274,\n",
       " '2020-04-02': -1438921.2735330157,\n",
       " '2020-04-01': -1438939.816824868,\n",
       " '2020-03-31': -1438388.0520962924,\n",
       " '2020-03-30': -1439559.0391103607,\n",
       " '2020-03-27': -1435577.984283062,\n",
       " '2020-03-26': -1433354.862687179,\n",
       " '2020-03-25': -1433676.6428774272,\n",
       " '2020-03-24': -1439545.073520184,\n",
       " '2020-03-23': -1435312.8394166052,\n",
       " '2020-03-20': -1423756.0594113623,\n",
       " '2020-03-19': -1417424.2112020021,\n",
       " '2020-03-18': -1421012.5003655814,\n",
       " '2020-03-17': -1432711.4392650155,\n",
       " '2020-03-16': -1421902.9913993578,\n",
       " '2020-03-13': -1427938.279909207,\n",
       " '2020-03-12': -1427262.1033904618,\n",
       " '2020-03-11': -1426790.0007298843,\n",
       " '2020-03-10': -1434560.1111518894,\n",
       " '2020-03-09': -1426249.8691447044,\n",
       " '2020-03-06': -1424681.2031768137,\n",
       " '2020-03-05': -1419657.5024340425,\n",
       " '2020-03-04': -1418883.4075734783,\n",
       " '2020-03-03': -1408111.409447258,\n",
       " '2020-03-02': -1411250.529103868,\n",
       " '2020-02-28': -1400715.1789228863,\n",
       " '2020-02-27': -1397136.1275832695,\n",
       " '2020-02-26': -1397582.7447375292,\n",
       " '2020-02-25': -1395539.8285400886,\n",
       " '2020-02-24': -1388618.698096516,\n",
       " '2020-02-21': -1384966.8254210968,\n",
       " '2020-02-20': -1382559.1600769507,\n",
       " '2020-02-19': -1383283.1743166011,\n",
       " '2020-02-18': -1381371.8504412558,\n",
       " '2020-02-17': -1381370.080644072,\n",
       " '2020-02-14': -1379906.539501861,\n",
       " '2020-02-13': -1379061.5882899181,\n",
       " '2020-02-12': -1381742.939301204,\n",
       " '2020-02-11': -1383459.9653579309,\n",
       " '2020-02-10': -1381300.1333850273,\n",
       " '2020-02-07': -1377835.3722025864,\n",
       " '2020-02-06': -1377813.4577921953,\n",
       " '2020-02-05': -1380813.956831141,\n",
       " '2020-02-04': -1385299.154329076,\n",
       " '2020-02-03': -1386865.24716464,\n",
       " '2020-01-31': -1382155.8743946827,\n",
       " '2020-01-30': -1381256.2403253953,\n",
       " '2020-01-29': -1378073.5696483105}"
      ]
     },
     "execution_count": 18,
     "metadata": {},
     "output_type": "execute_result"
    }
   ],
   "source": [
    "portfoliohistorical=result.get(\"FRB1000\")\n",
    "portfoliohistorical"
   ]
  },
  {
   "cell_type": "code",
   "execution_count": 19,
   "id": "ccff0f81",
   "metadata": {},
   "outputs": [],
   "source": [
    "portfoliohistoricaldates=[]\n",
    "portfoliohistoricalvalues=[]\n",
    "for date,value in portfoliohistorical.items():\n",
    "    portfoliohistoricaldates.append(date)\n",
    "    portfoliohistoricalvalues.append(value)"
   ]
  },
  {
   "cell_type": "code",
   "execution_count": 21,
   "id": "62d4e338",
   "metadata": {},
   "outputs": [
    {
     "data": {
      "image/png": "[encoded data removed]",
      "text/plain": [
       "<Figure size 1080x648 with 1 Axes>"
      ]
     },
     "metadata": {
      "needs_background": "light"
     },
     "output_type": "display_data"
    }
   ],
   "source": [
    "converted_dates = list(map(datetime.datetime.strptime, portfoliohistoricaldates, len(portfoliohistoricaldates)*['%Y-%m-%d']))\n",
    "plt.figure(figsize=(15,9))\n",
    "plt.gca().xaxis.set_major_formatter(mdates.DateFormatter('%Y-%m-%d'))\n",
    "plt.gca().xaxis.set_major_locator(mdates.DayLocator(interval=15))\n",
    "plt.gcf().autofmt_xdate()\n",
    "plt.plot(converted_dates, portfoliohistoricalvalues)\n",
    "plt.title(\"Portfolio Historical Values\")\n",
    "plt.show()"
   ]
  },
  {
   "cell_type": "code",
   "execution_count": 22,
   "id": "c2e147fb",
   "metadata": {},
   "outputs": [],
   "source": [
    "###################################################################################################\n",
    "###################################################################################################\n",
    "###################################################################################################\n",
    "###################################################################################################\n",
    "###################################################################################################\n",
    "###################################################################################################\n",
    "###################################################################################################\n",
    "###################################################################################################"
   ]
  },
  {
   "cell_type": "code",
   "execution_count": 23,
   "id": "bcdbe70e",
   "metadata": {},
   "outputs": [],
   "source": [
    "riskdata[\"method\"]=\"risk_factors\""
   ]
  },
  {
   "cell_type": "code",
   "execution_count": 24,
   "id": "4cf583a6",
   "metadata": {},
   "outputs": [],
   "source": [
    "try:\n",
    "    res = api.createTask(CalculationType.PORTFOLIO, riskdata, True)\n",
    "    if(res[\"result\"]):\n",
    "        rfresult=json.loads(res[\"result\"])\n",
    "    else:\n",
    "        print(res[\"result\"])\n",
    "except RhoovaError as e:\n",
    "    e.printPretty()"
   ]
  },
  {
   "cell_type": "code",
   "execution_count": 25,
   "id": "ac2b9d4a",
   "metadata": {},
   "outputs": [],
   "source": [
    "lst=[]\n",
    "for i in rfresult.get('TRYZC').keys():\n",
    "    res=rfresult.get('TRYZC').get(i)\n",
    "    for j in res:\n",
    "        lst.append({\"Tarih\":i,\"rf\":list(j.keys())[0],\"value\":list(j.values())[0]})"
   ]
  },
  {
   "cell_type": "code",
   "execution_count": 26,
   "id": "c3ac8594",
   "metadata": {},
   "outputs": [],
   "source": [
    "df=pd.DataFrame(lst)\n",
    "dt=df.pivot(index='Tarih', columns='rf', values='value')\n"
   ]
  },
  {
   "cell_type": "code",
   "execution_count": 27,
   "id": "ab996fff",
   "metadata": {},
   "outputs": [],
   "source": [
    "lastdf=dt[['TRYZC0D','TRYZC1D','TRYZC1W', 'TRYZC2W','TRYZC3W','TRYZC1M','TRYZC2M','TRYZC3M','TRYZC6M','TRYZC9M','TRYZC1Y',\n",
    "  'TRYZC2Y','TRYZC3Y','TRYZC4Y','TRYZC5Y','TRYZC6Y','TRYZC7Y','TRYZC8Y','TRYZC9Y','TRYZC10Y', 'TRYZC12Y','TRYZC15Y',\n",
    "  'TRYZC20Y','TRYZC25Y','TRYZC30Y','TRYZC40Y','TRYZC50Y']]\n",
    "lastdf=lastdf.sort_index(ascending=False)"
   ]
  },
  {
   "cell_type": "code",
   "execution_count": 28,
   "id": "65b66c39",
   "metadata": {},
   "outputs": [],
   "source": [
    "###################################################################################################\n",
    "###################################################################################################\n",
    "###################################################################################################\n",
    "###################################################################################################\n",
    "###################################################################################################\n",
    "###################################################################################################\n",
    "###################################################################################################\n"
   ]
  },
  {
   "cell_type": "code",
   "execution_count": 29,
   "id": "8a52c296",
   "metadata": {},
   "outputs": [],
   "source": [
    "fxedratebonddata = {\n",
    "  \"notional\": 1000000,\n",
    "  \"valuationDate\": \"2021-01-28\",\n",
    "  \"settlementDate\": \"2021-02-01\",\n",
    "  \"buySell\": \"Sell\",\n",
    "  \"fixedRateBondDefinition\": fixedRateBondDefinition,\n",
    "  \"discountCurve\": yieldcurveconfig,\n",
    "  \"yieldData\": yielddata.to_dict('r')\n",
    "}"
   ]
  },
  {
   "cell_type": "code",
   "execution_count": 30,
   "id": "75083940",
   "metadata": {},
   "outputs": [],
   "source": [
    "historicalvalues=[]\n",
    "historicaldates=[]\n",
    "for index, row in lastdf.iterrows():\n",
    "    y_data=yielddata[yielddata['valuationDate']==index]\n",
    "    y_data['valuationDate']='2021-01-28'\n",
    "    fxedratebonddata['yieldData']=json.loads(y_data.to_json(orient='records'))\n",
    "    try:\n",
    "        resultdata = api.createTask(CalculationType.FIXED_RATE_BOND, fxedratebonddata,True)\n",
    "        resulttmp=json.loads(resultdata[\"result\"])\n",
    "    except RhoovaError as e:\n",
    "        e.printPretty()\n",
    "    historicaldates.append(index)    \n",
    "    historicalvalues.append(resulttmp.get('pv'))\n"
   ]
  },
  {
   "cell_type": "code",
   "execution_count": 31,
   "id": "61d472f2",
   "metadata": {},
   "outputs": [],
   "source": [
    "confidenceInterval= 0.99\n",
    "valueatrisk=result.get('pv')-np.percentile(historicalvalues[:-1],100*(1-confidenceInterval))"
   ]
  },
  {
   "cell_type": "code",
   "execution_count": 32,
   "id": "7489254d",
   "metadata": {},
   "outputs": [
    {
     "name": "stdout",
     "output_type": "stream",
     "text": [
      "+------------+---------------+\n",
      "| Parameters |         Value |\n",
      "+------------+---------------+\n",
      "|         PV | -1439540.9774 |\n",
      "|        VAR |    16051.0888 |\n",
      "| VAR/PV (%) |        1.1150 |\n",
      "+------------+---------------+\n"
     ]
    }
   ],
   "source": [
    "npvTable = pt.PrettyTable(['Parameters', 'Value'])\n",
    "npvTable.add_row(['PV', result.get('pv')])\n",
    "npvTable.add_row(['VAR', valueatrisk])\n",
    "npvTable.add_row(['VAR/PV (%)', 100*valueatrisk/abs(result.get('pv'))])\n",
    "npvTable.align = 'r'\n",
    "npvTable.float_format = '.4'\n",
    "print(npvTable)\n"
   ]
  },
  {
   "cell_type": "code",
   "execution_count": 33,
   "id": "886ca018",
   "metadata": {},
   "outputs": [],
   "source": [
    "###################################################################################################\n",
    "###################################################################################################\n",
    "###################################################################################################\n",
    "###################################################################################################\n",
    "###################################################################################################\n",
    "###################################################################################################\n",
    "###################################################################################################\n",
    "###################################################################################################\n",
    "###################################################################################################\n"
   ]
  },
  {
   "cell_type": "code",
   "execution_count": 34,
   "id": "25682599",
   "metadata": {},
   "outputs": [],
   "source": [
    "datelist=['2021-02-01','2021-02-02','2021-02-08','2021-02-15','2021-02-22','2021-03-01','2021-04-01','2021-05-03',\n",
    "          '2021-08-02','2021-11-01','2022-02-01','2023-02-01','2024-02-01','2025-02-03','2026-02-02','2027-02-01',\n",
    "          '2028-02-01','2029-02-01','2030-02-01','2031-02-03','2033-02-01','2036-02-01','2041-02-01','2046-02-01',\n",
    "          '2051-02-01','2061-02-01','2071-02-02']"
   ]
  },
  {
   "cell_type": "code",
   "execution_count": 35,
   "id": "35729b6c",
   "metadata": {},
   "outputs": [
    {
     "data": {
      "text/plain": [
       "{'TRYZC0D': '2021-02-01',\n",
       " 'TRYZC1D': '2021-02-02',\n",
       " 'TRYZC1W': '2021-02-08',\n",
       " 'TRYZC2W': '2021-02-15',\n",
       " 'TRYZC3W': '2021-02-22',\n",
       " 'TRYZC1M': '2021-03-01',\n",
       " 'TRYZC2M': '2021-04-01',\n",
       " 'TRYZC3M': '2021-05-03',\n",
       " 'TRYZC6M': '2021-08-02',\n",
       " 'TRYZC9M': '2021-11-01',\n",
       " 'TRYZC1Y': '2022-02-01',\n",
       " 'TRYZC2Y': '2023-02-01',\n",
       " 'TRYZC3Y': '2024-02-01',\n",
       " 'TRYZC4Y': '2025-02-03',\n",
       " 'TRYZC5Y': '2026-02-02',\n",
       " 'TRYZC6Y': '2027-02-01',\n",
       " 'TRYZC7Y': '2028-02-01',\n",
       " 'TRYZC8Y': '2029-02-01',\n",
       " 'TRYZC9Y': '2030-02-01',\n",
       " 'TRYZC10Y': '2031-02-03',\n",
       " 'TRYZC12Y': '2033-02-01',\n",
       " 'TRYZC15Y': '2036-02-01',\n",
       " 'TRYZC20Y': '2041-02-01',\n",
       " 'TRYZC25Y': '2046-02-01',\n",
       " 'TRYZC30Y': '2051-02-01',\n",
       " 'TRYZC40Y': '2061-02-01',\n",
       " 'TRYZC50Y': '2071-02-02'}"
      ]
     },
     "execution_count": 35,
     "metadata": {},
     "output_type": "execute_result"
    }
   ],
   "source": [
    "rf=dict(zip(lastdf.columns, datelist))\n",
    "rf"
   ]
  },
  {
   "cell_type": "code",
   "execution_count": 36,
   "id": "cfc06046",
   "metadata": {},
   "outputs": [],
   "source": [
    "yielddata_lst=[]\n",
    "for index, row in lastdf.iterrows():\n",
    "    for key,val in row.items():\n",
    "        yielddata_dict={}\n",
    "        yielddata_dict[\"valuationDate\"]=index\n",
    "        yielddata_dict[\"maturityDate\"]=rf[key]\n",
    "        yielddata_dict[\"value\"]=val\n",
    "        yielddata_dict[\"instrument\"]=\"USDZeroRates\"\n",
    "        yielddata_dict[\"currency\"]=\"USD\"\n",
    "        yielddata_dict[\"settlementDate\"]=\"\"\n",
    "        yielddata_dict[\"period\"]=\"6M\"\n",
    "        yielddata_dict[\"tenor\"]=\"\"\n",
    "        yielddata_lst.append(yielddata_dict)"
   ]
  },
  {
   "cell_type": "code",
   "execution_count": 37,
   "id": "8099a550",
   "metadata": {},
   "outputs": [],
   "source": [
    "# Fix parameters for building yield curve\n",
    "yieldcurveconfig2={\n",
    "        \"name\": \"TRYZC\",\n",
    "        \"settlementDays\": 2,\n",
    "        \"intpMethod\": \"LINEAR\",\n",
    "        \"currency\": \"USD\",\n",
    "        \"calendar\": \"Turkey\",\n",
    "        \"dayCounter\": \"Actual360\",\n",
    "        \"zeroRates\": \"USDZeroRates\",\n",
    "        \"period\":\"6M\"\n",
    "    }"
   ]
  },
  {
   "cell_type": "code",
   "execution_count": 38,
   "id": "c6b409d0",
   "metadata": {},
   "outputs": [],
   "source": [
    "data2 = {\n",
    "  \"notional\": 1000000,\n",
    "  \"valuationDate\": \"2021-01-28\",\n",
    "  \"settlementDate\": \"2021-02-01\",\n",
    "  \"buySell\": \"Sell\",\n",
    "  \"fixedRateBondDefinition\": fixedRateBondDefinition,\n",
    "  \"discountCurve\": yieldcurveconfig2,\n",
    "  \"yieldData\": yielddata_lst\n",
    "}"
   ]
  },
  {
   "cell_type": "code",
   "execution_count": 39,
   "id": "6dc5d6d7",
   "metadata": {},
   "outputs": [],
   "source": [
    "try:\n",
    "    resultdata = api.createTask(CalculationType.FIXED_RATE_BOND, data2,True)\n",
    "    result=json.loads(resultdata[\"result\"])\n",
    "except RhoovaError as e:\n",
    "    e.printPretty()"
   ]
  },
  {
   "cell_type": "code",
   "execution_count": 40,
   "id": "e41ff2cd",
   "metadata": {},
   "outputs": [
    {
     "name": "stdout",
     "output_type": "stream",
     "text": [
      "+-------------------+---------------+\n",
      "|        Parameters |         Value |\n",
      "+-------------------+---------------+\n",
      "|                PV | -1439189.5361 |\n",
      "|       Clean Price |      142.5259 |\n",
      "|       Dirty Price |      143.9190 |\n",
      "|    Accrued Amount |        1.3931 |\n",
      "| Yield to Maturity |        0.5227 |\n",
      "|          Duration |        4.5867 |\n",
      "| Modified Duration |        4.5748 |\n",
      "| Macualay Duration |        4.5867 |\n",
      "|         Convexity |       25.4566 |\n",
      "|               Bps |        0.0549 |\n",
      "+-------------------+---------------+\n"
     ]
    }
   ],
   "source": [
    "npvTable = pt.PrettyTable(['Parameters', 'Value'])\n",
    "npvTable.add_row(['PV', result.get('pv')])\n",
    "npvTable.add_row(['Clean Price', result.get('cleanPrice')])\n",
    "npvTable.add_row(['Dirty Price', result.get('dirtyPrice')])\n",
    "npvTable.add_row(['Accrued Amount', result.get('accruedAmount')])\n",
    "npvTable.add_row(['Yield to Maturity', 100*result.get('yieldToMaturity')])\n",
    "npvTable.add_row(['Duration', result.get('duration')])\n",
    "npvTable.add_row(['Modified Duration', result.get('modifiedDuration')])\n",
    "npvTable.add_row(['Macualay Duration', result.get('macaulayDuration')])\n",
    "npvTable.add_row(['Convexity', result.get('convexity')])\n",
    "npvTable.add_row(['Bps', result.get('bps')])\n",
    "npvTable.align = 'r'\n",
    "npvTable.float_format = '.4'\n",
    "print(npvTable)"
   ]
  },
  {
   "cell_type": "code",
   "execution_count": 41,
   "id": "383dd123",
   "metadata": {},
   "outputs": [],
   "source": [
    "historicalvalues2=[]\n",
    "historicaldates2=[]\n",
    "yielddata_lst_df=pd.DataFrame(yielddata_lst)\n",
    "for index, row in lastdf.iterrows():\n",
    "    y_data=yielddata_lst_df[yielddata_lst_df['valuationDate']==index]\n",
    "    y_data['valuationDate']='2021-01-28'\n",
    "    data2['yieldData']=json.loads(y_data.to_json(orient='records'))\n",
    "    try:\n",
    "        resultdata = api.createTask(CalculationType.FIXED_RATE_BOND, data2,True)\n",
    "        resulttmp=json.loads(resultdata[\"result\"])\n",
    "    except RhoovaError as e:\n",
    "        e.printPretty()\n",
    "    historicaldates2.append(index)    \n",
    "    historicalvalues2.append(resulttmp.get('pv'))\n",
    "    #print(index,resulttmp.get('pv'))    \n"
   ]
  },
  {
   "cell_type": "code",
   "execution_count": 51,
   "id": "90bab1b1",
   "metadata": {},
   "outputs": [
    {
     "data": {
      "image/png": "[encoded data removed]",
      "text/plain": [
       "<Figure size 1080x648 with 1 Axes>"
      ]
     },
     "metadata": {
      "needs_background": "light"
     },
     "output_type": "display_data"
    }
   ],
   "source": [
    "converted_dates = list(map(datetime.datetime.strptime, historicaldates, len(historicaldates)*['%Y-%m-%d']))\n",
    "plt.figure(figsize=(15,9))\n",
    "plt.gca().xaxis.set_major_formatter(mdates.DateFormatter('%Y-%m-%d'))\n",
    "plt.gca().xaxis.set_major_locator(mdates.DayLocator(interval=15))\n",
    "plt.gcf().autofmt_xdate()\n",
    "plt.plot(converted_dates[:-1], historicalvalues[:-1])\n",
    "plt.plot(converted_dates[:-1], historicalvalues2[:-1])\n",
    "plt.plot(converted_dates[:-1], portfoliohistoricalvalues)\n",
    "plt.legend([\"Historical Values with Yields\", \"Historical Values with Zero Rates\",\"istorical Values from VaR Result\"], loc =\"lower right\")\n",
    "plt.show()"
   ]
  },
  {
   "cell_type": "code",
   "execution_count": 52,
   "id": "83538416",
   "metadata": {},
   "outputs": [],
   "source": [
    "valueatrisk=result.get('pv')-np.percentile(historicalvalues[:-1],100*(1-0.99))\n"
   ]
  },
  {
   "cell_type": "code",
   "execution_count": 53,
   "id": "14c3ee9f",
   "metadata": {},
   "outputs": [
    {
     "name": "stdout",
     "output_type": "stream",
     "text": [
      "+------------+---------------+\n",
      "| Parameters |         Value |\n",
      "+------------+---------------+\n",
      "|         PV | -1439189.5361 |\n",
      "|        VAR |    16402.5300 |\n",
      "| VAR/PV (%) |        1.1397 |\n",
      "+------------+---------------+\n"
     ]
    }
   ],
   "source": [
    "npvTable = pt.PrettyTable(['Parameters', 'Value'])\n",
    "npvTable.add_row(['PV', result.get('pv')])\n",
    "npvTable.add_row(['VAR', valueatrisk])\n",
    "npvTable.add_row(['VAR/PV (%)', 100*valueatrisk/abs(result.get('pv'))])\n",
    "npvTable.align = 'r'\n",
    "npvTable.float_format = '.4'\n",
    "print(npvTable)\n"
   ]
  }
 ],
 "metadata": {
  "kernelspec": {
   "display_name": "Python 3 (ipykernel)",
   "language": "python",
   "name": "python3"
  },
  "language_info": {
   "codemirror_mode": {
    "name": "ipython",
    "version": 3
   },
   "file_extension": ".py",
   "mimetype": "text/x-python",
   "name": "python",
   "nbconvert_exporter": "python",
   "pygments_lexer": "ipython3",
   "version": "3.9.16"
  }
 },
 "nbformat": 4,
 "nbformat_minor": 5
}
