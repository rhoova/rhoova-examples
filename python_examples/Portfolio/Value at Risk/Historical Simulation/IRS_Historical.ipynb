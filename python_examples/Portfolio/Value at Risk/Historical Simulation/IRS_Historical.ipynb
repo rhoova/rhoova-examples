{
 "cells": [
  {
   "cell_type": "code",
   "execution_count": 1,
   "id": "1e69f7a5",
   "metadata": {},
   "outputs": [
    {
     "name": "stderr",
     "output_type": "stream",
     "text": [
      "/opt/homebrew/lib/python3.9/site-packages/scipy/__init__.py:146: UserWarning: A NumPy version >=1.16.5 and <1.23.0 is required for this version of SciPy (detected version 1.24.3\n",
      "  warnings.warn(f\"A NumPy version >={np_minversion} and <{np_maxversion}\"\n"
     ]
    }
   ],
   "source": [
    "import json\n",
    "import os\n",
    "import pandas as pd\n",
    "import numpy as np\n",
    "import prettytable as pt\n",
    "import matplotlib.pyplot as plt\n",
    "import matplotlib.dates as mdates\n",
    "from matplotlib import dates\n",
    "import seaborn as sns\n",
    "import datetime\n",
    "import warnings\n",
    "warnings.filterwarnings(\"ignore\")\n",
    "\n",
    "\n",
    "###################################################################################################\n",
    "                                                                                                  #\n",
    "from rhoova.Client import *                                                                       #   \n",
    "#Register and get api key from https://app.rhoova.com/ for ClientConfig(\"api key\", \"api secret\")  #\n",
    "config = ClientConfig(\"\", \"\")                                                                     #\n",
    "api = Api(config)                                                                                 # \n",
    "                                                                                                  #\n",
    "###################################################################################################\n",
    "\n",
    "\n",
    "directory = os.path.normpath(os.getcwd() + os.sep + os.pardir + os.sep + os.pardir)\n",
    "datadirectory=directory+\"/data/yielddata.csv\"\n",
    "\n",
    "\n",
    "yielddata = pd.read_csv(datadirectory)\n",
    "yielddata = yielddata.replace(np.nan, '', regex=True) \n",
    "\n",
    "mdirectory = os.path.normpath(os.getcwd() + os.sep + os.pardir + os.sep + os.pardir)\n",
    "mdatadirectory=mdirectory+\"/data/marketdata.csv\"\n",
    "\n",
    "marketdata = pd.read_csv(mdatadirectory)\n",
    "marketdata = marketdata.replace(np.nan, '', regex=True) \n"
   ]
  },
  {
   "cell_type": "code",
   "execution_count": 2,
   "id": "c8b7886f",
   "metadata": {},
   "outputs": [
    {
     "data": {
      "text/plain": [
       "{'payOrReceive': 'Receive',\n",
       " 'coupon': 0.085,\n",
       " 'frequency': 'Semiannual',\n",
       " 'calendar': 'Turkey',\n",
       " 'dateGeneration': 'Backward',\n",
       " 'dayCounter': 'Actual360',\n",
       " 'businessDayConvention': 'ModifiedFollowing',\n",
       " 'maturityDateConvention': 'ModifiedFollowing',\n",
       " 'endOfMonth': True}"
      ]
     },
     "execution_count": 2,
     "metadata": {},
     "output_type": "execute_result"
    }
   ],
   "source": [
    "fixedleg={}\n",
    "fixedleg[\"payOrReceive\"]=\"Receive\"\n",
    "fixedleg[\"coupon\"]= 0.085\n",
    "fixedleg[\"frequency\"]=\"Semiannual\"\n",
    "fixedleg[\"calendar\"]=\"Turkey\"\n",
    "fixedleg[\"dateGeneration\"]=\"Backward\"\n",
    "fixedleg[\"dayCounter\"]=\"Actual360\"\n",
    "fixedleg[\"businessDayConvention\"]=\"ModifiedFollowing\"\n",
    "fixedleg[\"maturityDateConvention\"]=\"ModifiedFollowing\"\n",
    "fixedleg[\"endOfMonth\"]=True\n",
    "fixedleg"
   ]
  },
  {
   "cell_type": "code",
   "execution_count": 3,
   "id": "02ac6a5c",
   "metadata": {},
   "outputs": [
    {
     "data": {
      "text/plain": [
       "{'frequency': 'Quarterly',\n",
       " 'spread': 0.0,\n",
       " 'calendar': 'Turkey',\n",
       " 'dateGeneration': 'Backward',\n",
       " 'dayCounter': 'Actual360',\n",
       " 'businessDayConvention': 'ModifiedFollowing',\n",
       " 'maturityDateConvention': 'ModifiedFollowing',\n",
       " 'endOfMonth': True,\n",
       " 'fixingDate': ['2020-12-02'],\n",
       " 'fixingRate': [0.0012428641149285805]}"
      ]
     },
     "execution_count": 3,
     "metadata": {},
     "output_type": "execute_result"
    }
   ],
   "source": [
    "floatingleg={}\n",
    "floatingleg[\"frequency\"]=\"Quarterly\"\n",
    "floatingleg[\"spread\"]=0.0\n",
    "floatingleg[\"calendar\"]=\"Turkey\"\n",
    "floatingleg[\"dateGeneration\"]=\"Backward\"\n",
    "floatingleg[\"dayCounter\"]=\"Actual360\"\n",
    "floatingleg[\"businessDayConvention\"]=\"ModifiedFollowing\"\n",
    "floatingleg[\"maturityDateConvention\"]=\"ModifiedFollowing\"\n",
    "floatingleg[\"endOfMonth\"]=True\n",
    "floatingleg[\"fixingDate\"]=[\"2020-12-02\"]\n",
    "floatingleg[\"fixingRate\"]=[0.0012428641149285805]\n",
    "floatingleg"
   ]
  },
  {
   "cell_type": "code",
   "execution_count": 4,
   "id": "84a5b590",
   "metadata": {},
   "outputs": [
    {
     "data": {
      "text/plain": [
       "{'DEPO': {'businessDayConvention': 'Following', 'dayCounter': 'Actual360'},\n",
       " 'IRS': {'businessDayConvention': 'Following',\n",
       "  'dayCounter': 'Actual360',\n",
       "  'frequency': 'Semiannual'}}"
      ]
     },
     "execution_count": 4,
     "metadata": {},
     "output_type": "execute_result"
    }
   ],
   "source": [
    "instruments={}\n",
    "depo={}\n",
    "irs={}\n",
    "\n",
    "depo[\"businessDayConvention\"]=\"Following\"     # if it is null, default value is used\n",
    "depo[\"dayCounter\"]=\"Actual360\"                # if it is null, default value is used\n",
    "\n",
    "irs[\"businessDayConvention\"]=\"Following\"      # if it is null, default value is used \n",
    "irs[\"dayCounter\"]=\"Actual360\"                 # if it is null, default value is used \n",
    "irs[\"frequency\"]=\"Semiannual\"               \n",
    "\n",
    "instruments[\"DEPO\"]=depo\n",
    "instruments[\"IRS\"]=irs\n",
    "\n",
    "instruments"
   ]
  },
  {
   "cell_type": "code",
   "execution_count": 5,
   "id": "77d0baf6",
   "metadata": {},
   "outputs": [
    {
     "data": {
      "text/plain": [
       "{'name': 'TRYZC',\n",
       " 'settlementDays': 2,\n",
       " 'intpMethod': 'LINEAR',\n",
       " 'currency': 'TRY',\n",
       " 'calendar': 'Turkey',\n",
       " 'dayCounter': 'Actual360',\n",
       " 'period': '6M',\n",
       " 'instruments': {'DEPO': {'businessDayConvention': 'Following',\n",
       "   'dayCounter': 'Actual360'},\n",
       "  'IRS': {'businessDayConvention': 'Following',\n",
       "   'dayCounter': 'Actual360',\n",
       "   'frequency': 'Semiannual'}}}"
      ]
     },
     "execution_count": 5,
     "metadata": {},
     "output_type": "execute_result"
    }
   ],
   "source": [
    "# Fix parameters for building yield curve\n",
    "yieldcurveconfig={\n",
    "      \"name\": \"TRYZC\",\n",
    "      \"settlementDays\": 2,\n",
    "      \"intpMethod\": \"LINEAR\",\n",
    "      \"currency\": \"TRY\",\n",
    "      \"calendar\": \"Turkey\",\n",
    "      \"dayCounter\": \"Actual360\",\n",
    "      \"period\": \"6M\",\n",
    "      \"instruments\": instruments\n",
    "\n",
    "    }\n",
    "yieldcurveconfig"
   ]
  },
  {
   "cell_type": "code",
   "execution_count": 6,
   "id": "f0fac96c",
   "metadata": {},
   "outputs": [],
   "source": [
    "riskdata = {\n",
    "  \"id\": \"PORTFOLIO1\",\n",
    "  \"name\": \"PORTFOLIO 1\",\n",
    "  \"method\": \"VaR\",\n",
    "  \"forRisk\": True,\n",
    "  \"valuationDate\": \"2021-01-28\",\n",
    "  \"valuationCurrency\": \"TRY\",\n",
    "  \"riskMethod\": \"HISTORICAL\",\n",
    "  \"horizon\": 252,\n",
    "  \"confidenceInterval\": 0.99,\n",
    "  \"returnType\": None,\n",
    "  \"trend\": False,\n",
    "  \"calendar\": \"Turkey\",\n",
    "  \"timeBucket\": [\"0D\",\"1D\",\"1W\",\"2W\",\"3W\",\"1M\",\"2M\",\"3M\",\"6M\",\"9M\",\"1Y\",\"2Y\",\"3Y\",\"4Y\",\n",
    "                \"5Y\",\"6Y\",\"7Y\",\"8Y\",\"9Y\",\"10Y\",\"12Y\",\"15Y\",\"20Y\",\"25Y\",\"30Y\",\"40Y\",\"50Y\"],\n",
    "  \"fillNa\": \"BACKWARD\",\n",
    "  \"maxFillNaDays\": 5,\n",
    "  \"tasks\": [\n",
    "      {\n",
    "      \"trade_id\": \"IRS1000\",\n",
    "      \"calculation_type\": \"interest_rates_swap\",\n",
    "      \"discountCurve\": \"TRYZC\",\n",
    "      \"floatingLegForecastCurve\": \"TRYZC\",\n",
    "      \"settlementDate\": \"2021-02-01\",\n",
    "      \"maturityDate\": \"2026-06-04\",\n",
    "      \"startDate\": \"2021-02-01\",\n",
    "      \"notional\": 1000000,\n",
    "      \"currency\": \"TRY\",\n",
    "      \"fixedLeg\":fixedleg,\n",
    "      \"floatingLeg\":floatingleg\n",
    "    }\n",
    "  ],\n",
    "  \"curves\": [yieldcurveconfig],\n",
    "  \"yieldData\": yielddata.to_dict('r'),\n",
    "  \"marketData\":marketdata.to_dict('r'),\n",
    "}"
   ]
  },
  {
   "cell_type": "code",
   "execution_count": 7,
   "id": "23b47392",
   "metadata": {},
   "outputs": [],
   "source": [
    "try:\n",
    "    res = api.createTask(CalculationType.PORTFOLIO, riskdata, True)\n",
    "    if(res[\"result\"]):\n",
    "      result=json.loads(res[\"result\"])\n",
    "    else:\n",
    "      print(res[\"result\"])\n",
    "except RhoovaError as e:\n",
    "    e.printPretty()"
   ]
  },
  {
   "cell_type": "code",
   "execution_count": 8,
   "id": "ac8a8067",
   "metadata": {},
   "outputs": [
    {
     "name": "stdout",
     "output_type": "stream",
     "text": [
      "+------------+-------------+\n",
      "| Parameters |       Value |\n",
      "+------------+-------------+\n",
      "|         PV | 425620.7501 |\n",
      "|        VAR |  60891.5121 |\n",
      "| VAR/PV (%) |     14.3065 |\n",
      "+------------+-------------+\n"
     ]
    }
   ],
   "source": [
    "npvTable = pt.PrettyTable(['Parameters', 'Value'])\n",
    "npvTable.add_row(['PV', result.get('pv')])\n",
    "npvTable.add_row(['VAR', result.get('VaR')])\n",
    "npvTable.add_row(['VAR/PV (%)', result.get('var/pv')])\n",
    "npvTable.align = 'r'\n",
    "npvTable.float_format = '.4'\n",
    "print(npvTable)\n"
   ]
  },
  {
   "cell_type": "code",
   "execution_count": 9,
   "id": "d77d1685",
   "metadata": {},
   "outputs": [],
   "source": [
    "portfoliohistorical=result.get(\"IRS1000\")\n"
   ]
  },
  {
   "cell_type": "code",
   "execution_count": 10,
   "id": "acf28dce",
   "metadata": {},
   "outputs": [],
   "source": [
    "portfoliohistoricaldates=[]\n",
    "portfoliohistoricalvalues=[]\n",
    "for date,value in portfoliohistorical.items():\n",
    "    portfoliohistoricaldates.append(date)\n",
    "    portfoliohistoricalvalues.append(float(value))"
   ]
  },
  {
   "cell_type": "code",
   "execution_count": 11,
   "id": "433de386",
   "metadata": {},
   "outputs": [
    {
     "data": {
      "image/png": "[encoded data removed]",
      "text/plain": [
       "<Figure size 1080x648 with 1 Axes>"
      ]
     },
     "metadata": {
      "needs_background": "light"
     },
     "output_type": "display_data"
    }
   ],
   "source": [
    "converted_dates = list(map(datetime.datetime.strptime, portfoliohistoricaldates, len(portfoliohistoricaldates)*['%Y-%m-%d']))\n",
    "plt.figure(figsize=(15,9))\n",
    "plt.gca().xaxis.set_major_formatter(mdates.DateFormatter('%Y-%m-%d'))\n",
    "plt.gca().xaxis.set_major_locator(mdates.DayLocator(interval=15))\n",
    "plt.gcf().autofmt_xdate()\n",
    "plt.plot(converted_dates, portfoliohistoricalvalues)\n",
    "plt.title(\"IRS Historical Values\")\n",
    "current_values = plt.gca().get_yticks()\n",
    "plt.gca().set_yticklabels(['{:.0f}'.format(x) for x in current_values])\n",
    "plt.show()"
   ]
  }
 ],
 "metadata": {
  "kernelspec": {
   "display_name": "Python 3 (ipykernel)",
   "language": "python",
   "name": "python3"
  },
  "language_info": {
   "codemirror_mode": {
    "name": "ipython",
    "version": 3
   },
   "file_extension": ".py",
   "mimetype": "text/x-python",
   "name": "python",
   "nbconvert_exporter": "python",
   "pygments_lexer": "ipython3",
   "version": "3.9.16"
  }
 },
 "nbformat": 4,
 "nbformat_minor": 5
}
