{
 "cells": [
  {
   "cell_type": "code",
   "execution_count": 1,
   "id": "0429c01b",
   "metadata": {},
   "outputs": [],
   "source": [
    "from FRTBUtils import FRTBInit\n",
    "from IPython.display import display, Math\n",
    "import pandas as pd\n",
    "import matplotlib.pyplot as plt\n",
    "\n",
    "#https://www.bis.org/bcbs/publ/d352.pdf#page=24&zoom=100,72,705\n"
   ]
  },
  {
   "cell_type": "code",
   "execution_count": 7,
   "id": "92af27d4",
   "metadata": {},
   "outputs": [],
   "source": [
    "#SAMR_SBM:  Standardised Approach for Market Risk_ Sensitivity Base Method\n",
    "class SAMR_SBM(FRTBInit):\n",
    "    def calcRiskClassCapital(self):\n",
    "        tasks = self.prepareData()\n",
    "        rhoovaresult = self.getResults(tasks)\n",
    "        ir_riskfactor = self.getIRRiskFactor(rhoovaresult)\n",
    "        currencies= self.getCurrencies(ir_riskfactor)\n",
    "        buckets=self.getBuckets(rhoovaresult,ir_riskfactor,currencies)\n",
    "        sensitivities=self.calculateSensitivities(buckets,ir_riskfactor)\n",
    "        weighted_sensitivities=self.applyRiskWeights(sensitivities)\n",
    "        \n",
    "        delta=self.calculateDelta(weighted_sensitivities)\n",
    "        riskcapital=self.RiskCapital(delta)\n",
    "        result={}\n",
    "        result[\"tasks\"]=tasks\n",
    "        result[\"buckets\"]=buckets\n",
    "        result[\"sensitivities\"]=sensitivities\n",
    "        result[\"weighted_sensitivities\"]=weighted_sensitivities\n",
    "        result[\"delta\"]=delta\n",
    "        result[\"riskcapital\"]=riskcapital\n",
    "        return result"
   ]
  },
  {
   "cell_type": "code",
   "execution_count": 8,
   "id": "7fb72082",
   "metadata": {},
   "outputs": [],
   "source": [
    "reportingdate=\"2021-01-28\"\n",
    "reportingcurrency=\"TRY\"\n",
    "results=SAMR_SBM(reportingdate,reportingcurrency).calcRiskClassCapital()"
   ]
  },
  {
   "cell_type": "code",
   "execution_count": 12,
   "id": "e05ee9e7",
   "metadata": {},
   "outputs": [
    {
     "data": {
      "text/latex": [
       "$\\displaystyle s_{k,r_t} = \\frac{V_i(r_t + 0.0001, cs_t) - V_i(r_t, cs_t)}{0.0001}$"
      ],
      "text/plain": [
       "<IPython.core.display.Math object>"
      ]
     },
     "metadata": {},
     "output_type": "display_data"
    },
    {
     "data": {
      "text/html": [
       "<div>\n",
       "<style scoped>\n",
       "    .dataframe tbody tr th:only-of-type {\n",
       "        vertical-align: middle;\n",
       "    }\n",
       "\n",
       "    .dataframe tbody tr th {\n",
       "        vertical-align: top;\n",
       "    }\n",
       "\n",
       "    .dataframe thead th {\n",
       "        text-align: right;\n",
       "    }\n",
       "</style>\n",
       "<table border=\"1\" class=\"dataframe\">\n",
       "  <thead>\n",
       "    <tr style=\"text-align: right;\">\n",
       "      <th>tenors</th>\n",
       "      <th>0D</th>\n",
       "      <th>1D</th>\n",
       "      <th>3M</th>\n",
       "      <th>6M</th>\n",
       "      <th>1Y</th>\n",
       "      <th>2Y</th>\n",
       "      <th>3Y</th>\n",
       "      <th>4Y</th>\n",
       "      <th>5Y</th>\n",
       "      <th>6Y</th>\n",
       "      <th>7Y</th>\n",
       "      <th>8Y</th>\n",
       "      <th>9Y</th>\n",
       "      <th>10Y</th>\n",
       "      <th>15Y</th>\n",
       "      <th>20Y</th>\n",
       "      <th>25Y</th>\n",
       "      <th>30Y</th>\n",
       "      <th>40Y</th>\n",
       "      <th>50Y</th>\n",
       "    </tr>\n",
       "  </thead>\n",
       "  <tbody>\n",
       "    <tr>\n",
       "      <th>TRY Sensitivity</th>\n",
       "      <td>0.0</td>\n",
       "      <td>0.0000</td>\n",
       "      <td>13818.070981</td>\n",
       "      <td>35057.079896</td>\n",
       "      <td>108897.393328</td>\n",
       "      <td>317249.684255</td>\n",
       "      <td>528443.337378</td>\n",
       "      <td>802771.980815</td>\n",
       "      <td>5.238864e+06</td>\n",
       "      <td>6.084664e+06</td>\n",
       "      <td>0.0</td>\n",
       "      <td>0.0</td>\n",
       "      <td>0.0</td>\n",
       "      <td>0.0</td>\n",
       "      <td>0.0</td>\n",
       "      <td>0.0</td>\n",
       "      <td>0.0</td>\n",
       "      <td>0.0</td>\n",
       "      <td>0.0</td>\n",
       "      <td>0.0</td>\n",
       "    </tr>\n",
       "    <tr>\n",
       "      <th>USD Sensitivity</th>\n",
       "      <td>0.0</td>\n",
       "      <td>47802.1698</td>\n",
       "      <td>136338.737252</td>\n",
       "      <td>-16540.915987</td>\n",
       "      <td>-59952.915410</td>\n",
       "      <td>-174660.227418</td>\n",
       "      <td>-290931.837177</td>\n",
       "      <td>-441962.100178</td>\n",
       "      <td>-2.884230e+06</td>\n",
       "      <td>-3.349881e+06</td>\n",
       "      <td>0.0</td>\n",
       "      <td>0.0</td>\n",
       "      <td>0.0</td>\n",
       "      <td>0.0</td>\n",
       "      <td>0.0</td>\n",
       "      <td>0.0</td>\n",
       "      <td>0.0</td>\n",
       "      <td>0.0</td>\n",
       "      <td>0.0</td>\n",
       "      <td>0.0</td>\n",
       "    </tr>\n",
       "  </tbody>\n",
       "</table>\n",
       "</div>"
      ],
      "text/plain": [
       "tenors            0D          1D             3M            6M             1Y  \\\n",
       "TRY Sensitivity  0.0      0.0000   13818.070981  35057.079896  108897.393328   \n",
       "USD Sensitivity  0.0  47802.1698  136338.737252 -16540.915987  -59952.915410   \n",
       "\n",
       "tenors                      2Y             3Y             4Y            5Y  \\\n",
       "TRY Sensitivity  317249.684255  528443.337378  802771.980815  5.238864e+06   \n",
       "USD Sensitivity -174660.227418 -290931.837177 -441962.100178 -2.884230e+06   \n",
       "\n",
       "tenors                     6Y   7Y   8Y   9Y  10Y  15Y  20Y  25Y  30Y  40Y  \\\n",
       "TRY Sensitivity  6.084664e+06  0.0  0.0  0.0  0.0  0.0  0.0  0.0  0.0  0.0   \n",
       "USD Sensitivity -3.349881e+06  0.0  0.0  0.0  0.0  0.0  0.0  0.0  0.0  0.0   \n",
       "\n",
       "tenors           50Y  \n",
       "TRY Sensitivity  0.0  \n",
       "USD Sensitivity  0.0  "
      ]
     },
     "execution_count": 12,
     "metadata": {},
     "output_type": "execute_result"
    }
   ],
   "source": [
    "#https://github.com/rhoova/rhoova-examples\n",
    "\n",
    "\n",
    "#We use Rhoova for sensitivity calculation based on tenor. Rhoova generates cashflows for different products \n",
    "#based on a given list of tenors (change self.timebuckets in FRTBInit.py). You can see cashflows by maturity, \n",
    "#yield curve and currency from Rhoova by calling results.get(\"buckets\"). \n",
    "\n",
    "#See detailed examples of cashflow mapping.\n",
    "#https://github.com/rhoova/rhoova-examples/tree/main/python_examples/Portfolio/Value%20at%20Risk/Delta%20Normal\n",
    "\n",
    "# We use the results from rhoova in the calculateSensitivities nunction (FRTBInit.py) and\n",
    "#calculate the sensitivities for each tenor.\n",
    "\n",
    "\n",
    "formula = r\"s_{k,r_t} = \\frac{V_i(r_t + 0.0001, cs_t) - V_i(r_t, cs_t)}{0.0001}\"\n",
    "display(Math(formula))\n",
    "\n",
    "\n",
    "sensitivities=results.get(\"sensitivities\")\n",
    "sensitivities_df = pd.concat(sensitivities, axis=1)\n",
    "sensitivities_df.columns = [f\"{col} Sensitivity\" for col in sensitivities.keys()] \n",
    "sensitivities_df.T\n"
   ]
  },
  {
   "cell_type": "code",
   "execution_count": 14,
   "id": "c5e26010",
   "metadata": {},
   "outputs": [
    {
     "data": {
      "text/latex": [
       "$\\displaystyle WS_k = RW_k s_k$"
      ],
      "text/plain": [
       "<IPython.core.display.Math object>"
      ]
     },
     "metadata": {},
     "output_type": "display_data"
    },
    {
     "data": {
      "text/html": [
       "<div>\n",
       "<style scoped>\n",
       "    .dataframe tbody tr th:only-of-type {\n",
       "        vertical-align: middle;\n",
       "    }\n",
       "\n",
       "    .dataframe tbody tr th {\n",
       "        vertical-align: top;\n",
       "    }\n",
       "\n",
       "    .dataframe thead th {\n",
       "        text-align: right;\n",
       "    }\n",
       "</style>\n",
       "<table border=\"1\" class=\"dataframe\">\n",
       "  <thead>\n",
       "    <tr style=\"text-align: right;\">\n",
       "      <th></th>\n",
       "      <th>0D</th>\n",
       "      <th>1D</th>\n",
       "      <th>3M</th>\n",
       "      <th>6M</th>\n",
       "      <th>1Y</th>\n",
       "      <th>2Y</th>\n",
       "      <th>3Y</th>\n",
       "      <th>4Y</th>\n",
       "      <th>5Y</th>\n",
       "      <th>6Y</th>\n",
       "      <th>7Y</th>\n",
       "      <th>8Y</th>\n",
       "      <th>9Y</th>\n",
       "      <th>10Y</th>\n",
       "      <th>15Y</th>\n",
       "      <th>20Y</th>\n",
       "      <th>25Y</th>\n",
       "      <th>30Y</th>\n",
       "      <th>40Y</th>\n",
       "      <th>50Y</th>\n",
       "    </tr>\n",
       "  </thead>\n",
       "  <tbody>\n",
       "    <tr>\n",
       "      <th>TRY Weigted Sensitivity</th>\n",
       "      <td>0.0</td>\n",
       "      <td>0.000000</td>\n",
       "      <td>1.340353</td>\n",
       "      <td>2.769509</td>\n",
       "      <td>9.909663</td>\n",
       "      <td>32.676717</td>\n",
       "      <td>78.209614</td>\n",
       "      <td>199.087451</td>\n",
       "      <td>1645.003352</td>\n",
       "      <td>2585.982248</td>\n",
       "      <td>0.0</td>\n",
       "      <td>0.0</td>\n",
       "      <td>0.0</td>\n",
       "      <td>0.0</td>\n",
       "      <td>0.0</td>\n",
       "      <td>0.0</td>\n",
       "      <td>0.0</td>\n",
       "      <td>0.0</td>\n",
       "      <td>0.0</td>\n",
       "      <td>0.0</td>\n",
       "    </tr>\n",
       "    <tr>\n",
       "      <th>USD Weigted Sensitivity</th>\n",
       "      <td>0.0</td>\n",
       "      <td>3.107141</td>\n",
       "      <td>13.224858</td>\n",
       "      <td>-1.306732</td>\n",
       "      <td>-5.455715</td>\n",
       "      <td>-17.990003</td>\n",
       "      <td>-43.057912</td>\n",
       "      <td>-109.606601</td>\n",
       "      <td>-905.648371</td>\n",
       "      <td>-1423.699597</td>\n",
       "      <td>0.0</td>\n",
       "      <td>0.0</td>\n",
       "      <td>0.0</td>\n",
       "      <td>0.0</td>\n",
       "      <td>0.0</td>\n",
       "      <td>0.0</td>\n",
       "      <td>0.0</td>\n",
       "      <td>0.0</td>\n",
       "      <td>0.0</td>\n",
       "      <td>0.0</td>\n",
       "    </tr>\n",
       "  </tbody>\n",
       "</table>\n",
       "</div>"
      ],
      "text/plain": [
       "                          0D        1D         3M        6M        1Y  \\\n",
       "TRY Weigted Sensitivity  0.0  0.000000   1.340353  2.769509  9.909663   \n",
       "USD Weigted Sensitivity  0.0  3.107141  13.224858 -1.306732 -5.455715   \n",
       "\n",
       "                                2Y         3Y          4Y           5Y  \\\n",
       "TRY Weigted Sensitivity  32.676717  78.209614  199.087451  1645.003352   \n",
       "USD Weigted Sensitivity -17.990003 -43.057912 -109.606601  -905.648371   \n",
       "\n",
       "                                  6Y   7Y   8Y   9Y  10Y  15Y  20Y  25Y  30Y  \\\n",
       "TRY Weigted Sensitivity  2585.982248  0.0  0.0  0.0  0.0  0.0  0.0  0.0  0.0   \n",
       "USD Weigted Sensitivity -1423.699597  0.0  0.0  0.0  0.0  0.0  0.0  0.0  0.0   \n",
       "\n",
       "                         40Y  50Y  \n",
       "TRY Weigted Sensitivity  0.0  0.0  \n",
       "USD Weigted Sensitivity  0.0  0.0  "
      ]
     },
     "execution_count": 14,
     "metadata": {},
     "output_type": "execute_result"
    }
   ],
   "source": [
    "#After calculating the sensitivity, we calculate the weighted sensitivity with the data coming from the regulator.\n",
    "#Data from the regulator are hypothetical.\n",
    "\n",
    "formula = r\"WS_k = RW_k s_k\"\n",
    "display(Math(formula))\n",
    "\n",
    "sensitivities=results.get(\"weighted_sensitivities\")\n",
    "sensitivities_df = pd.concat(sensitivities, axis=1)\n",
    "sensitivities_df.columns = [f\"{col} Weigted Sensitivity\" for col in sensitivities.keys()] \n",
    "sensitivities_df.T\n"
   ]
  },
  {
   "cell_type": "code",
   "execution_count": 20,
   "id": "68d66b25",
   "metadata": {},
   "outputs": [
    {
     "data": {
      "text/latex": [
       "$\\displaystyle K_b = \\sqrt{\\sum_{k=1}^{n} WS_k^2 + \\sum_{k=1}^{n-1} \\sum_{l=k+1}^{n} \\rho_{kl} WS_k WS_l}$"
      ],
      "text/plain": [
       "<IPython.core.display.Math object>"
      ]
     },
     "metadata": {},
     "output_type": "display_data"
    },
    {
     "data": {
      "text/html": [
       "<div>\n",
       "<style scoped>\n",
       "    .dataframe tbody tr th:only-of-type {\n",
       "        vertical-align: middle;\n",
       "    }\n",
       "\n",
       "    .dataframe tbody tr th {\n",
       "        vertical-align: top;\n",
       "    }\n",
       "\n",
       "    .dataframe thead th {\n",
       "        text-align: right;\n",
       "    }\n",
       "</style>\n",
       "<table border=\"1\" class=\"dataframe\">\n",
       "  <thead>\n",
       "    <tr style=\"text-align: right;\">\n",
       "      <th></th>\n",
       "      <th>bucket</th>\n",
       "      <th>level</th>\n",
       "      <th>Kb</th>\n",
       "      <th>Sb</th>\n",
       "    </tr>\n",
       "  </thead>\n",
       "  <tbody>\n",
       "    <tr>\n",
       "      <th>0</th>\n",
       "      <td>TRY</td>\n",
       "      <td>Low</td>\n",
       "      <td>4388.779391</td>\n",
       "      <td>4554.978908</td>\n",
       "    </tr>\n",
       "    <tr>\n",
       "      <th>1</th>\n",
       "      <td>TRY</td>\n",
       "      <td>Medium</td>\n",
       "      <td>4466.314680</td>\n",
       "      <td>4554.978908</td>\n",
       "    </tr>\n",
       "    <tr>\n",
       "      <th>2</th>\n",
       "      <td>TRY</td>\n",
       "      <td>High</td>\n",
       "      <td>4542.526732</td>\n",
       "      <td>4554.978908</td>\n",
       "    </tr>\n",
       "    <tr>\n",
       "      <th>3</th>\n",
       "      <td>USD</td>\n",
       "      <td>Low</td>\n",
       "      <td>2414.413390</td>\n",
       "      <td>-2490.432933</td>\n",
       "    </tr>\n",
       "    <tr>\n",
       "      <th>4</th>\n",
       "      <td>USD</td>\n",
       "      <td>Medium</td>\n",
       "      <td>2456.526803</td>\n",
       "      <td>-2490.432933</td>\n",
       "    </tr>\n",
       "    <tr>\n",
       "      <th>5</th>\n",
       "      <td>USD</td>\n",
       "      <td>High</td>\n",
       "      <td>2497.930312</td>\n",
       "      <td>-2490.432933</td>\n",
       "    </tr>\n",
       "  </tbody>\n",
       "</table>\n",
       "</div>"
      ],
      "text/plain": [
       "  bucket   level           Kb           Sb\n",
       "0    TRY     Low  4388.779391  4554.978908\n",
       "1    TRY  Medium  4466.314680  4554.978908\n",
       "2    TRY    High  4542.526732  4554.978908\n",
       "3    USD     Low  2414.413390 -2490.432933\n",
       "4    USD  Medium  2456.526803 -2490.432933\n",
       "5    USD    High  2497.930312 -2490.432933"
      ]
     },
     "execution_count": 20,
     "metadata": {},
     "output_type": "execute_result"
    }
   ],
   "source": [
    "# Calculate deltas using correlation data\n",
    "\n",
    "formula = r\"K_b = \\sqrt{\\sum_{k=1}^{n} WS_k^2 + \\sum_{k=1}^{n-1} \\sum_{l=k+1}^{n} \\rho_{kl} WS_k WS_l}\"\n",
    "display(Math(formula))\n",
    "\n",
    "results.get(\"delta\")"
   ]
  },
  {
   "cell_type": "code",
   "execution_count": 21,
   "id": "631072ec",
   "metadata": {},
   "outputs": [
    {
     "data": {
      "text/latex": [
       "$\\displaystyle \n",
       "\\text{RiskCapital} = \\sqrt{\\sum_{i=1}^{m} K_i^2 + \\sum_{i=1}^{m-1} \\sum_{j=i+1}^{m} \\gamma_{ij} S_i S_j}\n",
       "$"
      ],
      "text/plain": [
       "<IPython.core.display.Math object>"
      ]
     },
     "metadata": {},
     "output_type": "display_data"
    },
    {
     "data": {
      "text/plain": [
       "{'Medium': 6448.930943822323,\n",
       " 'Low': 6597.951461646266,\n",
       " 'High': 6296.38445031258}"
      ]
     },
     "execution_count": 21,
     "metadata": {},
     "output_type": "execute_result"
    }
   ],
   "source": [
    "formula = r\"\"\"\n",
    "\\text{RiskCapital} = \\sqrt{\\sum_{i=1}^{m} K_i^2 + \\sum_{i=1}^{m-1} \\sum_{j=i+1}^{m} \\gamma_{ij} S_i S_j}\n",
    "\"\"\"\n",
    "\n",
    "display(Math(formula))\n",
    "\n",
    "\n",
    "#Calculate Risk capital\n",
    "results.get(\"riskcapital\")"
   ]
  }
 ],
 "metadata": {
  "kernelspec": {
   "display_name": "Python 3 (ipykernel)",
   "language": "python",
   "name": "python3"
  },
  "language_info": {
   "codemirror_mode": {
    "name": "ipython",
    "version": 3
   },
   "file_extension": ".py",
   "mimetype": "text/x-python",
   "name": "python",
   "nbconvert_exporter": "python",
   "pygments_lexer": "ipython3",
   "version": "3.9.21"
  }
 },
 "nbformat": 4,
 "nbformat_minor": 5
}
